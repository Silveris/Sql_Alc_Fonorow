{
 "cells": [
  {
   "cell_type": "code",
   "execution_count": 7,
   "metadata": {},
   "outputs": [
    {
     "ename": "ImportError",
     "evalue": "cannot import name 'rc_params_from_file' from 'matplotlib' (unknown location)",
     "output_type": "error",
     "traceback": [
      "\u001b[1;31m---------------------------------------------------------------------------\u001b[0m",
      "\u001b[1;31mImportError\u001b[0m                               Traceback (most recent call last)",
      "\u001b[1;32m<ipython-input-7-afba260a08f2>\u001b[0m in \u001b[0;36m<module>\u001b[1;34m\u001b[0m\n\u001b[1;32m----> 1\u001b[1;33m \u001b[1;32mfrom\u001b[0m \u001b[0mmatplotlib\u001b[0m \u001b[1;32mimport\u001b[0m \u001b[0mstyle\u001b[0m\u001b[1;33m\u001b[0m\u001b[1;33m\u001b[0m\u001b[0m\n\u001b[0m\u001b[0;32m      2\u001b[0m \u001b[0mstyle\u001b[0m\u001b[1;33m.\u001b[0m\u001b[0muse\u001b[0m\u001b[1;33m(\u001b[0m\u001b[1;34m'fivethirtyeight'\u001b[0m\u001b[1;33m)\u001b[0m\u001b[1;33m\u001b[0m\u001b[1;33m\u001b[0m\u001b[0m\n\u001b[0;32m      3\u001b[0m \u001b[1;32mimport\u001b[0m \u001b[0mmatplotlib\u001b[0m\u001b[1;33m.\u001b[0m\u001b[0mpyplot\u001b[0m \u001b[1;32mas\u001b[0m \u001b[0mplt\u001b[0m\u001b[1;33m\u001b[0m\u001b[1;33m\u001b[0m\u001b[0m\n",
      "\u001b[1;32m~\\anaconda3\\lib\\site-packages\\matplotlib\\style\\__init__.py\u001b[0m in \u001b[0;36m<module>\u001b[1;34m\u001b[0m\n\u001b[1;32m----> 1\u001b[1;33m \u001b[1;32mfrom\u001b[0m \u001b[1;33m.\u001b[0m\u001b[0mcore\u001b[0m \u001b[1;32mimport\u001b[0m \u001b[0muse\u001b[0m\u001b[1;33m,\u001b[0m \u001b[0mcontext\u001b[0m\u001b[1;33m,\u001b[0m \u001b[0mavailable\u001b[0m\u001b[1;33m,\u001b[0m \u001b[0mlibrary\u001b[0m\u001b[1;33m,\u001b[0m \u001b[0mreload_library\u001b[0m\u001b[1;33m\u001b[0m\u001b[1;33m\u001b[0m\u001b[0m\n\u001b[0m",
      "\u001b[1;32m~\\anaconda3\\lib\\site-packages\\matplotlib\\style\\core.py\u001b[0m in \u001b[0;36m<module>\u001b[1;34m\u001b[0m\n\u001b[0;32m     19\u001b[0m \u001b[1;33m\u001b[0m\u001b[0m\n\u001b[0;32m     20\u001b[0m \u001b[1;32mimport\u001b[0m \u001b[0mmatplotlib\u001b[0m \u001b[1;32mas\u001b[0m \u001b[0mmpl\u001b[0m\u001b[1;33m\u001b[0m\u001b[1;33m\u001b[0m\u001b[0m\n\u001b[1;32m---> 21\u001b[1;33m \u001b[1;32mfrom\u001b[0m \u001b[0mmatplotlib\u001b[0m \u001b[1;32mimport\u001b[0m \u001b[0mcbook\u001b[0m\u001b[1;33m,\u001b[0m \u001b[0mrc_params_from_file\u001b[0m\u001b[1;33m,\u001b[0m \u001b[0mrcParamsDefault\u001b[0m\u001b[1;33m\u001b[0m\u001b[1;33m\u001b[0m\u001b[0m\n\u001b[0m\u001b[0;32m     22\u001b[0m \u001b[1;33m\u001b[0m\u001b[0m\n\u001b[0;32m     23\u001b[0m \u001b[0m_log\u001b[0m \u001b[1;33m=\u001b[0m \u001b[0mlogging\u001b[0m\u001b[1;33m.\u001b[0m\u001b[0mgetLogger\u001b[0m\u001b[1;33m(\u001b[0m\u001b[0m__name__\u001b[0m\u001b[1;33m)\u001b[0m\u001b[1;33m\u001b[0m\u001b[1;33m\u001b[0m\u001b[0m\n",
      "\u001b[1;31mImportError\u001b[0m: cannot import name 'rc_params_from_file' from 'matplotlib' (unknown location)"
     ]
    }
   ],
   "source": [
    "from matplotlib import style\n",
    "style.use('fivethirtyeight')\n",
    "import matplotlib.pyplot as plt"
   ]
  },
  {
   "cell_type": "code",
   "execution_count": 3,
   "metadata": {},
   "outputs": [],
   "source": [
    "import numpy as np\n",
    "import pandas as pd"
   ]
  },
  {
   "cell_type": "code",
   "execution_count": 4,
   "metadata": {},
   "outputs": [],
   "source": [
    "import datetime as dt"
   ]
  },
  {
   "cell_type": "markdown",
   "metadata": {},
   "source": [
    "# Reflect Tables into SQLAlchemy ORM"
   ]
  },
  {
   "cell_type": "code",
   "execution_count": 5,
   "metadata": {},
   "outputs": [],
   "source": [
    "# Python SQL toolkit and Object Relational Mapper\n",
    "import sqlalchemy\n",
    "from sqlalchemy.ext.automap import automap_base\n",
    "from sqlalchemy.orm import Session\n",
    "from sqlalchemy import create_engine\n",
    "from sqlalchemy import func"
   ]
  },
  {
   "cell_type": "code",
   "execution_count": 6,
   "metadata": {},
   "outputs": [],
   "source": [
    "engine = create_engine(\"sqlite:///Resources/hawaii.sqlite\", echo=False)"
   ]
  },
  {
   "cell_type": "code",
   "execution_count": 7,
   "metadata": {},
   "outputs": [
    {
     "data": {
      "text/plain": [
       "['measurement', 'station']"
      ]
     },
     "execution_count": 7,
     "metadata": {},
     "output_type": "execute_result"
    }
   ],
   "source": [
    "Base = automap_base()\n",
    "Base.prepare(engine, reflect=True)\n",
    "Base.classes.keys()"
   ]
  },
  {
   "cell_type": "code",
   "execution_count": 8,
   "metadata": {},
   "outputs": [],
   "source": [
    "Measurement = Base.classes.measurement\n",
    "Station = Base.classes.station"
   ]
  },
  {
   "cell_type": "code",
   "execution_count": 9,
   "metadata": {},
   "outputs": [],
   "source": [
    "session = Session(engine)"
   ]
  },
  {
   "cell_type": "code",
   "execution_count": 10,
   "metadata": {},
   "outputs": [],
   "source": [
    "# measure_data = session.query(Measurment.date, Measurment.id, Measurment.prcp, \n",
    "#                              Measurment.station, Measurment.tobs).all()\n",
    "# station_data = session.query(Station.elevation, Station.id, Station.latitude, Station.longitude,\n",
    "#              Station.name, Station.station).all()\n"
   ]
  },
  {
   "cell_type": "code",
   "execution_count": 11,
   "metadata": {},
   "outputs": [],
   "source": [
    "latest_date = session.query(Measurement.prcp, Measurement.date).order_by(Measurement.date.desc())\n",
    "date = []\n",
    "precipitation = []\n",
    "year_data = latest_date.filter(Measurement.date >= '2016-08-23' )\n",
    "for precip in year_data:\n",
    "    date.append(precip.date)\n",
    "    precipitation.append(precip.prcp)"
   ]
  },
  {
   "cell_type": "code",
   "execution_count": 71,
   "metadata": {},
   "outputs": [],
   "source": [
    "latest_date = session.query(Measurement.tobs,Measurement.station, Measurement.date).order_by(Measurement.date.desc())\n",
    "date_2 = []\n",
    "tobs = []\n",
    "stations = []\n",
    "year_data = latest_date.filter(Measurement.date >= '2016-08-23' )\n",
    "for tob in year_data:\n",
    "    date_2.append(tob.date)\n",
    "    tobs.append(tob.tobs)\n",
    "    stations.append(tob.station)"
   ]
  },
  {
   "cell_type": "code",
   "execution_count": 72,
   "metadata": {},
   "outputs": [],
   "source": [
    "data = session.query(Measurement.tobs,Measurement.station, Measurement.date)\n",
    "date_3 = []\n",
    "tobs_2 = []\n",
    "stations_2 = []\n",
    "for thing in data:\n",
    "    date_3.append(thing.date)\n",
    "    tobs_2.append(thing.tobs)\n",
    "    stations_2.append(thing.station)"
   ]
  },
  {
   "cell_type": "code",
   "execution_count": 73,
   "metadata": {},
   "outputs": [
    {
     "data": {
      "text/html": [
       "<div>\n",
       "<style scoped>\n",
       "    .dataframe tbody tr th:only-of-type {\n",
       "        vertical-align: middle;\n",
       "    }\n",
       "\n",
       "    .dataframe tbody tr th {\n",
       "        vertical-align: top;\n",
       "    }\n",
       "\n",
       "    .dataframe thead th {\n",
       "        text-align: right;\n",
       "    }\n",
       "</style>\n",
       "<table border=\"1\" class=\"dataframe\">\n",
       "  <thead>\n",
       "    <tr style=\"text-align: right;\">\n",
       "      <th></th>\n",
       "      <th>Date</th>\n",
       "      <th>Temp</th>\n",
       "      <th>Station</th>\n",
       "    </tr>\n",
       "  </thead>\n",
       "  <tbody>\n",
       "    <tr>\n",
       "      <th>0</th>\n",
       "      <td>2010-01-01</td>\n",
       "      <td>65.0</td>\n",
       "      <td>USC00519397</td>\n",
       "    </tr>\n",
       "    <tr>\n",
       "      <th>1</th>\n",
       "      <td>2010-01-02</td>\n",
       "      <td>63.0</td>\n",
       "      <td>USC00519397</td>\n",
       "    </tr>\n",
       "    <tr>\n",
       "      <th>2</th>\n",
       "      <td>2010-01-03</td>\n",
       "      <td>74.0</td>\n",
       "      <td>USC00519397</td>\n",
       "    </tr>\n",
       "    <tr>\n",
       "      <th>3</th>\n",
       "      <td>2010-01-04</td>\n",
       "      <td>76.0</td>\n",
       "      <td>USC00519397</td>\n",
       "    </tr>\n",
       "    <tr>\n",
       "      <th>4</th>\n",
       "      <td>2010-01-06</td>\n",
       "      <td>73.0</td>\n",
       "      <td>USC00519397</td>\n",
       "    </tr>\n",
       "    <tr>\n",
       "      <th>...</th>\n",
       "      <td>...</td>\n",
       "      <td>...</td>\n",
       "      <td>...</td>\n",
       "    </tr>\n",
       "    <tr>\n",
       "      <th>19545</th>\n",
       "      <td>2017-08-19</td>\n",
       "      <td>71.0</td>\n",
       "      <td>USC00516128</td>\n",
       "    </tr>\n",
       "    <tr>\n",
       "      <th>19546</th>\n",
       "      <td>2017-08-20</td>\n",
       "      <td>78.0</td>\n",
       "      <td>USC00516128</td>\n",
       "    </tr>\n",
       "    <tr>\n",
       "      <th>19547</th>\n",
       "      <td>2017-08-21</td>\n",
       "      <td>76.0</td>\n",
       "      <td>USC00516128</td>\n",
       "    </tr>\n",
       "    <tr>\n",
       "      <th>19548</th>\n",
       "      <td>2017-08-22</td>\n",
       "      <td>76.0</td>\n",
       "      <td>USC00516128</td>\n",
       "    </tr>\n",
       "    <tr>\n",
       "      <th>19549</th>\n",
       "      <td>2017-08-23</td>\n",
       "      <td>76.0</td>\n",
       "      <td>USC00516128</td>\n",
       "    </tr>\n",
       "  </tbody>\n",
       "</table>\n",
       "<p>19550 rows × 3 columns</p>\n",
       "</div>"
      ],
      "text/plain": [
       "             Date  Temp      Station\n",
       "0      2010-01-01  65.0  USC00519397\n",
       "1      2010-01-02  63.0  USC00519397\n",
       "2      2010-01-03  74.0  USC00519397\n",
       "3      2010-01-04  76.0  USC00519397\n",
       "4      2010-01-06  73.0  USC00519397\n",
       "...           ...   ...          ...\n",
       "19545  2017-08-19  71.0  USC00516128\n",
       "19546  2017-08-20  78.0  USC00516128\n",
       "19547  2017-08-21  76.0  USC00516128\n",
       "19548  2017-08-22  76.0  USC00516128\n",
       "19549  2017-08-23  76.0  USC00516128\n",
       "\n",
       "[19550 rows x 3 columns]"
      ]
     },
     "execution_count": 73,
     "metadata": {},
     "output_type": "execute_result"
    }
   ],
   "source": [
    "df_all_stations = pd.DataFrame({'Date' : date_3, 'Temp' : tobs_2, 'Station' : stations_2})\n",
    "df_all_stations"
   ]
  },
  {
   "cell_type": "code",
   "execution_count": 76,
   "metadata": {},
   "outputs": [],
   "source": [
    "high_obv_station = df_all_stations['Station'].value_counts().head(1)\n",
    "station_name = high_obv_station.index[0]"
   ]
  },
  {
   "cell_type": "code",
   "execution_count": 77,
   "metadata": {},
   "outputs": [
    {
     "data": {
      "text/plain": [
       "'USC00519281'"
      ]
     },
     "execution_count": 77,
     "metadata": {},
     "output_type": "execute_result"
    }
   ],
   "source": [
    "station_name"
   ]
  },
  {
   "cell_type": "code",
   "execution_count": 78,
   "metadata": {},
   "outputs": [],
   "source": [
    "df_highest_station = df_all_stations.loc[df_all_stations['Station']==station_name]"
   ]
  },
  {
   "cell_type": "code",
   "execution_count": 86,
   "metadata": {},
   "outputs": [
    {
     "name": "stderr",
     "output_type": "stream",
     "text": [
      "C:\\Users\\davef\\anaconda3\\lib\\site-packages\\ipykernel_launcher.py:2: SettingWithCopyWarning: \n",
      "A value is trying to be set on a copy of a slice from a DataFrame.\n",
      "Try using .loc[row_indexer,col_indexer] = value instead\n",
      "\n",
      "See the caveats in the documentation: https://pandas.pydata.org/pandas-docs/stable/user_guide/indexing.html#returning-a-view-versus-a-copy\n",
      "  \n"
     ]
    }
   ],
   "source": [
    "#'2016-08-23'\n",
    "df_highest_station['Date'] = pd.to_datetime(df_highest_station['Date'])"
   ]
  },
  {
   "cell_type": "code",
   "execution_count": 91,
   "metadata": {},
   "outputs": [],
   "source": [
    "df_highest_station_graphing = df_highest_station[(df_highest_station['Date'] > '2016-08-23')]"
   ]
  },
  {
   "cell_type": "code",
   "execution_count": 92,
   "metadata": {},
   "outputs": [
    {
     "data": {
      "text/html": [
       "<div>\n",
       "<style scoped>\n",
       "    .dataframe tbody tr th:only-of-type {\n",
       "        vertical-align: middle;\n",
       "    }\n",
       "\n",
       "    .dataframe tbody tr th {\n",
       "        vertical-align: top;\n",
       "    }\n",
       "\n",
       "    .dataframe thead th {\n",
       "        text-align: right;\n",
       "    }\n",
       "</style>\n",
       "<table border=\"1\" class=\"dataframe\">\n",
       "  <thead>\n",
       "    <tr style=\"text-align: right;\">\n",
       "      <th></th>\n",
       "      <th>Date</th>\n",
       "      <th>Temp</th>\n",
       "      <th>Station</th>\n",
       "    </tr>\n",
       "  </thead>\n",
       "  <tbody>\n",
       "    <tr>\n",
       "      <th>14608</th>\n",
       "      <td>2016-08-24</td>\n",
       "      <td>77.0</td>\n",
       "      <td>USC00519281</td>\n",
       "    </tr>\n",
       "    <tr>\n",
       "      <th>14609</th>\n",
       "      <td>2016-08-25</td>\n",
       "      <td>80.0</td>\n",
       "      <td>USC00519281</td>\n",
       "    </tr>\n",
       "    <tr>\n",
       "      <th>14610</th>\n",
       "      <td>2016-08-26</td>\n",
       "      <td>80.0</td>\n",
       "      <td>USC00519281</td>\n",
       "    </tr>\n",
       "    <tr>\n",
       "      <th>14611</th>\n",
       "      <td>2016-08-27</td>\n",
       "      <td>75.0</td>\n",
       "      <td>USC00519281</td>\n",
       "    </tr>\n",
       "    <tr>\n",
       "      <th>14612</th>\n",
       "      <td>2016-08-28</td>\n",
       "      <td>73.0</td>\n",
       "      <td>USC00519281</td>\n",
       "    </tr>\n",
       "    <tr>\n",
       "      <th>...</th>\n",
       "      <td>...</td>\n",
       "      <td>...</td>\n",
       "      <td>...</td>\n",
       "    </tr>\n",
       "    <tr>\n",
       "      <th>14954</th>\n",
       "      <td>2017-08-14</td>\n",
       "      <td>77.0</td>\n",
       "      <td>USC00519281</td>\n",
       "    </tr>\n",
       "    <tr>\n",
       "      <th>14955</th>\n",
       "      <td>2017-08-15</td>\n",
       "      <td>77.0</td>\n",
       "      <td>USC00519281</td>\n",
       "    </tr>\n",
       "    <tr>\n",
       "      <th>14956</th>\n",
       "      <td>2017-08-16</td>\n",
       "      <td>76.0</td>\n",
       "      <td>USC00519281</td>\n",
       "    </tr>\n",
       "    <tr>\n",
       "      <th>14957</th>\n",
       "      <td>2017-08-17</td>\n",
       "      <td>76.0</td>\n",
       "      <td>USC00519281</td>\n",
       "    </tr>\n",
       "    <tr>\n",
       "      <th>14958</th>\n",
       "      <td>2017-08-18</td>\n",
       "      <td>79.0</td>\n",
       "      <td>USC00519281</td>\n",
       "    </tr>\n",
       "  </tbody>\n",
       "</table>\n",
       "<p>351 rows × 3 columns</p>\n",
       "</div>"
      ],
      "text/plain": [
       "            Date  Temp      Station\n",
       "14608 2016-08-24  77.0  USC00519281\n",
       "14609 2016-08-25  80.0  USC00519281\n",
       "14610 2016-08-26  80.0  USC00519281\n",
       "14611 2016-08-27  75.0  USC00519281\n",
       "14612 2016-08-28  73.0  USC00519281\n",
       "...          ...   ...          ...\n",
       "14954 2017-08-14  77.0  USC00519281\n",
       "14955 2017-08-15  77.0  USC00519281\n",
       "14956 2017-08-16  76.0  USC00519281\n",
       "14957 2017-08-17  76.0  USC00519281\n",
       "14958 2017-08-18  79.0  USC00519281\n",
       "\n",
       "[351 rows x 3 columns]"
      ]
     },
     "execution_count": 92,
     "metadata": {},
     "output_type": "execute_result"
    }
   ],
   "source": [
    "df_highest_station_graphing"
   ]
  },
  {
   "cell_type": "code",
   "execution_count": 43,
   "metadata": {},
   "outputs": [],
   "source": [
    "# stations"
   ]
  },
  {
   "cell_type": "code",
   "execution_count": 13,
   "metadata": {
    "scrolled": true
   },
   "outputs": [],
   "source": [
    "# session.query(Measurement.date, Measurement.prcp).filter().all()"
   ]
  },
  {
   "cell_type": "code",
   "execution_count": 14,
   "metadata": {},
   "outputs": [],
   "source": [
    "# prcp_data = session.query(Measurment.prcp).all()"
   ]
  },
  {
   "cell_type": "code",
   "execution_count": 15,
   "metadata": {},
   "outputs": [],
   "source": [
    "df_prcp_base = pd.DataFrame({'Date' : date, 'Precipitation_Inches' : precipitation})"
   ]
  },
  {
   "cell_type": "code",
   "execution_count": 16,
   "metadata": {},
   "outputs": [],
   "source": [
    "df_sorted = df_prcp_base.sort_values(['Date']).copy()"
   ]
  },
  {
   "cell_type": "code",
   "execution_count": 17,
   "metadata": {},
   "outputs": [],
   "source": [
    "df_tobs_base = pd.DataFrame({'Date' : date_2, 'Temp' : tobs})"
   ]
  },
  {
   "cell_type": "code",
   "execution_count": 18,
   "metadata": {},
   "outputs": [
    {
     "data": {
      "text/html": [
       "<div>\n",
       "<style scoped>\n",
       "    .dataframe tbody tr th:only-of-type {\n",
       "        vertical-align: middle;\n",
       "    }\n",
       "\n",
       "    .dataframe tbody tr th {\n",
       "        vertical-align: top;\n",
       "    }\n",
       "\n",
       "    .dataframe thead th {\n",
       "        text-align: right;\n",
       "    }\n",
       "</style>\n",
       "<table border=\"1\" class=\"dataframe\">\n",
       "  <thead>\n",
       "    <tr style=\"text-align: right;\">\n",
       "      <th></th>\n",
       "      <th>Date</th>\n",
       "      <th>Temp</th>\n",
       "    </tr>\n",
       "  </thead>\n",
       "  <tbody>\n",
       "    <tr>\n",
       "      <th>0</th>\n",
       "      <td>2017-08-23</td>\n",
       "      <td>81.0</td>\n",
       "    </tr>\n",
       "    <tr>\n",
       "      <th>1</th>\n",
       "      <td>2017-08-23</td>\n",
       "      <td>82.0</td>\n",
       "    </tr>\n",
       "    <tr>\n",
       "      <th>2</th>\n",
       "      <td>2017-08-23</td>\n",
       "      <td>82.0</td>\n",
       "    </tr>\n",
       "    <tr>\n",
       "      <th>3</th>\n",
       "      <td>2017-08-23</td>\n",
       "      <td>76.0</td>\n",
       "    </tr>\n",
       "    <tr>\n",
       "      <th>4</th>\n",
       "      <td>2017-08-22</td>\n",
       "      <td>82.0</td>\n",
       "    </tr>\n",
       "    <tr>\n",
       "      <th>...</th>\n",
       "      <td>...</td>\n",
       "      <td>...</td>\n",
       "    </tr>\n",
       "    <tr>\n",
       "      <th>2225</th>\n",
       "      <td>2016-08-23</td>\n",
       "      <td>80.0</td>\n",
       "    </tr>\n",
       "    <tr>\n",
       "      <th>2226</th>\n",
       "      <td>2016-08-23</td>\n",
       "      <td>80.0</td>\n",
       "    </tr>\n",
       "    <tr>\n",
       "      <th>2227</th>\n",
       "      <td>2016-08-23</td>\n",
       "      <td>80.0</td>\n",
       "    </tr>\n",
       "    <tr>\n",
       "      <th>2228</th>\n",
       "      <td>2016-08-23</td>\n",
       "      <td>77.0</td>\n",
       "    </tr>\n",
       "    <tr>\n",
       "      <th>2229</th>\n",
       "      <td>2016-08-23</td>\n",
       "      <td>74.0</td>\n",
       "    </tr>\n",
       "  </tbody>\n",
       "</table>\n",
       "<p>2230 rows × 2 columns</p>\n",
       "</div>"
      ],
      "text/plain": [
       "            Date  Temp\n",
       "0     2017-08-23  81.0\n",
       "1     2017-08-23  82.0\n",
       "2     2017-08-23  82.0\n",
       "3     2017-08-23  76.0\n",
       "4     2017-08-22  82.0\n",
       "...          ...   ...\n",
       "2225  2016-08-23  80.0\n",
       "2226  2016-08-23  80.0\n",
       "2227  2016-08-23  80.0\n",
       "2228  2016-08-23  77.0\n",
       "2229  2016-08-23  74.0\n",
       "\n",
       "[2230 rows x 2 columns]"
      ]
     },
     "execution_count": 18,
     "metadata": {},
     "output_type": "execute_result"
    }
   ],
   "source": [
    "df_tobs_base"
   ]
  },
  {
   "cell_type": "code",
   "execution_count": 19,
   "metadata": {},
   "outputs": [],
   "source": [
    "# df_prcp_base.sort_values(['Date']).copy()"
   ]
  },
  {
   "cell_type": "code",
   "execution_count": 20,
   "metadata": {},
   "outputs": [],
   "source": [
    "df_sorted = df_sorted.set_index(['Date'])"
   ]
  },
  {
   "cell_type": "code",
   "execution_count": 21,
   "metadata": {},
   "outputs": [
    {
     "data": {
      "text/html": [
       "<div>\n",
       "<style scoped>\n",
       "    .dataframe tbody tr th:only-of-type {\n",
       "        vertical-align: middle;\n",
       "    }\n",
       "\n",
       "    .dataframe tbody tr th {\n",
       "        vertical-align: top;\n",
       "    }\n",
       "\n",
       "    .dataframe thead th {\n",
       "        text-align: right;\n",
       "    }\n",
       "</style>\n",
       "<table border=\"1\" class=\"dataframe\">\n",
       "  <thead>\n",
       "    <tr style=\"text-align: right;\">\n",
       "      <th></th>\n",
       "      <th>Precipitation_Inches</th>\n",
       "    </tr>\n",
       "    <tr>\n",
       "      <th>Date</th>\n",
       "      <th></th>\n",
       "    </tr>\n",
       "  </thead>\n",
       "  <tbody>\n",
       "    <tr>\n",
       "      <th>2016-08-23</th>\n",
       "      <td>0.70</td>\n",
       "    </tr>\n",
       "    <tr>\n",
       "      <th>2016-08-23</th>\n",
       "      <td>0.00</td>\n",
       "    </tr>\n",
       "    <tr>\n",
       "      <th>2016-08-23</th>\n",
       "      <td>0.15</td>\n",
       "    </tr>\n",
       "    <tr>\n",
       "      <th>2016-08-23</th>\n",
       "      <td>1.79</td>\n",
       "    </tr>\n",
       "    <tr>\n",
       "      <th>2016-08-23</th>\n",
       "      <td>NaN</td>\n",
       "    </tr>\n",
       "    <tr>\n",
       "      <th>...</th>\n",
       "      <td>...</td>\n",
       "    </tr>\n",
       "    <tr>\n",
       "      <th>2017-08-22</th>\n",
       "      <td>0.00</td>\n",
       "    </tr>\n",
       "    <tr>\n",
       "      <th>2017-08-23</th>\n",
       "      <td>0.45</td>\n",
       "    </tr>\n",
       "    <tr>\n",
       "      <th>2017-08-23</th>\n",
       "      <td>0.08</td>\n",
       "    </tr>\n",
       "    <tr>\n",
       "      <th>2017-08-23</th>\n",
       "      <td>0.00</td>\n",
       "    </tr>\n",
       "    <tr>\n",
       "      <th>2017-08-23</th>\n",
       "      <td>0.00</td>\n",
       "    </tr>\n",
       "  </tbody>\n",
       "</table>\n",
       "<p>2230 rows × 1 columns</p>\n",
       "</div>"
      ],
      "text/plain": [
       "            Precipitation_Inches\n",
       "Date                            \n",
       "2016-08-23                  0.70\n",
       "2016-08-23                  0.00\n",
       "2016-08-23                  0.15\n",
       "2016-08-23                  1.79\n",
       "2016-08-23                   NaN\n",
       "...                          ...\n",
       "2017-08-22                  0.00\n",
       "2017-08-23                  0.45\n",
       "2017-08-23                  0.08\n",
       "2017-08-23                  0.00\n",
       "2017-08-23                  0.00\n",
       "\n",
       "[2230 rows x 1 columns]"
      ]
     },
     "execution_count": 21,
     "metadata": {},
     "output_type": "execute_result"
    }
   ],
   "source": [
    "df_sorted"
   ]
  },
  {
   "cell_type": "code",
   "execution_count": 22,
   "metadata": {},
   "outputs": [
    {
     "data": {
      "image/png": "[encoded data removed]",
      "text/plain": [
       "<Figure size 432x288 with 1 Axes>"
      ]
     },
     "metadata": {
      "needs_background": "light"
     },
     "output_type": "display_data"
    }
   ],
   "source": [
    "plt.close()\n",
    "xticks = np.arange(0,2230,250)\n",
    "xlabels = [df_sorted.iloc[i].name for i in xticks]\n",
    "\n",
    "df_sorted.plot(y = 'Precipitation_Inches', rot=90)\n",
    "plt.grid(color='grey', linestyle='-', linewidth=2, alpha=0.5)\n",
    "plt.xticks(np.arange(0,2230,250), labels= xlabels)\n",
    "plt.ylabel('Inches')\n",
    "\n",
    "plt.show()"
   ]
  },
  {
   "cell_type": "code",
   "execution_count": 23,
   "metadata": {},
   "outputs": [],
   "source": [
    "df_tobs_base['Frequency'] = df_tobs_base['Temp']"
   ]
  },
  {
   "cell_type": "code",
   "execution_count": 24,
   "metadata": {},
   "outputs": [],
   "source": [
    "df_tobs_sorted = df_tobs_base.drop(['Date'],axis=1).groupby(['Temp'], as_index=False).agg({'Frequency' : 'count'})"
   ]
  },
  {
   "cell_type": "code",
   "execution_count": 93,
   "metadata": {},
   "outputs": [
    {
     "data": {
      "image/png": "[encoded data removed]",
      "text/plain": [
       "<Figure size 432x288 with 1 Axes>"
      ]
     },
     "metadata": {
      "needs_background": "light"
     },
     "output_type": "display_data"
    }
   ],
   "source": [
    "plt.close()\n",
    "df_highest_station_graphing.hist(column='Temp' ,bins=12)\n",
    "plt.grid(color='grey', linestyle='-', linewidth=2, alpha=0.5)\n",
    "plt.ylabel('Frequency')\n",
    "plt.xlabel('Temperature')\n",
    "plt.show()"
   ]
  },
  {
   "cell_type": "code",
   "execution_count": 67,
   "metadata": {},
   "outputs": [
    {
     "data": {
      "text/plain": [
       "80.0    48\n",
       "79.0    41\n",
       "77.0    38\n",
       "78.0    36\n",
       "76.0    24\n",
       "75.0    21\n",
       "71.0    21\n",
       "81.0    20\n",
       "72.0    17\n",
       "74.0    16\n",
       "73.0    13\n",
       "69.0    10\n",
       "70.0     9\n",
       "66.0     8\n",
       "68.0     7\n",
       "67.0     7\n",
       "64.0     5\n",
       "63.0     4\n",
       "65.0     4\n",
       "62.0     4\n",
       "82.0     3\n",
       "61.0     2\n",
       "83.0     1\n",
       "87.0     1\n",
       "60.0     1\n",
       "Name: Temp, dtype: int64"
      ]
     },
     "execution_count": 67,
     "metadata": {},
     "output_type": "execute_result"
    }
   ],
   "source": [
    "df_station['Temp'].value_counts()"
   ]
  },
  {
   "cell_type": "code",
   "execution_count": 64,
   "metadata": {},
   "outputs": [],
   "source": [
    "df_station = df_stations_base.loc[df_stations_base['Station']== station_name]"
   ]
  },
  {
   "cell_type": "code",
   "execution_count": 45,
   "metadata": {},
   "outputs": [],
   "source": [
    "df_stations_base = pd.DataFrame({'Date' : date_2, 'Temp' : tobs, 'Station' : stations})"
   ]
  },
  {
   "cell_type": "code",
   "execution_count": 52,
   "metadata": {},
   "outputs": [],
   "source": [
    "high_obv_station = df_stations_base['Station'].value_counts().head(1)"
   ]
  },
  {
   "cell_type": "code",
   "execution_count": 59,
   "metadata": {},
   "outputs": [],
   "source": [
    "station_name = high_obv_station.index[0]"
   ]
  },
  {
   "cell_type": "code",
   "execution_count": 102,
   "metadata": {},
   "outputs": [
    {
     "name": "stdout",
     "output_type": "stream",
     "text": [
      "Highest station stats\n",
      "-- Max --\n",
      "85.0\n",
      "-- Min --\n",
      "54.0\n",
      "-- Avg --\n",
      "71.66378066378067\n"
     ]
    }
   ],
   "source": [
    "print('Highest station stats')\n",
    "print('-- Max --')\n",
    "print(df_highest_station['Temp'].max())\n",
    "print('-- Min --')\n",
    "print(df_highest_station['Temp'].min())\n",
    "print('-- Avg --')\n",
    "print(df_highest_station['Temp'].mean())"
   ]
  },
  {
   "cell_type": "code",
   "execution_count": 68,
   "metadata": {},
   "outputs": [
    {
     "data": {
      "text/plain": [
       "USC00519397    361\n",
       "USC00519281    352\n",
       "USC00516128    349\n",
       "USC00513117    343\n",
       "USC00519523    337\n",
       "USC00514830    305\n",
       "USC00517948    183\n",
       "Name: Station, dtype: int64"
      ]
     },
     "execution_count": 68,
     "metadata": {},
     "output_type": "execute_result"
    }
   ],
   "source": [
    "df_stations_base['Station'].value_counts()"
   ]
  },
  {
   "cell_type": "code",
   "execution_count": null,
   "metadata": {},
   "outputs": [],
   "source": []
  },
  {
   "cell_type": "code",
   "execution_count": null,
   "metadata": {},
   "outputs": [],
   "source": [
    "# reflect an existing database into a new model\n",
    "\n",
    "# reflect the tables"
   ]
  },
  {
   "cell_type": "code",
   "execution_count": null,
   "metadata": {},
   "outputs": [],
   "source": [
    "# We can view all of the classes that automap found\n"
   ]
  },
  {
   "cell_type": "code",
   "execution_count": null,
   "metadata": {},
   "outputs": [],
   "source": [
    "# Save references to each table\n"
   ]
  },
  {
   "cell_type": "code",
   "execution_count": null,
   "metadata": {},
   "outputs": [],
   "source": [
    "# Create our session (link) from Python to the DB\n"
   ]
  },
  {
   "cell_type": "markdown",
   "metadata": {},
   "source": [
    "# Exploratory Climate Analysis"
   ]
  },
  {
   "cell_type": "code",
   "execution_count": null,
   "metadata": {},
   "outputs": [],
   "source": [
    "# Design a query to retrieve the last 12 months of precipitation data and plot the results\n",
    "\n",
    "# Calculate the date 1 year ago from the last data point in the database\n",
    "\n",
    "# Perform a query to retrieve the data and precipitation scores\n",
    "\n",
    "# Save the query results as a Pandas DataFrame and set the index to the date column\n",
    "\n",
    "# Sort the dataframe by date\n",
    "\n",
    "# Use Pandas Plotting with Matplotlib to plot the data\n"
   ]
  },
  {
   "cell_type": "code",
   "execution_count": null,
   "metadata": {},
   "outputs": [],
   "source": [
    "# Use Pandas to calcualte the summary statistics for the precipitation data"
   ]
  },
  {
   "cell_type": "code",
   "execution_count": null,
   "metadata": {},
   "outputs": [],
   "source": [
    "# Design a query to show how many stations are available in this dataset?\n"
   ]
  },
  {
   "cell_type": "code",
   "execution_count": null,
   "metadata": {},
   "outputs": [],
   "source": [
    "# What are the most active stations? (i.e. what stations have the most rows)?\n",
    "# List the stations and the counts in descending order.\n"
   ]
  },
  {
   "cell_type": "code",
   "execution_count": null,
   "metadata": {},
   "outputs": [],
   "source": [
    "# Using the station id from the previous query, calculate the lowest temperature recorded, \n",
    "# highest temperature recorded, and average temperature of the most active station?\n"
   ]
  },
  {
   "cell_type": "code",
   "execution_count": null,
   "metadata": {},
   "outputs": [],
   "source": [
    "# Choose the station with the highest number of temperature observations.\n",
    "# Query the last 12 months of temperature observation data for this station and plot the results as a histogram\n"
   ]
  },
  {
   "cell_type": "markdown",
   "metadata": {},
   "source": [
    "## Bonus Challenge Assignment"
   ]
  },
  {
   "cell_type": "code",
   "execution_count": null,
   "metadata": {},
   "outputs": [],
   "source": [
    "# This function called `calc_temps` will accept start date and end date in the format '%Y-%m-%d' \n",
    "# and return the minimum, average, and maximum temperatures for that range of dates\n",
    "def calc_temps(start_date, end_date):\n",
    "    \"\"\"TMIN, TAVG, and TMAX for a list of dates.\n",
    "    \n",
    "    Args:\n",
    "        start_date (string): A date string in the format %Y-%m-%d\n",
    "        end_date (string): A date string in the format %Y-%m-%d\n",
    "        \n",
    "    Returns:\n",
    "        TMIN, TAVE, and TMAX\n",
    "    \"\"\"\n",
    "    \n",
    "    return session.query(func.min(Measurement.tobs), func.avg(Measurement.tobs), func.max(Measurement.tobs)).\\\n",
    "        filter(Measurement.date >= start_date).filter(Measurement.date <= end_date).all()\n",
    "\n",
    "# function usage example\n",
    "print(calc_temps('2012-02-28', '2012-03-05'))"
   ]
  },
  {
   "cell_type": "code",
   "execution_count": null,
   "metadata": {},
   "outputs": [],
   "source": [
    "# Use your previous function `calc_temps` to calculate the tmin, tavg, and tmax \n",
    "# for your trip using the previous year's data for those same dates.\n"
   ]
  },
  {
   "cell_type": "code",
   "execution_count": null,
   "metadata": {},
   "outputs": [],
   "source": [
    "# Plot the results from your previous query as a bar chart. \n",
    "# Use \"Trip Avg Temp\" as your Title\n",
    "# Use the average temperature for the y value\n",
    "# Use the peak-to-peak (tmax-tmin) value as the y error bar (yerr)\n"
   ]
  },
  {
   "cell_type": "code",
   "execution_count": null,
   "metadata": {},
   "outputs": [],
   "source": [
    "# Calculate the total amount of rainfall per weather station for your trip dates using the previous year's matching dates.\n",
    "# Sort this in descending order by precipitation amount and list the station, name, latitude, longitude, and elevation\n",
    "\n"
   ]
  },
  {
   "cell_type": "code",
   "execution_count": null,
   "metadata": {},
   "outputs": [],
   "source": [
    "# Create a query that will calculate the daily normals \n",
    "# (i.e. the averages for tmin, tmax, and tavg for all historic data matching a specific month and day)\n",
    "\n",
    "def daily_normals(date):\n",
    "    \"\"\"Daily Normals.\n",
    "    \n",
    "    Args:\n",
    "        date (str): A date string in the format '%m-%d'\n",
    "        \n",
    "    Returns:\n",
    "        A list of tuples containing the daily normals, tmin, tavg, and tmax\n",
    "    \n",
    "    \"\"\"\n",
    "    \n",
    "    sel = [func.min(Measurement.tobs), func.avg(Measurement.tobs), func.max(Measurement.tobs)]\n",
    "    return session.query(*sel).filter(func.strftime(\"%m-%d\", Measurement.date) == date).all()\n",
    "    \n",
    "daily_normals(\"01-01\")"
   ]
  },
  {
   "cell_type": "code",
   "execution_count": null,
   "metadata": {},
   "outputs": [],
   "source": [
    "# calculate the daily normals for your trip\n",
    "# push each tuple of calculations into a list called `normals`\n",
    "\n",
    "# Set the start and end date of the trip\n",
    "\n",
    "# Use the start and end date to create a range of dates\n",
    "\n",
    "# Stip off the year and save a list of %m-%d strings\n",
    "\n",
    "# Loop through the list of %m-%d strings and calculate the normals for each date\n"
   ]
  },
  {
   "cell_type": "code",
   "execution_count": null,
   "metadata": {},
   "outputs": [],
   "source": [
    "# Load the previous query results into a Pandas DataFrame and add the `trip_dates` range as the `date` index\n"
   ]
  },
  {
   "cell_type": "code",
   "execution_count": null,
   "metadata": {},
   "outputs": [],
   "source": [
    "# Plot the daily normals as an area plot with `stacked=False`\n"
   ]
  },
  {
   "cell_type": "code",
   "execution_count": null,
   "metadata": {},
   "outputs": [],
   "source": []
  },
  {
   "cell_type": "code",
   "execution_count": null,
   "metadata": {},
   "outputs": [],
   "source": []
  },
  {
   "cell_type": "code",
   "execution_count": null,
   "metadata": {},
   "outputs": [],
   "source": []
  },
  {
   "cell_type": "code",
   "execution_count": 1,
   "metadata": {},
   "outputs": [
    {
     "ename": "NameError",
     "evalue": "name 'session' is not defined",
     "output_type": "error",
     "traceback": [
      "\u001b[1;31m---------------------------------------------------------------------------\u001b[0m",
      "\u001b[1;31mNameError\u001b[0m                                 Traceback (most recent call last)",
      "\u001b[1;32m<ipython-input-1-06d1251118a9>\u001b[0m in \u001b[0;36m<module>\u001b[1;34m\u001b[0m\n\u001b[1;32m----> 1\u001b[1;33m \u001b[0mresults\u001b[0m \u001b[1;33m=\u001b[0m \u001b[0msession\u001b[0m\u001b[1;33m.\u001b[0m\u001b[0mquery\u001b[0m\u001b[1;33m(\u001b[0m\u001b[0mMeasurement\u001b[0m\u001b[1;33m.\u001b[0m\u001b[0mtobs\u001b[0m\u001b[1;33m)\u001b[0m\u001b[1;33m.\u001b[0m\u001b[0mfilter\u001b[0m\u001b[1;33m(\u001b[0m\u001b[0mMeasurement\u001b[0m\u001b[1;33m.\u001b[0m\u001b[0mstation\u001b[0m \u001b[1;33m==\u001b[0m \u001b[0mhighest_station_id\u001b[0m\u001b[1;33m)\u001b[0m\u001b[1;33m\u001b[0m\u001b[1;33m\u001b[0m\u001b[0m\n\u001b[0m",
      "\u001b[1;31mNameError\u001b[0m: name 'session' is not defined"
     ]
    }
   ],
   "source": [
    "results = session.query(Measurement.tobs).filter(Measurement.station == highest_station_id)"
   ]
  },
  {
   "cell_type": "code",
   "execution_count": 109,
   "metadata": {},
   "outputs": [],
   "source": [
    "precip = list(np.ravel(results))"
   ]
  },
  {
   "cell_type": "code",
   "execution_count": 110,
   "metadata": {},
   "outputs": [
    {
     "name": "stdout",
     "output_type": "stream",
     "text": [
      "[0.0, 0.0, 0.08, 0.45, 0.0, 0.0, 0.5, 0.0, 0.02, None, 0.56, 0.0, 0.01, None, 0.0, 0.0, None, 0.09, 0.0, 0.0, 0.06, None, 0.0, 0.05, 0.01, 0.13, 0.0, 0.07, 0.12, 0.42, 0.02, 0.0, 0.06, 0.32, 0.42, 0.0, 0.01, 0.08, 0.0, 0.22, 0.0, None, 0.0, 0.0, None, 0.0, 0.0, 0.14, 0.0, 0.0, 0.0, None, 0.0, 0.0, 0.0, 0.07, 0.0, 0.0, 0.15, 0.0, 0.1, 0.0, 0.34, 0.0, 0.0, 0.0, 0.05, 0.0, 0.0, 0.0, 0.0, None, 0.0, 0.06, None, 0.02, 0.04, 0.0, 0.0, 0.0, 0.01, 0.0, 0.06, 0.0, 0.05, 0.0, 0.25, 0.02, 0.12, 0.0, None, 0.0, 0.0, None, None, 0.0, 0.0, 0.0, 0.0, 0.0, 0.0, 0.0, 0.3, 0.0, 0.06, 0.02, 0.0, 0.23, 0.3, 0.0, 0.13, 0.14, 0.01, 0.0, 0.09, 0.4, 0.0, 0.0, 0.0, None, 0.0, 0.01, 0.0, 0.0, 0.06, 0.02, None, 0.0, 0.12, 0.3, 0.0, 0.03, 0.12, 0.0, 0.05, 0.11, 0.3, 0.05, 0.58, 1.19, None, 0.61, 0.84, 0.0, 0.06, 0.07, 0.2, 0.8, 0.03, 0.07, 0.12, 0.0, 0.2, 4.0, 0.0, 0.0, 0.0, 0.0, 0.0, 0.03, 0.1, 0.03, 0.12, 0.0, 0.0, 0.33, 0.06, 0.7, 0.0, 0.09, 0.0, 0.0, 0.05, 0.27, 0.05, 0.03, 0.0, 0.0, 0.0, 0.05, 2.4, 0.03, 0.12, 0.16, 0.0, 0.21, 0.39, 0.02, 0.07, 0.12, 0.0, 0.1, 0.5, 0.0, 0.03, 0.01, 0.0, 0.05, 0.1, 0.02, 0.05, 0.0, 0.0, 0.2, 0.68, 0.07, 0.33, 0.3, None, 0.11, 0.32, 0.68, 0.0, 0.01, 0.02, None, 0.0, 0.28, 0.05, 0.0, 0.01, 0.0, None, 0.0, 0.02, 0.0, 0.0, 0.0, 0.0, None, 0.0, 0.02, 0.02, 0.0, 0.09, 0.0, 0.0, 0.11, 0.0, 0.0, 0.02, 0.06, 0.0, 0.0, 0.02, 0.0, 0.02, None, None, 0.0, 0.18, 0.3, 0.0, 0.0, None, 0.0, 0.0, 0.02, 0.0, 0.0, None, None, None, 0.0, 0.0, 0.04, 0.03, 0.08, 0.0, 0.04, 0.13, None, None, 0.02, 0.15, 0.4, 0.02, 0.05, None, 0.15, 0.5, 0.02, 0.06, 0.08, 0.1, 0.08, 0.04, 0.0, 0.12, 0.07, 0.01, 0.2, 0.0, 0.03, None, 0.0, 0.0, 0.0, 0.04, 0.0, 0.01, 0.0, 0.0, 0.0, 0.02, 0.0, 0.0, 0.0, 0.0, 0.01, 0.1, 0.0, 0.02, None, None, 0.0, 0.06, 0.02, 0.0, 0.08, 0.0, 0.02, 0.5, 0.06, 0.0, 0.0, 0.36, 0.22, 0.0, 0.0, None, 0.0, 0.05, 0.12, 0.5, 0.0, 0.1, 0.0, 0.0, 0.06, 0.28, 0.0, 0.02, None, None, 0.19, 0.3, 0.02, 0.05, 0.17, None, 0.0, 0.31, 0.0, 0.05, 0.19, None, 0.01, 0.08, 0.4, 0.05, 0.25, 0.18, 0.0, 0.24, 0.7, 0.0, 0.35, 0.02, 0.0, 0.07, 0.1, 0.0, 0.02, 0.02, None, 0.0, 0.06, 0.1, 0.0, 0.17, 0.3, None, 0.0, 0.55, 1.69, 0.0, 0.27, 0.21, None, 0.06, 0.22, 0.81, 0.0, 0.36, 0.1, None, 0.03, 0.24, 0.65, 0.02, 0.19, 0.35, 0.14, 0.24, 0.81, 0.08, 0.24, 0.14, 0.25, 0.74, 0.7, 0.04, 0.21, 0.53, 0.13, 0.62, None, 0.0, 0.02, 0.0, None, 0.0, 0.02, 0.0, 0.02, 0.01, None, 0.0, 0.0, 0.0, 0.0, 0.0, 0.0, None, 0.0, 0.0, 0.01, 0.0, 0.0, 0.0, None, 0.0, 0.0, 0.0, 0.0, 0.0, 0.02, None, 0.0, 0.05, 0.01, 0.0, 0.15, 0.05, 0.0, 0.13, 0.82, 0.02, 0.2, 0.16, 0.15, 0.08, None, 0.0, 0.1, 0.15, None, 0.0, 0.09, 0.0, 0.03, 0.0, 0.0, 0.0, 0.01, 0.02, 0.1, 0.0, 0.0, 0.25, 0.26, 0.2, 0.04, 0.11, 1.12, None, 0.0, 0.02, 0.0, 0.0, 0.4, 0.02, 0.29, 0.02, 0.0, 0.08, 0.0, 0.01, 0.0, 0.0, 0.0, 0.0, 0.5, 0.02, 0.0, 0.0, 0.0, 0.0, 0.15, 0.37, 0.07, 0.55, 0.2, 0.88, 0.13, 0.58, 0.1, 0.61, 0.3, 2.17, 0.08, 0.02, 0.11, 0.0, 0.06, 0.44, 0.0, 0.0, None, 0.0, 0.06, 0.3, 0.0, 0.0, 0.0, 0.01, 0.0, 0.0, 0.0, 0.01, None, 0.02, None, 0.0, 0.02, 0.01, 0.01, 0.01, 0.09, 0.16, 0.46, 0.13, 0.0, 0.0, 0.02, 0.0, 0.0, 0.07, 0.06, 0.01, 0.03, 0.05, 0.0, 0.03, 0.3, 0.05, 0.08, None, 0.06, 0.09, 0.6, 0.0, 0.05, 0.0, 0.17, 1.0, 0.0, 0.02, 0.0, 0.12, 0.1, 0.0, 0.04, None, 0.0, 0.02, 0.1, 0.01, 0.03, 0.0, 0.12, 0.44, 0.0, 0.05, 0.0, 0.06, 0.2, 0.55, 1.62, 0.52, 0.68, 1.58, 0.23, 0.0, 0.22, 0.95, 0.0, 0.73, 1.11, 0.0, 0.07, 0.0, 0.02, 0.03, 0.0, 0.0, 0.06, 0.0, 0.0, 0.0, 0.0, 0.0, 0.28, 0.0, 0.0, 0.1, 0.0, 0.0, 0.08, 0.0, 0.0, None, 0.0, 0.01, 0.01, 0.0, 0.01, 0.0, 0.03, 0.01, 0.0, 0.01, 0.0, 0.26, 0.07, 0.03, 0.07, 0.13, 0.25, 0.89, 1.21, 1.17, 1.31, 1.04, 0.8, 0.12, 0.35, 0.95, 6.25, 0.37, 0.0, 0.0, 2.6, 0.09, None, 0.0, 0.76, 0.79, 0.0, 0.1, 0.02, None, 0.0, 0.19, 0.11, 0.0, 0.0, 0.14, 0.01, 0.02, 0.22, 0.0, 0.0, 0.0, None, 0.0, 0.0, 0.0, 0.0, 0.0, None, None, None, 0.01, 0.05, 0.03, 0.02, 0.06, 0.35, 0.32, 1.01, 0.7, 1.58, 1.35, 0.23, 1.16, 1.05, None, 2.36, 1.74, 1.84, 0.05, 0.33, 0.0, None, 0.35, 0.05, 0.0, 0.02, 0.02, 0.0, None, 0.0, 0.02, 0.14, 0.0, 0.08, 0.12, 0.0, 0.15, 2.03, 0.98, 0.02, 0.41, None, None, 0.3, 1.04, 1.3, 0.0, 0.49, 0.0, 0.47, 0.11, 0.01, 0.45, 0.0, 0.38, 0.9, 0.26, 0.69, 0.29, 0.36, 2.3, 2.82, 0.0, 0.27, 0.0, None, 0.0, 0.59, 0.23, 0.0, 0.03, 0.29, None, 0.0, 0.11, 0.65, 0.0, 0.03, 0.16, None, 0.0, 0.03, 0.25, 0.0, 0.01, 0.0, None, 0.0, 0.01, 0.0, 0.0, 0.0, None, None, 0.0, 0.0, 0.0, 0.0, 0.0, None, 0.0, 0.0, 0.0, 0.0, 0.0, 0.0, 0.0, 0.0, 0.0, 0.0, 0.0, 0.06, 0.0, 0.0, 0.04, 0.07, 0.0, 0.0, 0.1, 0.45, 0.0, 0.04, 0.0, 0.0, 0.0, 0.09, 0.02, 0.0, 0.08, 0.09, None, 0.0, 0.26, 0.23, 0.0, 0.0, 0.0, 0.0, 0.0, 0.0, 0.0, 0.0, 0.0, 0.0, 0.21, 0.2, 0.0, 0.0, 0.0, 0.0, 0.0, 0.01, None, 0.0, 0.08, 0.03, None, 0.0, 0.04, 0.0, 0.0, 0.03, None, 0.08, 0.01, 0.07, 0.0, 0.03, 0.0, None, 0.0, 0.0, 0.68, 0.0, 0.0, None, 0.0, 0.01, 0.0, 0.0, 0.0, 0.0, 0.0, 0.0, 0.0, 0.13, 0.43, 0.93, 0.48, 0.02, 0.6, 0.15, 0.07, 0.12, 0.17, 0.0, 0.0, 0.0, 0.02, 0.0, 0.03, 0.0, 0.0, 0.0, 0.0, 0.0, 0.0, 0.0, 0.0, 0.0, 0.0, 0.09, 0.0, 0.0, 0.0, None, 0.0, 0.02, 0.0, 0.0, 0.0, 0.0, 0.0, 0.0, 0.0, 0.0, 0.0, 0.0, 0.0, None, 0.0, 0.19, 0.06, None, 0.35, 0.12, 0.0, 0.0, None, None, 0.0, 0.0, 0.0, 0.0, 0.0, 0.0, 0.0, 0.06, 0.0, 0.0, 0.0, 0.0, 0.06, 0.0, 0.0, 0.0, 0.0, 0.0, 0.0, None, 0.0, 0.0, None, 0.0, 0.0, None, 0.0, 0.0, 0.0, 0.03, 0.0, 0.01, 0.0, 0.0, 0.13, 0.13, 0.0, 0.0, 0.03, 0.0, 0.0, 0.8, 0.5, 0.0, None, 0.65, 0.01, 0.0, 0.0, 0.0, None, 0.0, 0.0, 0.0, 0.0, 0.0, None, 0.0, 0.0, 0.0, 0.51, None, None, None, 0.03, 0.0, 0.35, 0.1, 0.41, 0.35, 0.0, 0.0, 0.0, 0.0, 0.0, 0.47, 0.54, None, 0.14, 0.25, 0.27, 0.56, 0.73, 1.45, 0.44, 1.48, 1.88, 0.58, 1.19, 2.2, 1.12, 2.4, 0.59, 2.12, 2.0, 0.0, 0.16, 0.04, None, 0.0, 0.04, 0.58, 0.0, 0.0, 0.0, None, 0.0, 0.0, 0.0, 0.0, 0.0, None, None, 0.0, 0.0, 0.03, 0.0, 0.0, 0.12, 0.0, 0.0, 0.0, 0.0, 0.0, 0.0, 0.0, 0.01, 0.0, 0.0, 0.0, 0.0, 0.0, 0.0, 0.06, 0.06, 0.11, 0.17, 0.13, 0.06, 0.32, 0.06, 0.0, 0.0, None, 0.0, 0.07, 0.0, 0.0, None, None, 0.0, 0.0, 0.0, 0.0, 0.09, 0.1, 0.0, 0.0, 0.01, 0.0, None, 0.0, 0.8, 0.06, 0.0, 0.06, 0.13, 0.07, 0.0, 0.62, None, 0.67, 0.73, 0.13, 0.0, 0.0, 0.0, None, None, 0.01, 0.07, 0.0, 0.0, 0.0, 0.0, 0.0, 0.01, 0.01, 2.9, 0.0, None, 0.0, 0.01, 0.0, 2.62, 1.07, 1.91, 0.07, 2.98, 1.83, 0.31, 1.0, 2.39, 5.04, 1.73, 0.73, 0.0, 0.0, 0.0, 0.0, 0.0, 0.0, 0.0, 0.0, 0.02, 0.0, 0.0, 0.0, 0.0, 0.0, 0.0, 1.08, 0.0, 0.0, 0.0, 0.0, 0.0, 0.51, 1.08, 0.9, 0.0, 1.8, 1.32, 1.79, 0.0, 0.16, 0.04, None, 0.0, 0.18, 0.0, 0.0, 0.0, None, 0.0, 0.0, 0.0, 0.0, 0.0, 0.0, 0.0, None, 0.0, 0.0, 0.0, 0.0, 0.0, 0.0, 0.0, 0.0, 0.0, 0.0, 0.0, 0.0, 0.0, 0.0, 0.0, 0.0, 0.0, 0.0, 0.0, 0.0, 0.0, 0.0, 0.0, 0.0, 0.0, 0.0, 0.0, 0.0, 0.0, None, 0.05, 0.0, 0.0, 0.0, 0.18, 0.0, None, 0.26, 0.55, 0.0, 0.14, 0.0, 0.0, 0.0, 0.0, 0.0, 0.0, 0.0, 0.0, 0.03, 0.03, 0.0, 0.0, 0.01, 0.0, 0.0, 0.0, 0.1, 0.03, 0.12, None, None, 0.0, 0.79, 2.64, 0.04, 0.15, None, 0.08, 0.13, 1.85, 0.0, 0.08, None, None, 0.0, 0.01, 0.85, 0.16, 0.01, 0.04, 0.09, 0.72, 0.0, 0.04, 0.02, 0.11, 0.03, 0.08, 0.0, 0.0, 0.0, None, 0.0, 0.0, 0.0, 0.0, 0.0, 0.0, None, 0.0, 0.02, 0.0, 0.0, 0.0, 0.0, 0.0, None, 0.0, 0.07, 0.0, 0.0, 0.0, 0.0, 0.0, 0.0, 0.0, 0.0, None, 0.0, 0.0, 0.0, 0.0, 0.0, None, 0.0, 0.01, 0.0, 0.0, 0.0, 0.01, 0.0, 0.0, 0.0, None, None, 0.0, 0.0, 0.0, 0.0, None, None, 0.0, 0.0, 0.0, 0.0, 0.0, None, 0.0, 0.0, 0.0, 0.0, 0.0, None, 0.0, 0.0, 0.0, 0.0, 0.0, 0.0, None, 0.0, 0.0, 0.0, 0.0, 0.0, 0.03, 0.0, 0.0, 0.03, 0.0, 0.06, 0.0, 0.0, 0.0, 0.0, 0.0, 0.0, 0.59, 0.01, 0.1, 0.1, 0.0, 0.0, 0.0, 0.42, 0.06, 0.47, 0.0, 0.0, 0.0, 0.18, 0.0, 0.0, 0.0, 0.0, 0.0, None, 0.0, 0.0, 0.0, 0.0, 0.01, 0.01, 0.0, 0.0, 0.29, 0.0, None, 0.03, 0.03, 0.01, 0.62, 0.36, 0.25, 0.9, 0.12, 0.21, 0.29, None, 0.07, 0.29, 2.37, 0.04, 0.18, 0.56, None, 0.05, 0.52, 1.03, 0.02, 0.09, 0.01, None, 0.06, 0.09, 0.14, 0.0, 0.03, 0.02, 0.0, 0.05, 0.14, 0.02, 0.26, None, 0.06, 0.22, 1.48, 0.0, 0.03, 0.0, 0.02, 0.38, 0.01, 0.14, 0.13, 0.06, 0.2, 1.08, 0.01, 0.1, 0.03, None, 0.02, 0.24, 0.83, 0.01, 0.17, 0.05, None, 0.14, 0.86, 1.24, 0.0, 0.03, 0.09, 0.06, 0.06, 0.11, 0.55, 0.0, 0.02, 0.0, None, 0.01, 0.0, 0.0, 0.01, 0.21, 0.0, None, 0.02, 0.03, 0.15, 0.13, 0.29, 0.04, 0.27, 0.16, None, 0.01, 0.11, 0.0, 0.16, 0.07, 0.0, 0.01, 0.0, None, 0.0, 0.03, 0.0, 0.0, 0.02, 0.07, None, 0.0, 0.14, 0.03, 0.03, 0.05, 0.12, None, 0.05, 0.92, 0.33, 0.05, 0.1, 0.34, None, 0.15, 0.04, 0.09, 0.01, 0.01, None, 0.02, 0.0, 0.0, 0.01, 0.04, 0.02, 0.06, 0.0, 0.13, 0.05, 0.02, 0.0, None, 0.02, 0.04, 0.52, 0.34, 0.26, None, 0.31, 0.42, 0.03, 0.03, 0.02, 0.27, 0.01, 0.07, 0.03, 0.0, 0.17, None, None, 0.07, 0.12, 0.02, 0.02, 0.02, None, 0.0, 0.0, 0.0, 0.43, 0.34, 0.2, None, 0.45, 0.22, 1.6, 0.03, 0.1, 0.0, 0.32, 0.04, 0.31, 0.0, 0.04, 0.26, 0.02, 0.77, 1.62, 0.03, 0.3, 0.4, None, 0.01, 0.35, 1.27, 0.12, 0.33, 0.07, None, 0.16, 0.37, 0.72, 0.14, 0.05, 0.03, None, 0.0, 0.05, 0.79, 0.0, 0.04, 0.04, None, 0.06, 0.09, 0.2, 0.01, 0.02, 0.0, None, 0.0, 0.0, 0.69, 0.0, 0.06, 0.03, 0.0, 0.17, 0.29, 0.05, 0.05, 0.02, 0.03, 0.06, 0.3, 0.05, 0.05, None, 0.11, 0.08, 1.03, 0.05, 0.2, 0.21, 0.3, 0.72, 0.14, 0.03, None, 0.03, 0.25, 0.22, 0.13, 0.41, None, None, 0.31, 2.05, 2.11, 0.01, 0.02, None, 0.07, 0.11, 2.87, 0.05, 0.11, 0.4, 0.39, None, 0.03, 0.11, 0.13, 0.11, 0.0, 0.01, None, 0.02, 0.0, 0.0, 0.03, 0.0, None, 0.0, 0.01, 0.02, 0.0, 0.14, 0.18, None, 0.07, 0.24, 0.91, 0.0, 0.0, 0.0, None, 0.0, 0.0, 0.05, 0.0, 0.06, 0.05, 0.02, 0.0, 0.0, 0.02, 0.0, 0.0, 0.0, 0.0, 0.0, 0.0, 0.0, 0.0, 0.0, 0.0, 0.0, 0.0, 0.0, 0.0, 0.0, 0.0, 0.0, 0.0, 0.0, 0.0, 0.0, 0.0, 0.0, 0.01, 0.0, 0.08, 0.17, 0.0, 0.0, 0.11, 0.04, 0.07, 0.14, 0.02, 0.15, 0.21, 0.53, 0.0, 0.0, 0.13, None, 0.0, 0.0, 0.05, 0.0, 0.02, 0.0, 0.0, 0.01, 0.05, 0.0, 0.02, 0.0, 0.02, 0.03, 0.38, 0.0, 0.0, 0.0, None, 0.0, 0.0, 0.06, 0.0, 0.0, 0.0, 0.0, 0.0, 0.02, 0.0, 0.0, 0.0, 0.0, 0.0, 0.04, 0.0, 0.01, 0.0, 0.01, 0.1, 0.09, 0.03, 0.03, 0.0, None, 0.13, 0.07, 1.35, 0.24, 0.1, 0.14, 0.0, 0.16, 0.95, 0.0, 0.02, 0.26, 0.01, 0.1, 0.25, 0.0, 0.02, 0.07, None, 0.06, 0.05, 0.37, 0.0, 0.11, 0.2, None, 0.08, 0.22, 1.25, 0.0, 0.06, 0.2, 0.02, 0.01, 0.0, 0.03, 0.04, 0.0, 0.4, 0.12, 0.11, 0.4, 0.0, 0.0, 0.01, None, 0.0, 0.08, 0.7, 0.01, 0.01, None, 0.0, 0.02, 0.24, 0.15, 0.1, 0.0, 0.15, 1.37, 0.05, 0.15, 0.03, None, None, 0.0, 0.09, 0.0, 0.0, 0.01, None, 0.0, 1.0, 0.0, 0.06, 0.0, None, 0.0, 0.11, 0.0, 0.0, 0.05, 0.03, None, 0.02, 0.02, 0.48, 0.01, 0.03, None, None, 0.12, 0.01, 0.38, 0.0, 0.0, 0.0, 0.0, 0.0, 0.0, 0.0, 0.02, 0.0, 0.04, 0.33, 0.0, 0.0, 0.0, 0.0, 0.0, 0.0, 0.0, 0.0, 0.02, None, 0.0, 0.0, 0.06, 0.0, 0.03, 0.0, 0.0, 0.03, 0.02, 0.0, 0.02, 0.04, None, 0.0, 0.28, 0.35, 0.0, 0.0, None, 0.0, 0.0, 0.0, 0.0, 0.0, 0.0, 0.0, 0.0, 0.0, 0.0, 0.0, 0.0, 0.04, 0.0, 0.0, 0.0, None, 0.0, 0.0, 0.01, 0.0, 0.05, 0.0, 0.07, 0.0, 0.0, 0.04, 0.0, 0.0, 0.0, None, 0.0, 0.01, 0.81, 0.0, 0.0, 0.0, None, 0.0, 0.03, 3.46, 0.0, 0.04, 0.03, None, 0.0, 0.16, 0.46, 0.0, 0.02, 0.03, 0.0, 0.06, 0.61, 0.0, 0.14, 0.08, 0.07, 0.14, 1.02, 0.0, 0.31, 0.06, None, 0.15, 0.25, 0.38, 0.0, 0.49, 0.2, 0.04, 0.18, 0.59, 1.49, 0.0, 0.08, 0.0, 0.0, 0.0, 0.0, 0.05, 0.02, 0.12, 0.0, 0.05, 0.17, 1.0, 0.06, 0.06, 0.02, None, 0.34, 0.17, 1.02, 0.0, 0.02, 0.0, 0.0, 0.03, 0.04, 0.0, 0.0, 0.0, 0.0, 0.01, 0.27, 0.0, 0.15, 0.15, 0.0, 0.0, 0.94, 0.33, 0.02, 0.09, 0.17, 0.06, 0.01, 0.34, 0.75, 0.0, 0.06, 0.02, 0.0, 0.07, 1.02, 0.0, 0.09, 0.25, 0.0, 0.04, 0.22, 0.43, 0.0, 0.01, None, None, 0.05, 0.01, 0.25, 0.0, 0.0, 0.04, 0.07, 0.42, 0.05, 0.04, 0.0, 0.36, 0.23, 0.06, 0.01, 0.07, 0.0, 0.01, 0.06, 0.61, 0.42, 0.12, 0.07, None, 0.17, 0.83, 3.35, 1.32, 0.9, 1.84, None, 1.19, 2.33, 6.7, 0.02, 0.37, 0.32, None, 0.46, 0.34, 1.2, 0.0, 0.04, None, None, 0.15, 0.31, 1.04, 0.05, 0.18, 0.12, 0.3, 0.6, 0.0, 0.01, 0.14, 0.09, 1.16, 0.03, 0.01, 0.29, None, 0.23, 0.16, 0.35, 0.0, 0.22, 0.01, None, 0.01, 0.07, 0.15, 0.05, 0.1, 0.23, 0.11, 0.16, 1.35, None, 0.05, 0.04, 0.03, 0.11, 1.0, None, 0.11, None, 0.02, 0.03, 0.18, 0.03, 0.03, 0.74, 0.14, 0.44, 0.0, 0.07, 0.08, 0.12, 1.0, 0.0, 0.02, 0.19, None, None, 0.01, 0.03, 0.0, 0.0, 0.0, None, 0.02, 0.01, 0.13, 0.1, None, None, 0.25, 0.24, 2.46, 0.0, 0.0, 0.02, 0.0, 0.0, 0.05, 0.0, 0.17, 0.04, None, 0.0, 0.35, 0.9, 0.01, 0.14, 0.14, 0.14, 0.6, 2.07, 0.0, 0.18, 0.02, 0.0, 0.12, None, 0.0, 0.03, 0.02, 0.04, 0.0, 0.01, 0.08, 0.08, 0.0, 0.0, 0.21, 0.06, 0.11, 0.08, 2.15, 2.28, None, 1.22, 2.15, 1.45, 0.0, 0.15, 0.05, None, 0.02, 1.79, 0.7, 0.4, 0.94, None, None, 0.4, 2.32, 1.2, 0.12, 0.32, 0.41, 0.08, 1.08, 0.0, 0.03, 0.0, 0.0, 0.13, 0.2, 0.04, 0.14, 0.07, 0.0, 0.31, 2.3, 0.0, 0.0, 0.01, 0.0, 0.0, 0.0, 0.21, 0.0, 0.0, 0.0, 0.0, 0.0, 0.31, 0.3, 0.0, 0.1, 0.02, 0.0, 0.0, 0.12, 0.85, 0.0, 0.17, None, None, 0.0, 0.23, 0.95, 0.0, 0.17, 0.0, 0.1, 0.75, 0.0, 0.0, 0.0, 0.01, 0.08, 0.45, 0.0, 0.05, 0.12, None, 0.0, 0.02, 0.39, 0.0, 0.04, 0.0, None, 0.0, 0.01, 0.04, 0.0, 0.0, 0.0, None, 0.0, 0.0, 0.0, 0.0, 0.0, 0.0, None, 0.01, 0.02, 0.56, 0.02, 0.33, 0.01, None, 0.0, 0.28, 0.02, 0.39, 0.3, 0.48, 0.4, 0.47, 1.3, 0.0, 0.07, None, 0.04, 0.14, None, 0.01, 0.03, 0.03, 0.0, 0.27, None, 0.04, 0.62, 0.13, 0.25, 0.77, None, 0.0, 0.02, 0.0, 0.02, 0.0, 0.01, None, 0.05, 0.2, 0.55, 0.0, 0.07, 0.83, 1.14, 0.08, 2.35, None, 0.54, 3.53, 2.21, 0.06, 0.05, 0.79, 0.12, 2.9, 0.0, 0.03, 0.08, 0.01, 0.4, 0.0, 0.0, 0.01, 0.0, 0.0, 0.05, 0.0, 0.0, 0.05, 0.0, 0.0, 0.0, 0.0, 0.02, 0.0, None, 0.0, 0.06, 0.04, 0.0, 0.0, 0.01, 0.0, 0.9, 0.03, 4.2, 7.65, None, None, 3.01, 9.64, 5.35, 0.13, 0.15, 0.18, 0.45, 2.75, 0.0, 0.16, None, 0.07, None, 0.02, 0.06, 0.0, 0.13, 0.04, 0.04, None, 0.06, 0.01, 0.0, 0.0, 0.0, None, 0.02, 0.02, 0.08, 0.03, 0.08, 0.43, 0.5, 0.11, 0.73, 0.41, 1.25, 0.26, None, None, 0.38, 0.23, 0.23, 0.0, 0.03, 0.0, 0.15, 0.55, 0.03, 0.44, 0.65, 0.2, 0.92, 2.05, 0.46, 0.23, 0.43, None, 0.42, 0.14, 1.7, 0.0, 0.43, 0.38, None, None, 0.8, 1.15, 0.0, 0.06, 0.05, None, 0.07, 0.14, 0.0, 0.05, 0.03, None, 0.0, 0.0, 0.03, 0.0, 0.11, 0.0, None, 0.07, 0.14, 0.11, 0.02, 0.14, 0.12, 0.37, 0.63, 1.15, 0.0, 0.0, 0.0, 0.0, 0.04, 0.15, 0.0, 0.03, 0.05, None, 0.01, 0.02, 0.31, 0.01, 0.05, 0.19, None, 0.02, 0.14, 0.92, 0.02, 0.49, 0.2, None, 0.1, 0.8, 1.46, 0.02, 0.05, 0.0, None, 0.12, 0.22, 0.45, 0.04, 0.14, None, 0.03, 0.27, None, 0.0, 0.0, 0.17, 0.03, 0.0, 0.0, None, 0.0, 0.0, 0.0, 0.0, None, 0.0, None, 0.0, 0.0, 0.0, None, 0.0, 0.01, 0.0, 0.03, 0.06, None, 0.0, 0.1, 0.35, 0.0, 0.02, 0.0, None, 0.0, 0.23, 0.25, 0.01, 0.06, 0.0, None, 0.0, 0.37, 0.3, 0.01, 0.06, 0.03, 0.0, 0.03, 0.7, 0.03, 0.8, 0.44, 0.21, 0.75, None, 0.01, 0.02, 0.03, None, 0.0, 0.12, 0.0, 0.25, 0.1, None, 0.0, 0.39, 0.9, 0.0, 0.01, 0.08, None, 0.0, 0.13, 0.2, 0.0, 0.03, 0.0, None, 0.03, 0.04, 0.78, 0.01, 0.16, 0.47, 0.1, 0.03, 0.4, 0.52, 0.01, 0.02, 0.03, 0.06, 0.05, 0.79, 0.0, 0.3, 0.03, 0.0, 0.4, 0.72, 0.02, 0.16, 0.17, 0.38, None, 0.29, 1.27, 0.02, 0.03, 0.06, 0.1, 0.05, 0.12, 0.01, 0.18, 0.18, 0.02, 0.25, 0.68, 1.38, 0.0, 0.06, 0.0, None, 0.0, 0.2, 0.19, 0.0, 0.08, 0.01, None, 0.1, 0.02, 0.08, 0.01, 0.04, 0.26, 0.12, 0.28, 0.55, 0.0, 0.02, 0.01, 0.0, 0.13, 0.65, 0.05, 0.06, 0.13, 0.23, 0.62, 1.4, 0.01, 0.21, 0.12, None, 0.15, 0.29, 1.7, 0.0, 0.0, 0.0, None, 0.0, 0.0, 0.01, 0.01, 0.4, None, None, 0.07, 0.35, 1.26, 0.0, 0.36, None, 0.17, 0.52, 0.47, 0.0, 0.63, 0.14, 0.22, None, 0.0, 0.0, 0.02, 0.0, 0.0, 0.16, 0.02, None, 0.47, 0.02, 0.1, 0.0, 0.15, 0.35, None, 0.03, 0.5, 0.74, 0.06, 0.89, 0.22, None, 0.38, 1.39, 1.4, 0.05, 0.18, 0.42, 1.18, 0.85, 0.8, 0.16, 0.03, 0.0, 0.05, 0.0, None, 0.54, 0.0, 0.0, 0.0, 0.0, 0.1, 0.0, 0.04, 0.36, 0.05, 0.0, 0.05, 0.09, 0.0, 0.1, 0.06, 0.8, 0.35, None, 0.01, 1.04, 1.68, 0.0, 0.0, 0.05, None, 0.0, 0.03, 0.5, 0.0, 0.0, 0.0, None, 0.0, 0.0, 0.1, 0.0, 0.0, 0.11, None, 0.0, 0.0, None, 0.0, 0.0, 0.04, 0.0, 0.04, 0.03, 0.08, 0.04, 0.0, 0.16, 0.01, 0.15, 0.04, None, 0.0, 0.11, 0.71, 0.0, 0.05, 0.0, None, 0.0, 0.22, 0.4, 0.0, 0.05, 0.36, None, 0.0, 0.08, 0.58, 0.0, 0.03, 0.0, None, 0.0, 0.0, 0.05, 0.0, 0.0, 0.0, None, 0.0, 0.0, 0.08, 0.02, 0.02, None, 0.0, 0.17, 0.27, 0.0, 0.18, 0.06, 0.01, 0.02, 0.0, 0.0, 0.0, 0.44, 0.0, 0.01, 0.0, 0.0, 0.0, 0.0, None, 0.0, 0.07, None, 0.0, 0.02, 0.0, None, 0.0, 0.16, 0.0, 0.15, 0.15, None, 0.0, 0.43, 0.58, 0.0, 0.1, None, None, 0.02, 0.13, 0.02, 0.0, 0.8, 0.75, 0.38, 0.1, 0.03, 1.53, 1.8, 1.02, None, 0.0, 0.22, None, 0.0, 0.15, 0.13, 0.6, 0.41, None, 0.27, 0.91, 1.35, 0.0, 0.12, 0.36, None, 0.0, 0.31, 1.04, 0.01, 0.02, 0.03, 0.0, 0.0, 0.0, 0.0, 0.0, 0.0, 0.11, None, 0.07, 0.12, 0.5, 0.0, 0.04, 0.01, 0.09, 0.03, 0.36, 0.0, 0.0, 0.08, 0.0, 0.1, 0.1, 0.0, 0.0, 0.0, None, 0.0, 0.0, 0.25, 0.0, 0.0, 0.0, None, 0.0, 0.04, 0.04, 0.0, 0.05, 0.1, None, 0.0, 0.01, 0.15, 0.0, 0.01, 0.01, None, 0.0, 0.01, None, 0.0, 0.06, 0.0, None, 0.0, 0.03, 0.05, 0.11, 0.01, 0.29, 0.21, 0.99, 0.05, 0.21, 0.1, 0.04, 0.23, 0.77, 0.0, 0.0, 0.0, None, 0.0, 0.07, 0.23, 0.0, 0.01, 0.02, None, 0.0, 0.0, 0.14, 0.0, 0.0, 0.03, None, None, 0.06, 0.19, 0.0, 0.02, 0.0, None, 0.18, 0.01, 0.15, 0.4, 0.46, None, 0.46, 0.83, 5.09, 0.17, 0.17, None, 0.09, 0.32, 0.51, 0.0, 0.04, 0.0, 0.06, 0.3, 0.0, 0.0, 0.03, 0.04, 0.01, 0.51, 0.0, 0.06, 0.02, 0.08, 0.05, 0.72, 0.01, 0.05, 0.03, 0.18, 0.04, 0.33, 0.0, 0.02, 0.0, 0.0, 0.11, 0.8, 0.01, 0.08, 0.04, 0.0, 0.05, 0.38, 0.0, 0.02, 0.06, 0.0, 0.11, 0.06, 0.0, 0.66, 0.14, 0.0, 0.27, 0.14, 0.0, 0.02, 0.0, 0.0, 0.0, 1.26, 0.29, 0.0, 0.12, 0.06, None, 0.0, 0.43, 0.56, 0.01, 0.1, 0.08, None, None, 0.34, 0.73, 0.0, 0.2, 0.04, 0.04, 0.01, 0.0, 0.0, 0.0, 0.0, 0.0, 0.0, 0.0, 0.29, 0.0, 0.0, 0.0, 0.0, 0.0, 0.0, 0.0, 0.02, 0.0, 0.0, 0.0, 0.0, 0.0, 0.0, 0.0, 0.0, 0.0, 0.0, 0.02, 0.0, 0.0, 0.0, None, 0.01, 0.0, 0.0, 0.01, 0.02, 0.0, None, 0.0, 0.04, 0.02, 0.09, 0.01, 0.0, None, 0.04, 0.02, 0.04, 0.0, 0.0, None, None, 0.0, 0.0, 0.0, 0.01, 0.01, 0.0, 0.08, 0.0, 0.09, 0.87, 0.02, 0.03, 0.06, 0.09, 0.01, 1.9, 0.04, 0.03, 0.38, 0.1, 0.0, 0.02, 0.0, 0.0, 0.0, 0.0, 0.0, 1.78, 0.72, None, 1.05, 0.31, 0.0, 0.0, 0.0, 0.0, None, 0.0, 0.1, 0.0, 0.0, 0.06, 0.0, None, 0.0, 0.0, 0.0, 0.0, 0.0, 0.0, 0.0, 0.0, 0.02, 0.03, 0.16, 0.22, 0.0, 0.03, 0.13, 0.0, 0.08, 0.07, 0.0, 0.02, 0.0, 0.0, 0.01, 0.0, 0.05, 0.41, 0.06, 0.0, None, 0.23, 0.37, 0.08, 0.3, 1.08, None, 0.82, 0.57, 0.0, 0.0, None, None, None, 0.03, 0.16, 0.0, 0.0, 0.03, 0.1, 0.0, 0.0, 0.0, 0.0, 0.0, 0.0, 0.0, 0.06, 0.01, None, 0.0, 0.02, 0.16, 0.0, 0.0, 0.0, None, 0.0, 0.01, 0.0, 0.19, 0.15, 0.22, None, 0.3, 0.34, 0.19, 0.0, 0.02, 0.0, None, 0.02, 0.0, 0.0, 0.0, 0.0, 0.0, None, 0.0, 0.0, 0.0, 0.0, 0.0, 0.0, 0.0, 0.0, None, 0.0, 0.0, 0.0, 0.0, 0.0, 0.0, 0.0, 0.0, None, 0.0, 0.0, 0.0, 0.0, 0.0, None, 0.0, 0.0, 0.0, 0.0, 0.0, 0.0, None, 0.0, 0.0, 0.0, 0.0, 0.0, 0.07, None, 0.33, 0.01, 0.02, 0.0, 0.0, 0.05, 0.0, 0.0, 0.0, 0.0, 0.0, 0.0, 0.0, 0.0, 0.0, 0.0, 0.08, 0.0, None, 0.0, 0.0, 0.0, 0.0, 0.38, 0.36, None, 0.0, 0.3, 0.04, 0.0, 0.0, 0.0, None, 0.0, 0.0, 0.0, 0.0, 0.0, 0.0, None, 0.0, 0.0, 0.0, 0.0, 0.0, 0.0, None, 0.0, 0.0, None, 0.0, 0.05, None, 0.0, 0.04, 0.0, 0.09, 0.01, 0.08, 0.0, 0.01, 0.07, 0.09, None, 0.05, 0.06, 0.1, 0.03, 0.11, 0.09, None, 0.2, 0.0, 0.58, 0.02, 0.02, 0.0, None, 0.0, 0.02, None, 0.21, 0.1, 0.13, None, 0.22, 0.11, 0.02, 0.05, 0.03, None, 0.04, 0.03, 0.01, 0.0, 0.0, 0.23, None, 0.0, 0.05, 0.0, 0.0, 0.0, 0.0, 0.11, 0.0, 0.02, 0.0, 0.22, 0.22, 0.02, 0.07, 0.0, None, 0.0, 0.01, 0.19, 0.0, 0.0, 0.0, None, 0.0, 0.0, 0.0, 0.0, 0.0, 0.0, 0.0, 0.0, 0.0, 0.0, 0.0, 0.0, 0.0, None, 0.0, 0.0, 0.0, 0.01, 0.0, 0.0, None, 0.0, 0.0, 0.0, 0.02, 0.16, 0.56, None, 0.05, 0.11, 0.0, 0.0, 0.0, 0.0, 0.0, 0.0, 0.0, 0.0, None, 0.0, 0.0, 0.08, 0.0, 0.0, 0.0, None, 0.0, 0.04, 0.0, 0.0, 0.25, None, 0.03, 0.2, 0.26, 0.06, 0.41, 0.2, None, 0.39, 0.42, 0.33, 0.0, 0.0, None, None, 0.0, 0.07, 0.15, 0.0, 0.0, 0.0, 0.02, 0.08, 0.0, 0.0, 0.0, None, 0.01, None, 0.0, 0.0, 0.13, None, 0.02, 0.0, 0.0, 0.0, None, None, 0.0, 0.0, 0.01, 0.0, 0.0, None, 0.01, 0.0, 0.16, 0.16, 0.0, None, 0.0, 0.74, 0.38, 0.04, 0.13, 0.01, None, 0.24, 0.07, 0.07, 0.0, 0.0, 0.0, None, 0.0, 0.0, 0.0, 0.0, 0.0, 0.0, 0.0, 0.0, 0.01, 0.0, 0.0, 0.0, 0.0, 0.0, 0.27, 0.23, 0.39, 0.42, 0.1, 0.0, 0.02, 0.05, 0.0, None, 0.01, 0.01, 0.0, 0.0, 0.0, 0.0, 0.0, 0.0, 0.0, 0.0, 0.0, 0.0, 0.0, 0.0, 0.02, 0.0, 0.0, 0.0, None, 0.01, 0.03, 0.05, 0.0, 0.05, 0.0, 0.0, 0.15, 0.0, 0.02, 0.0, 0.0, 0.0, 0.0, 0.0, 0.0, 0.0, 0.0, 0.0, 0.0, 0.0, 0.0, 0.0, 0.0, 0.03, 0.32, 0.0, 0.02, 0.0, 0.0, 0.01, None, 0.0, 0.0, 0.0, 0.01, 0.01, 0.0, 0.02, 0.0, 0.03, 0.0, 0.0, 0.0, 0.02, 0.0, 0.01, 0.01, 0.0, 0.0, 0.02, 0.0, 0.18, 0.03, 0.03, 0.0, 0.35, 1.32, 0.0, 0.3, 0.04, 0.0, 0.35, 1.49, 0.0, 0.19, 0.1, None, 0.18, 0.0, 0.0, 0.0, 0.0, None, 0.0, 0.0, 0.0, 0.0, 0.0, 0.0, 0.0, 0.0, 0.0, 0.01, 0.05, 0.13, 0.03, 0.13, 0.0, 0.02, 0.0, 0.0, 0.02, 0.0, 0.0, 0.06, None, 0.09, 0.1, 0.0, 0.03, 0.5, 0.03, 0.0, 0.11, 0.01, 0.01, 0.16, None, 0.01, 0.4, 0.21, None, 0.05, 0.0, 0.43, 0.25, None, None, 0.48, 0.8, 2.21, 0.02, 0.19, 0.15, 0.22, 0.81, 0.0, 0.52, None, 0.23, 0.47, 1.19, 0.0, 0.0, None, 0.0, 0.45, 0.01, 0.0, 0.11, 0.1, 0.0, 0.1, 1.56, 0.0, 0.01, 0.13, None, 0.04, None, 0.01, 0.03, None, 0.15, 0.03, 0.2, 0.04, 0.05, 0.43, 0.13, 0.36, 0.18, 0.24, 0.13, 1.19, 0.08, 0.28, 0.08, 0.11, 0.12, 0.17, 0.59, 0.02, 0.13, 0.13, None, 0.06, 0.09, 0.43, 0.0, 0.08, 0.05, None, 0.0, 0.03, 0.07, 0.08, 0.24, 0.0, 0.28, 0.35, None, 0.0, 0.69, 0.05, 0.03, 0.13, 0.0, 0.0, 0.0, 0.01, 0.03, 0.0, 0.39, 0.62, 0.17, 0.41, 0.31, 0.21, 0.0, 0.0, 0.03, 0.06, 0.15, 0.13, 0.06, 0.08, 0.12, None, 0.14, 0.1, 0.9, 0.0, 0.1, 0.02, None, 0.13, 0.08, 0.36, 0.0, 0.08, 0.05, None, 0.04, 0.02, 0.12, 0.0, 0.0, None, None, 0.02, 0.04, 0.0, 0.52, 0.1, 0.05, 0.0, 0.28, 0.0, 0.0, 0.05, 0.02, 0.01, 0.03, None, 0.0, 0.03, 0.01, 0.06, 0.08, 0.17, None, 0.03, 0.22, 0.57, 0.0, 0.03, 0.0, 0.28, None, 0.02, 0.08, 0.0, 0.0, None, 0.02, 0.03, 0.01, 0.03, None, None, 0.01, 0.04, 0.04, 0.03, 0.02, 0.14, 0.08, 0.19, 0.02, 0.07, 0.05, 0.02, 0.08, 0.16, 0.11, 0.91, 0.66, None, 0.49, 0.72, 3.26, 0.36, 0.36, 0.27, 0.58, 0.82, 3.68, 0.01, 0.11, 0.01, None, 0.13, 0.12, 0.11, 0.75, 1.7, 0.08, None, 1.12, 0.98, 1.46, 0.62, 0.48, 1.75, None, 1.1, 1.17, 1.97, 0.33, 0.8, 0.12, 1.84, 0.85, 1.16, 0.85, 1.61, 0.58, 2.3, 2.17, 1.66, 1.57, 0.68, 1.92, None, None, 1.75, 1.87, 3.38, 0.0, 0.18, 0.01, None, 0.07, 0.2, 0.34, 0.02, 0.1, 0.31, None, 0.23, 0.34, 0.6, 0.0, 0.1, 0.0, None, 0.0, 0.0, None, 0.0, 0.0, 0.01, None, 0.0, 0.1, 0.02, 0.08, 0.02, 0.0, 0.0, 0.05, 0.17, 0.53, 0.2, 0.12, 0.23, 1.73, 0.0, 0.1, 0.17, None, 0.1, 0.17, 0.68, 0.01, 0.3, 0.02, None, None, 0.03, 0.34, 0.43, 0.0, 0.0, 0.0, None, 0.08, 0.37, 0.0, 0.06, 0.04, 0.47, 0.43, 0.11, 0.11, 0.2, None, 0.07, 0.3, 1.42, 0.02, 0.3, None, 0.05, 0.36, 0.32, 0.1, 0.12, 0.21, 0.46, 1.08, 0.01, 0.12, 0.05, None, 0.0, 0.29, 0.76, 0.03, 0.12, 0.11, 0.04, None, 0.15, 0.18, 1.09, 0.02, 0.03, 0.0, 0.28, 0.13, 0.04, 0.18, 0.0, 0.0, 0.0, None, 0.0, 0.0, None, 0.01, 0.0, 0.0, None, None, 0.0, 0.02, 0.19, 0.33, 0.05, 0.17, 0.78, 1.2, 0.0, 0.22, 0.09, 0.04, 0.38, 2.45, 0.0, 0.02, 0.0, None, 0.11, 0.0, 0.0, 0.0, 0.0, 0.02, 1.05, None, None, 0.64, 0.07, 0.0, 0.02, 0.01, 0.27, 0.01, None, 0.0, 0.0, 0.0, 0.22, 0.11, 0.06, 0.09, None, None, 0.33, 0.16, 2.0, 0.0, 0.04, 0.02, None, None, 0.01, 0.01, 0.1, 0.01, 0.0, 0.03, 0.0, 0.0, 0.0, 0.0, 0.0, 0.0, 0.0, 0.0, 0.0, 0.01, 0.04, 0.0, 0.03, 0.0, None, 0.0, 0.0, 0.32, 0.01, 0.0, 0.07, None, 0.07, 0.08, 0.15, 0.28, 0.06, 0.02, 0.0, None, None, 0.25, 0.33, 0.0, 0.32, 0.01, 0.2, 0.32, None, 0.0, None, 0.14, 0.3, None, 0.0, 0.18, 0.0, None, 0.0, 0.0, 0.04, 0.03, None, 0.05, 0.07, 0.0, 0.1, 0.15, 0.51, 1.8, 0.0, 0.73, 0.0, None, 0.0, 0.11, 1.33, 0.0, 0.33, 0.01, 0.81, 0.31, None, 0.75, 1.02, 0.0, 1.77, 0.01, 1.21, 0.41, None, 1.42, 0.39, 0.0, 0.59, 0.04, 1.7, 1.8, None, 0.0, 2.24, 1.53, 0.4, 0.31, 0.03, 1.0, 3.85, None, 0.56, 0.41, 0.0, None, 0.0, 0.09, 0.38, None, 0.8, 0.0, 0.11, 0.0, 0.0, 0.0, 0.03, 2.15, 0.01, 0.04, 0.0, 0.0, 0.0, 0.05, 0.0, 0.0, 0.09, 0.0, 0.03, 0.04, 0.22, 0.04, 0.12, 0.01, 0.15, 0.0, 0.22, None, 0.55, 0.19, 0.41, 0.0, 0.4, 0.65, 1.46, 0.51, 0.0, 0.0, 0.08, 0.0, 0.09, 0.23, 0.0, 0.0, 0.0, 0.0, 0.0, 0.02, 0.03, 0.02, 0.0, None, None, 0.06, 0.17, 0.05, 0.0, 0.05, None, 0.0, 0.41, 0.04, 0.17, 0.06, None, 0.14, 1.4, 0.11, 0.07, 0.03, None, 0.0, 0.01, 0.8, 0.65, 0.04, 0.17, 0.3, None, 0.0, 0.14, 0.77, 4.18, 0.15, 0.18, 0.41, 0.18, 0.45, 1.72, 0.03, 0.36, 0.39, 0.01, 0.49, 1.02, 0.08, 0.0, 0.08, None, 0.05, 0.2, 0.0, 0.54, 0.0, 0.01, 0.11, None, 0.08, 0.11, 0.0, 1.3, 0.01, 0.3, 0.07, None, 0.03, 0.48, 0.0, 0.58, 0.09, 0.32, 0.07, None, 0.11, 0.37, 0.0, 1.29, 0.07, 0.07, None, None, 0.0, 0.01, 0.63, None, 1.43, 0.0, 0.07, 0.0, 0.25, 0.26, 0.02, 0.0, 0.0, 0.07, 0.21, 0.02, 0.08, 0.23, 0.0, 0.0, 0.42, 0.0, 0.37, 0.0, 0.06, 0.0, 0.0, 0.0, 0.07, 0.0, 0.28, 0.01, 0.06, 0.04, 0.22, 0.01, 0.41, 2.5, 0.26, 0.56, 0.75, None, 1.17, 1.61, 6.83, 0.77, 0.63, None, None, 0.31, 0.52, None, 2.57, 0.11, 0.16, 0.07, 0.26, 0.79, 0.5, 2.7, 2.28, 3.1, 2.44, 0.77, 0.09, None, 0.2, 0.55, 0.69, 0.52, 0.0, 0.06, 0.0, 0.0, 0.09, 0.0, 0.0, None, 0.0, 0.0, 0.0, 0.0, 0.01, 0.4, None, 1.16, 0.74, 0.29, 0.06, 0.19, None, 0.48, 0.97, 0.32, 0.0, 0.71, None, 0.0, 0.02, 0.08, 0.0, 0.0, 0.0, 0.06, 0.52, 0.0, 0.24, None, 0.81, 1.35, 0.7, 1.04, 0.23, 1.55, 0.19, 0.16, None, 0.0, 0.2, 0.16, 0.0, 0.28, 0.0, 0.0, 0.01, 0.0, 0.0, 0.0, 0.32, 0.22, 0.0, 0.09, 0.3, 0.0, 0.07, 0.0, None, None, 0.0, 0.02, 0.26, 0.0, 0.0, 0.02, 0.05, None, 0.04, 0.0, 0.25, 0.0, 0.0, 0.01, 0.0, 0.06, 0.0, 0.0, None, 0.12, 0.05, None, 0.19, 0.62, 0.0, 0.05, None, 2.29, 2.96, None, 2.67, 0.62, 1.03, 0.11, 1.5, 0.5, 0.6, 0.8, 0.79, 0.2, 0.52, 0.13, None, 0.12, 0.31, 1.3, 0.1, 0.42, 0.23, 3.7, None, 3.43, 3.62, None, 4.81, 0.02, 0.33, 0.62, 0.07, 2.86, 0.43, 0.0, 0.65, 0.0, None, 0.03, 0.11, 0.0, 0.05, 0.0, 1.62, 0.17, None, 0.08, 0.0, None, 1.05, 0.0, 0.1, 0.11, None, 0.02, 0.2, None, 0.42, 0.03, None, 0.08, 0.06, 0.24, 0.2, None, 1.14, 0.89, 1.59, 0.01, 0.51, None, None, 0.12, 0.24, None, 0.08, 0.0, 0.0, 0.04, 0.29, 0.01, 0.02, 0.33, 0.0, 0.18, 1.28, 0.0, 0.21, 0.09, None, 0.0, 0.43, 0.0, 0.92, 0.0, 0.19, 0.0, None, 0.06, 0.07, None, 0.44, 0.0, 0.09, 0.0, 0.0, 0.0, 0.01, 0.39, 0.0, 0.02, None, 0.0, 0.0, 0.04, 0.23, 0.01, 0.01, 0.0, 0.01, 0.04, 0.41, 0.0, 0.09, 0.06, 0.54, 0.0, 0.27, 0.0, 0.16, 0.01, 0.14, 0.3, 0.05, 0.0, 0.02, 0.09, 0.1, 0.27, None, 0.13, 0.47, 0.0, 0.5, 0.0, 0.02, None, 0.1, 0.02, 0.1, 0.59, 0.0, 0.0, None, 0.0, 0.01, 0.0, 0.0, 0.0, 0.02, None, 0.0, 0.0, None, 0.03, 0.0, 0.02, 0.01, 0.01, 0.0, 0.02, 0.05, 0.16, 0.0, 0.54, 0.0, None, 0.0, 0.01, 0.0, 0.11, 0.0, 0.01, None, 0.0, 0.0, None, 0.06, 0.0, 0.0, 0.0, 0.02, 0.12, 0.0, 0.0, 0.0, 0.14, 0.0, 0.42, 0.0, 0.0, 0.0, 0.0, None, 0.09, 0.0, 0.0, 0.03, 0.0, 0.0, 0.0, 0.2, 0.0, 0.1, 0.1, 0.0, 0.03, 0.18, 0.03, 0.0, 0.25, 0.0, 0.0, None, 0.02, 0.0, 0.07, 0.01, 0.0, 0.31, 0.0, 2.44, 0.0, 0.0, 0.0, 0.26, None, None, 0.0, 0.03, None, 0.0, 0.01, 0.05, 0.03, 0.11, 0.05, 0.74, 0.0, 0.07, 0.01, 0.0, 0.27, 0.44, 0.0, None, 1.24, 0.13, 0.69, 0.0, 0.47, 0.0, 0.21, 0.05, 0.0, 0.41, 0.0, 0.25, 0.0, None, 0.04, 0.08, 0.0, 0.23, 0.0, 0.68, 0.01, 0.11, 0.05, 0.05, 0.47, 0.0, 0.4, 0.0, 0.2, 0.06, None, 0.06, 0.06, None, 2.59, 0.02, 0.3, 0.15, 0.43, 0.27, 0.49, 0.02, 0.33, None, 0.22, 0.57, 1.57, 0.01, 0.29, None, 0.3, 0.48, 0.0, 2.23, 0.0, 0.05, 0.1, 0.0, 0.04, 0.0, 0.13, 0.03, None, None, None, 0.26, 0.32, None, 1.26, 0.0, None, 0.0, 0.01, 0.13, 0.0, 0.01, None, None, None, 0.0, None, 0.04, 0.0, 0.0, 0.0, 0.0, 0.0, 0.0, 0.0, 0.28, 0.0, 0.0, 0.0, 0.0, 0.0, 0.0, 0.0, 0.0, None, 0.0, 0.01, None, 0.0, 0.0, 1.1, None, 0.0, 0.16, 0.0, 0.0, None, 0.11, None, None, 0.27, 1.62, 0.0, 0.0, 0.02, 0.16, 0.0, 0.06, 0.09, 0.0, 0.21, 0.17, 0.0, 0.1, 0.11, 0.0, 0.02, 0.01, 0.4, 0.03, 0.2, 0.2, None, 0.14, 0.21, 0.01, 1.36, 0.03, 0.14, 0.01, 0.09, 0.0, 0.17, 0.0, 0.78, 0.03, 0.03, 0.02, 0.04, 0.05, 0.03, 0.0, 0.31, 0.0, 0.01, 0.04, None, 0.0, 0.05, None, 0.19, 0.0, 0.01, 0.0, 0.0, 0.05, 0.1, 0.04, 0.04, 0.06, 0.0, 0.13, 0.13, 0.01, 0.02, 0.02, 0.0, 0.0, 0.19, 0.0, 0.69, 0.0, 0.14, 0.04, 0.0, 0.18, 0.45, 0.0, 0.54, 0.03, 0.25, 0.16, 0.01, 0.05, 0.15, 0.0, 0.48, 0.0, 0.14, 0.0, 0.0, 0.0, 0.01, 0.2, 0.94, 0.0, 0.0, 0.0, None, 0.0, 0.03, None, 0.67, 0.0, 0.07, None, 0.0, 0.05, 0.47, 0.0, 0.0, 0.0, 0.01, 0.0, 0.0, 0.0, 0.03, 0.0, 0.0, 0.08, 0.0, None, 0.0, 0.1, 0.0, 0.0, 0.03, None, 0.0, 0.07, 0.0, 0.04, 0.0, 0.03, 0.04, 0.0, 0.05, 0.0, 0.01, 0.34, 0.0, 0.26, 0.0, 0.1, None, 0.01, 0.01, None, 0.34, 0.0, 0.0, 0.0, 0.07, 0.01, 0.0, 0.0, 0.0, 0.0, 0.0, 0.0, 0.0, 0.0, 0.0, 0.01, 0.06, 0.0, 0.16, 0.0, 0.27, 0.22, 0.07, 1.24, 0.0, 1.12, 0.0, None, 0.0, 0.0, 0.0, 0.0, 0.01, 0.0, 0.0, 0.02, 0.0, 0.27, 0.0, 0.05, 0.13, 0.46, 0.01, 2.47, 0.0, 0.34, 0.0, 0.59, 1.12, 0.0, 0.0, 0.14, 0.01, 0.01, 0.01, 0.0, 0.01, 0.0, 0.0, 0.04, 0.0, 0.0, 0.0, 1.29, 0.64, 0.0, 0.68, 0.72, 0.0, 0.03, 0.0, 0.07, 0.05, 0.13, 0.36, 0.0, 0.03, 0.0, 0.08, 0.06, 0.0, 0.0, 0.07, None, 0.04, 0.0, 0.01, 0.0, 0.0, 0.0, 0.0, 0.0, 0.0, 0.0, 0.0, 0.0, 0.0, 0.07, 0.8, 1.44, 1.32, 0.85, 0.19, 0.0, 0.0, 0.0, 0.0, 0.0, 0.0, 0.0, 0.0, 0.06, 0.0, 0.0, 0.17, 0.4, 0.0, 0.3, 0.0, 0.03, 0.08, 0.0, 0.06, 0.0, 0.41, 0.0, 0.02, 0.0, 0.0, 0.0, 0.0, 0.0, 0.0, 0.0, 0.27, 0.0, None, 0.0, 0.17, None, 0.22, 0.0, 0.01, 0.06, 0.0, 0.06, 0.0, 0.0, 0.02, 0.16, 0.0, 0.06, 0.12, 0.13, 0.02, 0.1, 0.0, 0.02, 0.0, 0.58, 0.0, 0.1, 0.09, None, 0.0, 0.09, 0.0, 0.84, 0.0, 0.0, 0.0, 0.0, 0.0, 0.0, 0.02, 0.01, 0.0, 0.0, 0.0, 0.0, 0.0, 0.08, 0.0, 0.02, 0.02, 0.0, 0.03, None, 0.27, 0.0, 0.05, 0.06, 0.0, 0.29, 0.92, 0.05, 0.13, 0.03, 0.0, 0.4, 0.67, 0.18, 0.04, 0.04, 0.13, 0.15, 0.09, 1.88, 0.01, 0.0, 0.0, 0.0, 0.09, 0.0, 0.04, 0.03, 0.0, 0.0, 0.0, 0.0, 0.0, 0.02, 0.05, 0.02, 0.0, 0.0, 0.0, 0.0, 1.27, 0.0, None, 0.0, 0.0, 0.01, None, 0.21, 0.0, None, 0.0, 0.0, 0.0, 0.0, 0.0, 0.0, 0.0, 0.0, 0.06, 0.05, 0.12, 0.05, 0.18, 0.0, 1.79, 0.0, 0.03, 0.01, 0.0, 0.0, 0.0, 0.14, 0.02, 0.09, 0.03, None, 0.14, None, 0.45, 0.04, 0.09, 0.08, 0.47, 3.26, 0.06, 0.17, 0.65, 3.62, 0.62, None, 0.63, 0.01, 0.0, 0.0, 0.02, 0.0, 0.05, 0.0, 0.01, 0.0, 0.05, 0.01, 0.04, 0.07, 0.04, 0.08, 0.25, 0.14, 0.0, 0.37, 0.0, 0.02, 0.0, 0.15, 0.32, 0.0, 0.06, 0.03, 0.1, None, 0.0, 0.07, 0.05, 1.68, 0.0, 0.04, 0.0, 0.03, 0.0, None, 0.0, 0.0, 0.0, 0.0, 0.0, None, 0.0, 0.0, None, 0.03, 0.01, 0.09, 0.0, 0.02, 0.0, 0.01, 0.05, 0.06, 0.01, 0.06, 0.07, 0.1, 0.0, 1.2, 0.0, 0.04, 0.02, 0.0, 0.02, 0.0, 0.17, 0.01, 0.05, 0.21, 0.02, 0.19, 0.0, 0.62, 0.03, 0.01, 0.09, 0.07, 0.07, 0.1, 0.74, 0.0, 0.03, 0.08, 0.0, 0.05, None, 0.28, 0.0, 0.09, 0.01, 0.0, 0.18, 0.73, 0.0, 0.0, 0.0, None, 0.0, 0.09, 0.0, 0.0, 0.0, 0.0, 0.0, 0.0, 0.0, 0.03, 0.14, 0.0, 0.0, 0.0, 0.08, 0.01, 0.19, 0.08, 0.02, 0.39, 0.0, 0.23, 0.0, 0.0, 0.0, 0.0, 0.0, 0.0, None, 0.0, 0.0, 0.06, 0.0, 0.0, None, 0.0, 0.06, None, 0.0, 0.03, 0.32, 0.0, 0.0, 0.0, 0.0, None, 0.0, 0.0, 0.0, 0.0, 0.0, 0.0, 0.0, 0.01, 0.0, 0.0, 0.0, None, 0.47, 0.0, 0.24, 0.03, 0.25, 0.64, 0.48, 0.0, 0.6, 0.35, 0.03, 0.15, 0.61, 1.5, 0.04, 0.02, 0.14, None, 0.02, 0.42, 0.72, 0.41, 0.38, None, 1.94, 0.49, 2.02, 0.0, 0.0, 0.0, 0.0, 0.0, 0.0, 0.0, 0.0, 0.0, 0.0, 0.07, 0.26, 0.06, 0.05, 0.0, 0.03, 0.56, 0.0, 0.02, 0.08, 0.0, None, 0.02, 0.0, 0.0, 0.0, 0.13, None, 0.0, 0.0, 0.0, 0.0, 0.0, None, 0.0, 0.0, 0.1, 0.0, 0.05, None, 0.1, 0.08, None, 0.0, 0.08, 0.12, 0.2, 0.05, 0.11, 0.02, 0.0, 0.02, None, 0.3, 0.0, 0.0, 0.0, 0.0, 0.0, 0.0, 0.0, 0.0, 0.0, 0.0, 0.0, 0.0, 0.0, 0.0, 0.0, 0.0, 0.0, 0.0, None, 0.0, 0.0, 0.01, None, 0.0, 0.01, 0.01, 0.0, 0.0, 0.0, 0.0, 0.0, 0.0, 0.0, 0.0, 0.0, 0.0, 0.0, 0.0, 0.0, 0.02, 0.13, 0.0, None, 0.06, 0.0, 0.01, 0.0, 0.01, 0.0, 0.0, 0.02, 0.0, 0.0, 0.0, 0.0, 0.0, 0.0, None, 0.0, 0.0, 0.03, 0.0, 0.01, 0.19, 0.0, 0.0, 0.0, None, 0.03, 0.0, 0.0, 0.01, 0.0, 0.01, 0.0, 0.0, 0.0, 0.0, None, 0.0, 0.0, 0.01, 0.01, 0.0, 0.02, None, 0.06, 0.09, None, 0.1, 0.57, 0.0, 0.92, 0.65, 0.52, 0.42, None, 0.16, 1.08, 0.17, 2.07, 0.0, 0.06, 0.02, 0.0, 0.01, 0.22, 0.0, 0.08, 0.0, 0.02, 0.0, 0.0, 0.01, 0.17, 0.0, 0.03, 0.0, 0.04, 0.04, None, 0.11, 0.09, None, 0.32, 0.0, 0.27, None, 0.02, 0.18, 0.12, 0.0, 0.25, 1.08, 0.28, None, 0.03, 0.0, 0.08, 0.0, 0.07, 0.01, 0.0, 0.06, 0.41, 0.0, 0.03, 0.12, 0.0, 0.25, 0.0, 0.0, 0.0, 0.0, 0.0, 0.01, 0.0, 0.1, 0.0, 0.0, 0.0, 0.0, 0.0, 0.0, 0.0, 0.03, 0.0, 0.0, 0.0, None, 0.0, 0.0, 0.0, 0.03, 0.0, 0.0, 0.0, 0.0, 0.0, 0.0, 0.0, 0.24, 0.76, 0.1, 0.73, 0.61, 0.28, 0.26, 0.01, 0.02, 0.26, None, None, 0.0, 0.0, 0.03, 0.01, 0.0, 0.0, None, 0.0, 0.0, 0.0, 0.0, 0.0, 0.0, None, 0.0, 0.0, 0.0, 0.01, 0.0, 0.0, None, 0.0, 0.0, 0.01, None, 0.0, 0.0, 0.01, 0.01, 0.0, 0.46, 0.8, 0.97, 1.42, 0.02, 0.08, 0.13, 0.9, 0.22, 0.21, 0.0, 0.0, 0.0, 0.0, 0.0, 0.0, 0.0, 0.0, 0.0, 0.0, 0.0, 0.0, 0.0, 0.0, 0.0, 0.0, 0.0, 0.0, 0.0, 0.0, 0.0, 0.0, 0.0, 0.1, 0.1, 0.02, 0.1, 0.15, 0.24, 0.08, None, 0.0, 0.0, None, 0.0, 0.0, 0.0, 0.0, 0.0, 0.0, 0.0, 0.0, 0.0, 0.0, 0.0, 0.0, 0.0, 0.0, 0.0, 0.0, 0.0, 0.0, None, 0.0, 0.0, 0.0, 0.0, 0.19, 0.0, 0.02, None, 0.05, 0.0, None, 0.03, 0.01, 0.77, 0.17, 0.16, None, 1.29, 0.1, 0.0, 0.0, 0.05, 0.03, 0.0, 0.0, 0.03, 0.0, 0.0, None, None, 0.0, 0.0, None, 0.0, 0.0, 0.04, 0.02, 0.0, 0.0, 0.0, 0.0, 0.0, 0.0, 0.0, None, 0.0, 0.02, 0.01, 0.0, 0.01, 0.09, 0.07, 0.0, 0.0, None, 0.0, 0.0, 0.01, 0.0, 0.09, None, 0.1, 0.06, 0.0, 0.0, 0.01, None, 0.0, 0.0, 0.0, 0.0, 0.73, None, None, 0.19, 0.77, 0.0, 0.29, 0.03, 0.46, 0.59, 0.78, 0.0, 0.33, 0.2, 0.09, 0.39, 0.47, 0.18, 0.0, 0.22, 0.0, 0.0, 0.0, None, 0.0, 0.0, 0.0, 0.0, 0.0, 0.0, 0.0, None, 0.0, 0.0, 0.0, 0.0, 0.0, 0.0, 0.0, None, 0.0, 0.0, 0.0, 0.0, 0.0, 0.0, 0.0, None, 0.0, 0.0, 0.0, 0.01, 0.0, 0.0, None, 0.0, 0.0, 0.0, 0.0, 0.0, 0.0, 0.0, 0.0, 0.0, 0.0, 0.0, 0.0, 0.02, 0.0, 0.0, 0.03, 0.0, 0.0, 0.01, 0.0, None, 0.01, 0.01, 0.01, 0.01, 0.0, 0.0, 0.0, None, 0.0, 0.0, 0.0, 0.0, 0.0, 0.0, 0.0, None, 0.0, 0.0, 0.0, 0.0, 0.0, 0.0, 0.0, None, 0.0, 0.0, 0.0, 0.01, 0.0, 0.0, 0.0, None, 0.0, 0.0, 0.01, 0.03, 0.0, 0.0, None, 0.0, 0.0, 0.0, None, 0.0, 0.04, 0.0, 0.05, 0.0, 0.0, 0.0, 0.0, 0.0, 0.0, 0.0, 0.0, 0.0, 0.0, 0.0, 0.0, 0.0, 0.0, 0.0, 0.0, 0.0, 0.0, 0.0, 0.0, 0.0, 0.0, 0.0, 0.0, 0.0, 0.02, 0.07, 0.06, 0.0, 0.0, 0.06, 0.01, 0.06, 0.0, 0.0, 0.0, None, 0.0, 0.0, 0.0, 0.0, 0.02, 0.02, 0.04, 0.03, 0.05, 0.0, 0.02, 0.86, 1.46, 0.68, 1.23, 1.55, 0.75, 0.85, 0.04, 0.01, 0.0, None, 0.0, 0.0, 0.0, 0.02, 0.0, 0.01, 0.0, 0.0, 0.0, 0.0, None, 0.05, 0.72, None, 0.63, 0.66, 0.7, 0.0, 0.0, 0.0, 0.0, 0.0, 0.0, 0.0, 0.0, None, None, 0.0, 0.0, 0.0, 0.0, 0.0, 0.0, 0.0, 0.0, 0.0, 0.0, 0.0, 0.0, 0.0, 0.0, 0.0, 0.0, 0.0, 0.0, 0.0, 0.0, 0.0, 0.0, 0.0, 0.02, 0.09, None, 0.53, 0.36, 0.0, 0.03, 0.04, 1.24, 0.02, 1.01, 1.1, 0.0, 0.4, 0.93, 1.1, 0.58, 0.1, 1.52, 1.07, 0.1, 4.03, 0.0, 0.0, None, 0.04, None, 0.0, 0.01, 0.59, 0.0, 0.0, 0.0, 0.0, None, 0.0, 0.0, 0.0, 0.0, 0.0, 0.0, 0.0, 0.01, 0.01, None, 0.0, 0.08, 0.0, 0.51, 0.0, 0.09, 0.03, None, 0.0, 0.11, 0.0, 0.21, 0.01, 0.14, 0.01, None, 0.09, 0.07, 0.03, 0.8, 0.01, 0.03, 0.0, None, 0.05, 0.08, 0.0, 0.58, 0.02, 0.0, None, 0.1, 0.05, 0.0, 0.0, 0.55, 0.03, 0.11, 0.2, 0.13, None, 1.75, 0.0, 0.03, 0.0, 0.11, 0.01, 0.0, 0.01, 0.12, 0.07, 0.08, 0.07, 0.0, 0.83, 0.05, 0.05, 0.1, 0.06, 0.16, 0.21, 0.01, 1.09, 0.0, 0.0, 0.0, 0.0, 0.0, 0.0, 0.0, 0.0, 0.0, 0.0, 0.0, None, 0.0, 0.0, 0.0, None, 0.0, 0.0, None, None, 0.0, 0.0, 0.01, 0.0, 0.0, 0.0, 0.01, 0.0, 0.0, 0.0, 0.0, 0.48, 0.0, 0.63, 0.0, 0.11, 0.0, 0.01, 0.26, None, 0.0, 0.04, 0.0, 0.0, 0.09, 1.35, 1.51, 0.15, 1.02, 1.56, 0.09, 1.41, 0.15, 0.05, 0.24, 0.05, 0.02, 0.41, 0.17, 1.82, 0.02, 0.0, 0.0, 0.0, 0.0, 0.0, 0.0, 0.07, 0.0, 0.0, 0.0, 0.28, 0.0, 0.0, 0.0, 0.0, 0.01, 0.15, 0.24, 0.0, 0.62, 0.0, 0.94, 0.0, 0.02, 0.07, 0.01, 0.05, 0.0, 1.21, 0.0, 0.01, 0.0, 0.0, 0.0, 0.0, 0.02, 0.0, 0.0, 0.0, 0.0, 0.0, 0.0, 0.0, 0.0, 0.01, 0.0, None, 0.0, 0.0, 0.01, 0.0, 0.05, 0.02, 0.21, 0.0, None, 0.04, 0.13, 0.34, 0.1, 0.0, 0.0, 0.0, 0.0, 0.0, 0.0, 0.0, 0.0, 0.0, 0.0, 0.0, 0.0, 0.0, 0.01, 0.0, 0.44, 0.0, 0.01, 0.01, None, 0.0, 0.0, 0.0, 0.03, 0.08, 0.01, 0.0, None, None, 0.02, 0.01, 0.61, 0.0, 0.01, 0.0, 0.0, 0.0, None, 0.0, 0.0, 0.0, 0.0, 0.0, 0.0, 0.0, 0.0, 0.0, None, 0.01, 0.0, 0.0, 0.0, 0.01, 0.09, 0.72, 0.36, 0.15, 0.1, 0.21, 0.62, 1.03, 0.21, 0.65, 0.95, 0.41, 1.11, 0.0, 0.09, None, None, 0.0, 0.0, 0.0, 0.0, 0.0, 0.0, None, 0.0, 0.0, 0.0, 0.0, 0.05, 0.41, 0.15, None, 0.0, 0.77, 0.0, None, 0.0, 0.0, 0.0, 0.0, 0.0, 0.0, 0.0, 0.0, 0.0, 0.0, 0.0, 0.0, 0.0, 0.0, 0.0, 0.0, 0.02, 0.01, 0.0, 0.01, 0.09, 0.46, 0.3, 0.9, 0.67, 0.04, 0.58, 0.0, 0.14, None, None, 0.01, 0.03, 0.17, 0.1, 0.18, 0.12, 0.04, 0.6, 0.14, 0.05, 0.43, 0.07, 0.03, 0.0, 0.73, 0.0, 0.0, 0.0, 0.0, 0.07, 0.0, 0.13, 0.0, 0.03, 0.1, 0.01, 0.12, 0.03, 1.25, 0.0, 0.11, 0.13, 0.05, 0.48, 0.01, 0.79, 0.04, 0.11, 0.4, 0.09, 0.12, 0.59, 0.02, 0.02, 0.0, 0.0, 0.03, 0.0, 0.3, 0.05, 0.22, 0.06, 0.0, 0.28, 0.0, 0.69, 0.01, 0.0, 0.18, 0.1, 0.24, 0.0, 0.76, 0.0, 0.06, 0.07, 0.0, 0.13, 0.0, 0.48, 0.0, 0.0, 0.0, None, None, 0.0, 0.0, 0.02, 0.0, 0.0, None, 0.15, 0.01, 0.31, 0.0, 0.05, 0.22, 0.0, 0.51, 0.0, 0.41, 0.12, None, 0.03, 0.29, 0.0, 0.68, 0.23, 0.0, 0.16, None, 0.6, 0.78, 0.08, 2.31, 0.05, 0.02, 0.03, 0.04, 0.17, 0.0, 0.61, 0.0, 0.0, 0.03, 0.0, 0.01, 0.0, 0.0, 2.1, 1.84, 1.0, None, 1.38, 2.75, 1.7, 2.31, 2.06, 3.48, 2.61, 2.45, 4.0, 2.98, 0.02, 0.21, 0.12, 0.1, 0.63, 0.07, 1.88, 0.0, 0.02, 0.08, 0.0, 0.04, 0.0, 0.0, 0.26, 0.0, 0.01, 0.0, None, 0.0, 0.01, 0.0, 0.06, 0.04, 0.1, 0.01, None, 0.0, 0.3, 0.03, 0.3, 0.01, 0.0, 0.02, None, 0.0, 0.22, 0.0, 0.29, 0.06, 0.0, 0.11, None, 0.0, 0.04, 0.0, 0.03, 0.0, 0.0, 0.0, 0.0, 0.0, 0.04, 0.0, 0.02, 0.13, 0.0, 0.07, 0.0, 0.16, 0.0, 0.08, 0.01, None, None, 0.13, 0.0, 0.1, 0.0, 0.01, 0.0, 0.06, 0.0, None, 0.0, 0.13, 0.0, 0.04, 0.15, 0.0, 1.22, 0.0, 0.07, 0.0, 0.03, 0.24, 0.06, 0.24, 0.26, None, 0.2, 0.1, 0.38, 0.58, 0.0, 0.64, None, 0.26, 0.95, 0.0, 0.27, 0.0, 0.33, 0.0, None, 0.0, 0.4, 0.0, 0.69, 0.0, 0.01, 0.02, 0.0, 0.0, 0.37, 0.0, 0.03, 0.0, 0.01, None, 0.05, 0.02, 0.02, 0.0, 0.07, 0.37, 1.71, 0.0, 0.87, 4.0, 0.03, 1.19, 0.18, 0.31, 0.0, 0.04, 0.3, 0.0, 0.12, 0.02, 0.22, None, 0.36, 0.55, 0.02, 0.55, 0.01, 0.23, 0.0, 0.26, 0.02, 0.3, 0.04, 0.02, 0.08, 0.09, 0.09, 1.3, 0.0, 0.3, None, 0.17, 0.38, 0.07, 1.8, 0.1, 0.14, None, 0.08, 0.12, 0.05, 0.85, 0.0, 0.0, None, None, 0.0, 0.0, 0.0, 0.0, 0.03, 0.02, 0.01, 0.0, 0.05, 0.0, 0.01, 0.0, 0.06, 0.0, 0.08, 0.01, 0.0, None, 1.21, 0.0, 0.01, 0.05, 0.23, 0.14, 0.0, 0.02, 0.04, 0.13, 0.12, 0.18, 0.54, 0.0, 0.0, 0.2, 0.0, 0.39, 0.04, 0.02, 0.0, 0.02, 0.09, None, 0.19, 0.47, None, 0.0, 0.0, 0.0, None, 0.0, 0.0, 0.01, 0.01, 0.36, None, None, 0.3, 0.53, 0.01, 0.19, 0.0, 0.0, 0.0, 0.0, 0.0, 0.0, 0.0, 0.0, 0.0, 0.0, 0.0, 0.0, 0.01, 0.3, 0.0, 0.0, 0.09, 0.0, 0.0, 0.0, 0.0, 0.0, 0.0, 0.02, 0.0, 0.0, 0.04, 0.01, 0.0, 0.0, 0.0, 0.0, 0.0, 0.03, 0.0, 0.0, 0.0, 0.0, 0.0, None, 0.0, 0.0, 0.0, None, 0.0, 0.0, 0.0, 0.0, 0.29, None, 0.0, 0.01, 0.0, 0.14, 0.22, 0.61, 0.0, 0.93, 0.39, 0.09, None, 0.09, 0.06, 0.0, 0.44, 0.04, 0.01, 0.0, 0.04, 0.0, 0.0, 0.24, 0.0, 0.02, 0.0, 0.0, 0.0, 0.02, 0.0, 0.03, 0.0, 1.37, 0.47, 0.0, 0.39, 2.29, 0.0, 0.06, 0.0, 0.02, None, 0.0, 0.0, 0.0, 0.01, 0.0, 0.01, 0.0, 0.0, 0.0, None, 0.0, 0.27, 0.05, 0.17, 0.11, 0.0, 0.0, 0.06, 0.04, 0.0, 0.06, 0.0, 0.01, 0.01, 0.09, 0.03, 0.01, 0.0, 0.01, 0.47, 0.05, 0.05, 0.02, 0.22, 0.0, 0.37, 0.05, 0.33, 0.19, None, 0.19, 0.38, 0.08, 1.14, 0.01, 0.07, 0.0, None, 0.0, 0.01, 0.07, 0.71, 0.08, 0.19, None, None, 0.17, None, 0.37, 0.0, 0.01, 0.02, 0.09, 0.0, 0.18, 0.08, 0.0, 0.02, 0.14, 0.0, 0.88, 0.0, 0.11, 0.0, 0.0, 0.17, 0.05, 0.0, 0.52, 0.0, 0.08, 0.14, 0.0, 0.0, 0.12, 0.0, 0.16, 0.0, 0.0, 0.0, 0.0, 0.0, 0.03, 0.0, None, 0.0, 0.06, 0.0, None, 0.01, 0.2, 0.0, 0.0, 0.0, None, 0.05, 0.0, 0.0, 0.29, 0.0, 0.03, 0.15, 0.0, 0.0, 0.16, 0.0, 0.01, 0.0, 0.0, 0.02, 0.0, 0.11, 0.06, 0.0, 0.0, 0.0, 0.0, 0.04, 0.0, 0.07, 0.0, 0.37, 0.1, 0.02, 0.27, 0.17, 0.0, 0.11, 0.0, 0.0, 0.01, 0.0, 0.0, 0.0, 0.0, None, 0.0, 0.0, None, None, None, 0.0, 0.0, 0.0, 0.06, 0.03, 0.01, 0.41, None, 0.31, 0.72, 0.12, 0.79, 0.42, 1.2, None, 0.08, 0.56, None, 0.29, 0.08, 1.1, 0.15, 0.03, 0.29, 0.02, 0.02, 0.02, 0.01, 0.04, 0.01, 0.36, 0.0, 0.03, 0.26, 0.0, 0.0, 0.0, 0.0, 0.0, 0.0, None, 0.0, 0.0, None, 0.0, 0.02, 0.0, 0.0, 0.0, 0.0, 0.07, 0.0, 0.03, 0.0, 0.1, 0.09, 0.0, 0.31, 0.0, 0.95, 0.0, 0.0, 0.0, 0.0, 0.0, 0.0, 0.06, 0.0, 0.0, 0.0, None, None, 0.0, 0.0, 0.02, 0.0, 0.0, 0.0, 0.0, 0.0, 0.0, 0.0, 0.0, 0.0, 0.0, 0.0, 0.0, 0.0, 0.0, 0.0, 0.0, 0.0, None, 0.0, 0.0, 0.0, 0.0, 0.79, 0.04, None, None, 0.16, 0.1, 1.43, 0.0, 0.02, 0.13, 0.0, 0.26, 0.0, 0.0, 0.02, 0.0, 0.0, 0.0, 0.05, 0.0, 0.0, 0.02, None, 0.0, 0.02, 0.0, 0.13, 0.01, 0.31, 0.26, None, 0.0, 0.06, 0.01, 0.93, 0.0, 0.01, 0.05, None, 0.41, 0.49, 0.0, 0.14, 0.0, 0.05, 0.57, None, 0.07, 0.17, 0.01, 0.72, 1.09, 5.98, 11.53, 5.54, 7.97, 1.0, 4.3, 0.0, 0.0, 0.0, 0.0, 0.0, 0.0, 0.01, 0.05, 0.13, 0.09, 0.0, 0.0, 0.14, 0.0, 1.04, 0.05, 0.01, 0.04, 0.02, 0.0, 0.01, 0.0, None, 0.03, 0.12, 0.32, 0.0, 0.1, 0.67, 0.0, 0.0, 0.03, 0.01, 0.0, 0.0, 0.15, 0.04, 1.18, 0.0, 0.19, 0.15, None, 0.0, 0.33, 0.0, 1.01, 0.0, 0.05, 0.14, 0.06, 0.18, 0.05, 1.23, 0.0, 0.01, 0.01, 0.0, 0.0, 0.0, 0.16, 0.0, 0.04, 0.0, None, 0.0, 0.05, 0.01, 0.16, 0.0, 0.02, 0.03, None, 0.0, 0.16, 0.0, 0.33, 0.01, 0.01, 0.09, None, 0.07, 0.19, 0.0, 0.55, 0.0, 0.08, 0.02, None, 0.0, 0.08, 0.02, 0.42, 0.0, 0.12, 0.0, None, 0.1, 0.12, 0.02, 0.57, 0.05, 0.21, 0.05, 0.07, 0.37, 0.1, 1.34, 0.02, 0.02, 0.01, 0.05, 0.0, 0.0, 0.12, 0.01, 0.03, 0.03, 0.0, 0.07, 0.0, 0.07, 0.06, 0.19, 0.05, None, 0.1, 0.16, 0.02, 1.1, 0.01, 0.02, 0.03, 0.0, 0.05, 0.01, 0.42, 0.0, 0.01, 0.0, 0.0, 0.0, 0.0, None, 0.02, 0.03, 0.04, 0.07, 0.01, 0.0, 0.01, 0.18, None, 0.01, 0.48, 0.05, 1.29, 0.0, 0.25, None, 0.6, 1.29, 0.04, 0.02, 0.08, 0.0, 0.12, 0.02, 0.9, 0.06, 0.04, 0.08, 0.1, 0.31, 0.03, 0.42, 0.05, 0.04, 0.1, 0.07, 0.23, 0.05, 0.97, 0.0, 0.1, 0.03, 0.01, 0.08, 0.05, 0.07, 0.19, 0.15, None, 0.23, 0.31, 0.05, 0.74, 0.01, 0.15, 0.01, 0.04, 0.0, 0.03, 0.01, 0.06, 0.11, 0.0, 0.22, 0.0, 0.09, 0.07, 0.29, 0.07, 0.14, 0.51, 0.16, 0.03, 0.75, 0.01, 0.0, 0.14, 0.01, 0.0, 0.04, 0.0, 0.2, 0.15, 0.07, 0.08, 0.0, None, 0.17, 0.01, 0.32, 0.03, 0.05, 0.39, 0.2, 0.29, 0.17, 1.45, 0.0, 0.12, None, None, 0.0, 0.03, 0.0, 0.38, 0.01, 0.01, 0.0, 0.02, 0.0, 0.03, 0.0, 0.0, 0.0, 0.0, 0.02, 0.0, 0.0, 0.0, 0.0, 0.0, 0.0, 0.0, 0.0, 0.0, 0.01, 0.0, 0.0, 0.0, None, 0.0, 0.02, 0.0, 0.02, 0.0, 0.15, 0.17, 0.13, 0.37, 0.0, 0.57, 0.0, 0.1, 0.16, 0.0, 0.0, 0.22, 0.0, 0.11, 0.0, 0.02, None, None, 0.0, 0.04, 0.0, 1.0, 0.0, 0.02, 0.0, 0.18, 0.0, 0.29, 0.03, 0.01, 0.04, 0.0, 0.2, 0.0, 0.15, 0.0, 0.13, 0.13, None, 0.0, 0.19, None, 0.88, 0.0, 0.0, 0.0, None, 0.0, 0.01, 0.03, 0.0, 0.0, 0.0, None, None, 0.01, 0.0, 0.09, 0.01, 0.0, 0.0, 0.0, 0.0, 0.0, 0.19, 0.66, 0.0, 0.02, None, 0.1, 0.06, 0.0, 0.68, 0.0, 0.0, None, 0.0, 0.07, 0.0, 0.26, 0.0, 0.01, 0.0, 0.07, 0.29, 0.0, 0.05, 0.0, 0.07, 0.14, 0.0, 0.41, 0.0, 0.02, 0.02, None, 0.0, 0.02, 0.0, 0.19, 0.03, 0.14, 0.09, None, None, 0.12, 0.0, 0.41, 0.01, 0.08, 0.9, None, 0.35, 0.85, 0.11, 0.05, 0.28, None, 0.01, 0.46, 2.2, 0.76, 0.86, 0.45, 1.37, 0.04, 0.51, 0.0, 0.01, 0.14, 0.07, 0.23, 0.05, 0.0, 0.15, 0.0, 0.0, 0.0, 0.33, 0.04, 0.0, None, 0.0, 0.04, 0.0, 0.0, 0.1, 0.0, 0.0, 0.15, 0.0, 0.0, 0.26, 0.0, 0.0, 0.14, 0.04, 0.0, 0.05, 0.07, 0.01, 0.01, 0.14, 0.12, 0.24, 0.43, 0.0, None, None, 0.0, 0.03, 0.03, 0.15, 0.0, 0.2, 0.0, 0.1, 0.0, 0.0, 0.12, 0.01, 0.0, 0.07, 0.0, 0.04, 0.0, 0.55, 0.37, 0.0, 0.34, 0.43, 0.0, 0.18, 0.0, 0.0, 0.0, 0.0, 0.0, 0.13, 0.0, 0.05, 0.0, 0.0, 0.01, 0.0, 0.0, 0.0, 0.0, 0.0, 0.0, 0.13, 0.0, None, 0.0, 0.11, 0.0, 0.17, 0.45, 0.48, None, None, 0.55, 1.02, 0.03, 2.79, 0.0, 0.17, 0.0, 0.08, 0.02, None, 0.01, 0.09, 0.0, 0.09, 0.0, None, 0.13, 0.22, None, None, 0.04, 0.0, 0.23, None, 0.02, 0.02, None, 0.33, 0.0, 0.03, 0.03, 0.0, 0.0, 0.03, 0.0, 0.0, 0.31, 0.07, 0.19, 0.01, 0.72, None, 0.08, 0.51, 0.24, 0.06, 0.02, 0.0, None, 0.11, 0.0, 0.03, 0.0, 0.01, 0.0, 0.0, 0.03, 0.0, 0.0, 0.0, 0.3, 0.01, 0.03, 0.57, 0.06, 1.14, 0.0, 0.57, 0.09, 0.0, 0.09, 0.36, 0.0, 0.15, 0.0, 0.02, 0.0, 0.0, 0.06, 0.0, 0.52, 0.0, 0.21, 0.22, 0.0, 0.22, 0.0, 0.0, 0.0, None, 0.0, 0.01, 0.02, 0.09, 0.07, 0.32, None, None, 0.04, 0.42, 0.15, 1.06, 0.01, 0.2, 0.3, 0.68, 0.07, 2.44, 0.01, 0.02, 0.0, 0.03, 0.0, 0.1, 0.01, 0.26, 0.25, 0.0, 0.2, 0.0, 0.81, 0.0, 0.0, 0.0, 0.0, None, 0.22, 0.0, 0.23, 0.0, 0.0, 0.0, 0.0, 0.0, 0.0, 0.07, 0.05, 0.12, 0.09, 0.09, 0.13, 0.24, 0.01, 1.56, 0.06, 0.09, 0.12, None, 0.21, 0.22, 0.03, 1.9, 0.0, 0.03, None, 0.0, 0.12, 0.0, 0.21, 0.01, 0.14, 0.09, 0.01, 0.0, 0.44, 0.02, 0.05, 0.03, 0.0, 0.14, 0.0, 0.78, 0.0, 0.06, None, 0.0, 0.12, 0.0, 0.08, 0.05, 0.06, 0.0, 0.06, 0.15, 0.02, 0.01, 0.88, 0.0, 0.01, 0.02, None, 0.05, 0.1, 0.0, 0.05, 0.08, 0.01, 0.0, None, 0.02, 0.0, 0.01, 0.72, 0.04, 0.01, 0.0, 0.01, 0.11, 0.0, 0.53, 0.01, 0.39, 0.04, 0.17, 0.37, 0.1, 1.18, 0.0, 0.01, 0.0, 0.0, 0.01, 0.0, 0.0, 0.02, 0.0, 0.0, 0.0, 0.0, None, 0.02, 0.0, 0.08, 0.0, 0.0, 0.0, 0.0, 0.0, 0.0, 0.0, 0.0, 0.02, 0.0, 0.0, 0.23, 0.32, 0.0, 0.38, 0.01, 0.23, 0.31, None, 0.2, 0.3, 0.03, 1.26, 0.0, 0.1, 0.19, 0.0, 0.03, 0.0, 0.0, 0.0, 0.03, 0.0, 0.0, 0.0, 0.0, 0.0, 0.0, 0.01, 0.0, 0.0, 0.0, 0.0, 0.0, 0.02, 0.16, 0.05, 0.04, 0.03, 0.1, 0.1, None, 0.44, 0.02, 0.2, 0.13, 0.02, 0.02, 0.66, 0.77, 0.16, 0.03, 0.0, 0.13, 0.0, 0.03, 0.0, 0.79, 0.02, 0.03, 0.11, None, 0.07, 0.03, 0.0, None, 0.0, 0.93, None, 0.37, 1.23, 0.15, 0.0, 1.6, 0.95, 0.26, 0.38, 1.48, 0.0, 1.7, 0.0, 0.0, 3.86, 0.0, 0.36, 0.0, 0.4, None, 0.18, 0.27, 0.0, 0.39, 0.05, 0.45, 0.41, 0.75, 0.1, 1.47, 0.0, 0.02, 0.11, 0.0, 0.0, None, 0.0, 0.0, 0.0, 0.0, 0.0, 0.0, 0.0, 0.0, 0.0, 0.0, None, 0.0, 0.0, 0.03, 0.03, 0.0, 0.0, 0.02, 0.0, 0.0, 0.0, 0.0, 0.0, 0.0, 0.0, 0.0, 0.0, 0.0, 0.0, 0.01, 0.0, 0.0, 0.0, 0.0, 0.0, 0.0, 0.0, 0.03, 0.03, 0.0, 0.0, 0.04, 0.03, 0.03, 0.06, 0.0, 0.0, 0.01, None, 0.08, 0.14, 0.0, 0.49, 0.0, 0.1, 0.58, 0.62, 0.0, None, 0.0, 0.08, 0.0, None, 0.0, 0.07, 0.01, 0.0, 0.0, 0.0, None, 0.0, 0.0, 0.0, 0.02, 0.0, 0.0, 0.0, None, 0.0, 0.0, 0.0, 0.01, 0.16, 0.05, 0.0, 0.78, 0.0, 0.28, 0.04, 0.02, 0.0, 0.05, None, 1.65, 0.03, 0.32, 0.01, 2.14, 0.04, 0.34, 0.44, 1.72, 0.38, 3.4, 0.64, 0.94, 0.42, 0.91, 0.54, 0.78, 0.78, 0.25, 0.12, 0.0, None, 0.33, 0.19, 0.05, 0.4, 0.0, 0.0, 0.0, 0.0, 0.0, 0.0, 0.0, 0.0, 0.0, 0.0, 0.0, 0.0, 0.0, 0.0, 0.0, 0.0, 0.0, 0.0, 0.0, 0.0, 0.03, 0.0, 0.0, 0.0, 0.16, 0.26, 0.16, None, None, 0.28, 0.15, 0.14, 0.48, 0.34, 0.23, 0.28, 0.33, 0.79, 0.25, 0.16, 0.23, 0.24, 0.35, 0.5, 0.42, 0.0, 0.04, 0.02, 0.03, 0.21, 0.02, 0.04, 0.15, 0.0, 0.09, 0.02, 0.13, 0.03, 0.0, 0.05, 0.0, 0.08, 0.0, 0.0, 0.0, 0.14, 0.01, 0.0, 0.0, 0.0, 0.01, 0.0, 0.05, 0.01, 0.0, 0.01, 0.0, 0.0, None, 0.0, 0.01, 0.0, 0.05, 0.0, 0.0, 0.0, 0.06, 0.0, 0.08, 0.0, 0.13, 0.0, 0.53, 0.0, 0.02, 0.0, 0.12, 0.0, 0.34, 0.0, 0.0, None, 0.0, 0.01, 0.0, 0.0, 0.01, 0.0, 0.0, 0.81, 0.13, 0.02, 0.0, 0.0, 0.01, 0.02, 0.03, 0.16, 0.03, 0.14, 0.11, 0.03, 0.26, 0.35, 0.29, None, 0.33, 0.31, 0.27, 0.36, 0.0, 0.04, 0.1, 0.03, 0.63, 0.12, 0.76, 0.01, 0.33, 0.16, 0.4, 0.43, 0.01, 2.97, 0.0, 0.01, 0.02, None, 0.0, 0.1, 0.0, 0.12, 0.0, 0.0, 0.0, 0.0, 0.0, 0.0, 0.0, 0.0, 0.0, 0.0, 0.0, 0.0, 0.0, 0.0, 0.05, 0.01, 0.0, 0.0, 0.0, 0.0, 0.0, None, 0.0, 0.0, 0.0, 0.0, 0.0, 0.01, None, None, 0.03, 0.05, 0.0, 0.01, 0.0, 0.36, 0.44, 1.14, 0.0, 0.22, 0.0, 1.1, 1.81, 0.64, 0.0, 0.13, 0.03, 0.06, 0.25, None, 0.0, 0.17, 0.03, 0.01, 0.02, 0.08, 0.05, 0.18, None, 0.15, 0.15, 0.01, 0.07, 0.23, 0.39, 0.08, 0.35, 0.55, 0.41, 0.42, 0.31, 0.5, 0.88, 1.12, None, 1.48, 0.67, 0.38, 0.38, 0.0, 0.0, None, None, 0.0, 0.02, 0.01, 0.0, 0.0, 0.38, 0.27, 0.57, 0.26, 0.1, 0.61, 0.22, 0.12, 0.95, 0.87, 0.03, 0.51, 0.0, 0.0, 0.0, 0.0, 0.0, 0.0, 0.02, 0.04, 0.2, 0.19, 0.05, 0.08, 0.49, 0.0, 1.32, 0.27, 0.51, 0.24, 0.47, 0.21, 0.77, 0.12, 2.0, 0.02, 0.43, 0.13, 0.14, 0.44, 0.69, 0.28, 0.14, 0.31, None, None, None, 0.48, 0.14, 0.22, 0.0, 0.0, 0.0, 0.0, 0.32, 0.0, 0.0, 0.0, 0.0, 0.0, 0.0, 0.0, 0.0, 0.0, None, None, 0.0, 0.0, 0.0, 0.0, 0.0, None, 0.0, 0.0, 0.0, 0.0, 0.35, 0.65, 0.25, 0.31, 0.47, 0.5, 0.75, 0.0, 0.0, 0.0, None, 0.0, 0.0, 0.0, 0.02, 0.0, 0.02, None, 0.17, 0.19, 0.0, 0.0, 0.0, 0.0, 0.0, 0.01, 0.0, 0.0, 0.0, 0.03, 0.0, 0.13, 0.03, 0.01, 0.01, 0.0, 0.0, 0.0, 0.15, 0.06, 0.0, 0.0, 0.25, 0.04, 0.01, 0.3, 0.03, 0.02, 0.01, 0.01, 0.19, 0.0, 0.28, 0.01, 0.0, 0.01, 0.43, 0.89, 0.59, 0.41, 0.44, 1.76, 0.31, 0.8, 0.0, 0.0, None, None, 0.0, 0.0, 0.42, 0.0, 0.35, 0.0, 0.0, 0.02, 0.19, 0.02, None, 0.14, 0.62, 0.0, 0.71, 0.06, 0.09, None, 0.0, 0.03, None, 0.01, 0.04, 0.0, 0.1, 0.03, 0.12, 0.01, None, 0.12, 0.09, 0.01, 0.11, 0.0, 0.0, 0.0, 0.0, None, 0.0, 0.0, 0.0, 0.0, 0.0, 0.01, 0.0, 0.0, 0.0, 0.0, 0.0, 0.0, 0.0, 0.19, None, None, None, 0.23, 0.12, 0.0, 0.06, 0.0, 0.02, 0.0, 0.0, 0.0, 0.02, 0.0, 0.01, 0.0, 0.0, 0.0, 0.0, 0.0, 0.76, 1.59, 0.35, 0.63, 0.92, 1.62, 1.05, 2.41, 0.0, 0.0, None, None, 0.15, 0.01, 0.3, 0.04, 0.0, 0.0, 0.01, 0.0, 0.0, 0.0, 0.0, 0.09, 0.23, 0.17, 0.08, 0.0, 0.0, 0.0, 0.0, 0.01, 0.0, 0.0, 0.02, 0.0, 0.03, 0.0, 0.16, 0.0, 0.0, 0.47, 0.0, 0.02, 0.01, None, 0.06, 0.01, 0.0, 0.03, 0.0, 0.0, 0.03, 0.0, 0.0, 0.01, 0.0, 0.0, 0.0, 0.02, None, None, 0.0, 0.05, 0.0, 0.14, 0.02, 0.02, 0.0, 0.03, 0.0, 0.41, 0.05, 0.01, 0.0, None, 0.04, 0.09, 0.0, 0.03, 0.0, 0.02, None, None, None, 0.08, 0.06, 0.08, None, 0.0, 0.02, 0.01, 0.03, 0.0, 0.02, 0.01, 0.07, 0.0, 0.07, 0.0, 1.14, 0.09, 0.41, 0.1, None, 0.16, 0.01, 1.14, 0.0, 1.02, 0.16, 1.0, 0.52, None, None, 0.35, 0.77, 0.05, 2.0, 0.0, 0.01, 0.02, None, 0.0, 0.02, 0.01, 0.03, 0.02, 0.01, 0.0, 0.02, None, 0.0, 0.02, 0.01, 0.0, 1.1, 1.31, None, None, 0.88, 1.97, 2.4, 1.13, 0.0, 0.0, 0.1, 0.06, 0.06, 0.01, 0.0, 0.0, 0.0, 0.0, 0.08, 0.0, 0.54, 0.02, 0.01, 0.07, 0.0, 0.02, 0.04, 0.0, 0.39, 0.0, 0.0, 0.0, 0.0, 0.02, 0.03, 0.02, 0.09, 0.0, 0.13, 0.0, 0.0, 0.0, 0.17, 0.0, 0.37, 0.03, 0.01, 0.05, 0.0, 0.03, 0.04, 0.0, 0.35, 0.0, 0.0, 0.0, None, 0.0, 0.0, 0.0, 0.0, 0.0, 0.0, 0.0, 0.0, 0.0, 0.0, None, 0.0, 0.0, 0.04, 0.0, 0.01, 0.0, 0.0, 0.0, 0.05, 0.02, 0.0, 0.0, 0.0, 0.0, 0.0, 0.0, 0.0, 0.0, 0.0, 0.0, 0.01, 0.0, 0.0, 0.0, 0.0, None, 0.0, 0.01, 0.01, 0.0, 0.01, 0.8, 0.2, None, 0.09, 0.57, 0.0, 0.15, 2.01, 0.93, None, None, 2.25, 1.71, 0.87, 2.02, 0.0, 0.0, 0.09, 0.12, 0.46, 0.14, 0.18, 0.73, 0.26, 0.38, 0.88, 0.42, 0.63, 0.0, 0.13, None, 0.0, 0.84, 0.0, 0.0, 0.0, 0.02, 0.0, 0.03, 0.0, 0.07, 0.0, 0.0, 0.0, 0.0, 0.0, 0.0, 0.0, 0.0, 0.0, 0.0, 0.0, 0.0, 0.0, 0.0, 0.0, None, 0.0, 0.0, None, None, 0.0, 0.0, 0.0, 0.0, 0.02, 0.0, 0.0, 0.0, 0.0, 0.0, 0.1, 0.09, 0.0, 0.11, 0.0, None, 0.0, 0.0, 0.0, 0.0, 0.0, 0.01, 0.0, 0.0, 0.0, 0.0, 0.0, 0.0, 0.0, 0.0, 0.0, 0.0, 0.0, 0.0, None, None, 0.0, 0.0, 0.0, 0.0, 0.0, 0.0, None, 0.01, 0.0, 0.0, 0.0, 0.06, 0.04, None, 0.04, 0.0, 0.03, 0.0, 0.0, 0.0, None, 0.01, 0.0, 0.0, 0.0, 0.01, 0.0, 0.03, 0.0, 0.0, 0.89, 0.76, 0.47, 0.2, 0.78, 0.47, 0.27, 0.72, 0.0, 0.0, 0.0, 0.0, 0.05, 0.02, 0.01, 0.0, 0.0, 0.12, 0.0, 0.0, 0.02, 0.0, None, 0.0, 0.26, 0.03, 0.24, 0.23, 0.0, 0.2, 0.27, 0.32, 0.03, 0.3, 0.01, 1.7, 1.98, 3.03, 2.77, 4.76, 5.54, 0.93, 8.06, 0.01, 0.76, 0.87, 0.04, 2.21, 0.01, 0.77, 0.0, 0.04, 1.55, None, 0.02, 1.42, 0.0, 0.39, 0.02, 0.16, 0.62, 0.0, 0.2, 0.12, 0.0, 0.12, 0.0, 0.27, 0.14, 0.0, 0.05, 0.8, 0.0, 0.54, 0.0, 0.01, 0.0, 0.0, 0.0, 0.24, 0.0, None, 0.01, 0.12, None, None, 0.0, 0.12, 0.0, 0.0, 0.0, 0.0, 0.0, 0.0, 0.02, 0.02, 0.09, 0.07, 0.27, 0.0, 0.38, 0.0, 0.0, 0.0, 0.0, 0.0, 0.02, 0.01, 0.09, 0.0, 0.07, 0.1, 0.0, 0.0, 0.23, 0.0, 0.54, 0.0, 0.0, 0.0, 0.0, 0.0, 0.0, 0.0, 0.12, 0.0, 0.02, 0.0, 0.0, 0.0, 0.04, 0.0, 0.03, 0.01, 0.7, None, None, None, 0.18, 0.0, None, 0.0, 0.0, 0.01, 0.0, 0.0, 0.0, 0.0, 0.0, 0.32, 0.0, 0.0, 0.0, 0.11, 0.0, None, 0.0, 0.16, 0.0, 0.1, 0.0, 0.02, 0.0, 0.0, 0.11, 0.12, 0.0, None, 0.0, 0.0, 0.0, 0.0, 0.0, 0.05, 0.0, 0.0, 0.0, 0.0, 0.0, 0.0, 0.01, 0.0, 0.0, 0.0, 0.0, 0.0, 0.0, 0.01, 0.0, 0.05, 0.0, 0.0, 0.0, 0.01, 0.04, 0.01, 0.0, 0.0, 0.0, 0.05, 0.0, 0.01, 0.01, 0.0, 0.0, 0.02, 0.01, 0.0, 0.0, 0.05, 0.01, 0.0, 0.0, 0.0, 0.0, 0.0, 0.0, 0.0, 0.17, 0.01, 0.02, 0.0, 0.27, 0.02, 0.05, 0.0, 0.7, 0.08, 0.3, 0.02, 0.02, 0.09, None, 0.0, 0.62, 0.38, 1.02, 0.18, 0.16, None, None, 0.68, 0.44, 0.0, 2.15, 0.0, 0.0, 0.0, 0.02, 0.0, 0.0, 0.0, 0.63, 0.06, 1.77, 0.0, 0.01, 0.0, 0.17, 1.95, 0.0, 0.0, 0.18, 0.0, 0.45, 0.0, 0.15, 0.0, 0.07, 0.1, 0.0, 0.54, 0.0, 0.05, 0.31, 0.0, 0.17, 0.03, 0.48, 0.0, 0.04, 0.01, 0.0, 0.0, 0.09, 0.0, 0.09, 0.0, 0.0, 0.24, None, 0.0, 0.04, 0.01, 0.37, 0.0, 0.33, None, None, 0.18, 0.0, 0.22, 0.0, 0.01, 0.03, 0.0, 0.72, 0.0, 0.01, 0.0, None, 0.0, 0.03, 0.0, 0.07, 0.0, 0.0, 0.0, 0.0, 0.0, 0.01, 0.0, 0.07, 0.0, 0.0, 0.0, None, 0.0, 0.01, 0.0, 0.24, 0.0, 0.0, 0.05, None, 0.0, 0.67, 0.01, 0.55, 0.02, 0.06, None, None, None, 0.13, 0.04, 0.0, 0.7, 0.08, 0.08, 0.07, 0.0, 0.1, 0.46, 0.0, 0.0, 0.0, 0.0, 0.0, 0.0, 0.11, 0.0, 0.0, 0.0, 0.03, 0.02, 0.01, 0.04, None, 0.07, 0.05, 0.19, 0.2, 0.49, 0.42, 0.01, 0.25, 0.09, 0.12, None, 0.09, 0.1, 0.77, 0.01, 0.1, 0.17, 0.08, 0.0, 0.07, 0.01, 0.03, 0.04, 0.0, 0.02, 0.0, 0.29, 0.02, 0.07, None, None, 0.22, 0.0, 0.22, 0.02, 0.02, 0.01, 0.0, 0.01, 0.0, 0.01, 0.0, 0.0, 0.0, 0.0, 0.0, 0.0, 0.02, 0.06, 0.0, None, None, 0.04, 0.04, 0.0, 0.07, 0.14, 0.06, 0.03, None, 0.06, 0.37, 0.0, 0.62, 0.02, 0.05, 0.21, None, 0.07, 0.23, 0.0, 0.36, 0.0, 0.0, None, None, None, 0.02, 0.01, 0.0, 0.0, 0.01, 0.2, 0.15, 0.25, 0.16, 0.2, 0.14, 0.18, 0.02, 0.09, 0.5, 0.14, 0.98, 0.02, 0.51, 0.85, 0.3, 0.32, 1.88, 0.22, 0.88, 0.03, 0.0, 0.0, 0.0, 0.05, 0.02, 0.0, 0.0, 0.0, 0.03, 0.08, 0.0, 0.25, 0.02, 0.0, 0.19, 0.0, 0.0, 0.0, 0.0, None, 0.0, 0.0, 0.0, 0.01, 0.0, 0.05, None, None, None, 0.0, 0.0, 0.02, 0.01, 0.1, 0.18, 0.01, 0.18, 0.14, 0.55, 0.36, 0.53, 0.49, 0.05, 1.01, 0.0, 0.0, 0.0, 0.0, 0.01, 0.0, 0.01, 0.0, 0.0, 0.0, 0.0, 0.0, 0.0, None, 0.0, 0.0, 0.0, 0.02, 0.0, 0.16, 0.01, 0.0, 0.04, 0.0, 0.0, 0.06, 0.0, 0.0, 0.0, None, 0.05, 0.0, 0.0, 0.13, 0.0, 0.01, None, 0.0, 0.0, 0.0, 0.07, 0.02, 0.03, None, 0.09, 0.06, 0.35, 0.44, 0.0, 0.0, 0.0, None, 0.19, 0.0, 0.1, 0.0, 0.04, 0.04, 0.0, 0.04, 0.0, 0.04, 0.0, 0.05, 0.01, 0.05, None, 0.19, 0.02, 0.06, 0.45, 0.0, 0.0, 0.0, 0.0, 0.0, 0.0, 0.0, 0.0, 0.0, 0.0, 0.0, 0.0, 0.0, 0.0, 0.0, 0.0, 0.0, 0.0, 0.0, 0.0, None, 0.0, 0.0, 0.0, None, 0.0, 0.0, None, 0.0, 0.0, 0.0, 0.0, 0.0, 0.05, 0.02, 0.0, 0.17, 0.0, 0.0, 0.0, 0.01, 0.0, 0.0, 0.0, None, 0.0, 0.0, 0.0, None, 0.01, 0.0, 0.0, 0.0, 0.25, 0.57, 0.43, None, 0.0, 0.43, 0.67, 0.0, 0.09, 0.0, 0.0, 0.0, None, 0.0, 0.0, 0.0, 0.02, 0.0, 0.0, None, None, 0.0, 0.0, 0.0, 0.0, 0.03, 0.0, 0.0, 0.0, 0.0, 0.0, 0.0, 0.0, 0.0, 0.0, 0.0, 0.0, 0.0, 0.01, 0.07, 0.05, 0.04, 0.01, None, 0.0, 0.0, 0.0, 0.0, 0.0, 0.0, 0.02, 0.05, 0.04, None, 0.05, 0.18, 0.0, 0.22, 0.0, 0.0, 0.0, 0.0, 0.03, 0.0, 0.0, 0.0, 0.03, None, None, 0.01, 0.09, 0.0, 0.36, 0.05, 1.09, 0.42, 1.26, 0.0, 0.96, 0.03, 1.9, 1.67, 3.79, 0.07, 4.32, 0.0, 0.01, 0.0, 0.0, 0.0, 0.2, 0.0, 0.1, 0.0, 0.0, 0.0, 0.0, 0.0, 0.0, 0.0, 0.0, 0.0, 0.0, None, 0.0, 0.0, 0.0, 0.0, 0.0, 0.0, 0.0, None, 0.02, 0.0, 0.09, 0.0, 0.23, 0.0, 0.02, None, 0.01, 0.0, 0.12, 0.0, 0.34, 0.0, 0.03, 0.0, 0.02, 0.0, 0.29, 0.0, 0.04, 0.0, 0.11, 0.0, 0.06, 0.0, 0.0, 0.02, 0.04, 0.13, 0.0, None, 0.02, 0.06, 0.5, 0.15, 0.1, 0.0, 0.01, 0.08, 0.05, None, 0.08, 0.4, 0.01, 0.53, 0.74, 0.08, 0.11, None, 0.27, 0.12, 0.5, None, 0.06, 0.16, None, 0.2, 0.23, 0.02, 0.02, None, None, 0.02, 0.02, 0.53, 0.0, 0.0, 0.0, 0.0, 0.07, 0.0, 0.0, 0.0, 0.0, 0.01, 0.0, 0.0, 0.0, 0.0, 0.0, 0.01, 0.0, 0.0, 0.0, None, None, 0.0, 0.0, 0.02, 0.01, 0.0, 0.0, 0.0, 0.83, 0.14, 0.26, 0.2, 0.58, 0.0, 0.63, 0.0, 0.3, None, 0.2, 0.0, 0.0, None, 0.07, 0.01, 0.0, 0.24, 0.0, 0.0, 0.05, 0.08, 0.0, 0.31, 0.0, 0.05, 0.05, 0.0, 0.1, 0.0, 0.0, 0.03, 0.0, None, 0.0, 0.0, 0.0, 0.0, 0.0, 0.0, 0.02, 0.0, 0.0, 0.0, 0.0, 0.0, 0.0, 0.0, 0.0, 0.02, 0.0, 0.26, 0.0, 0.0, 0.0, 0.0, 0.0, 0.0, 0.2, 0.0, 0.0, 0.0, 0.0, 0.0, 0.0, None, 0.0, 0.01, 0.15, 0.0, 0.07, 0.0, 0.01, 0.06, 0.12, 0.04, 0.02, 0.09, 0.0, 0.43, 0.03, 0.05, 0.01, None, 0.06, 0.04, 0.0, 0.26, 0.0, 0.15, 0.12, None, 0.07, 0.12, 0.0, 0.21, 0.0, 0.0, 0.0, None, 0.0, 0.0, 0.0, 0.24, 0.0, 0.03, None, None, 0.02, 0.01, 0.0, 0.01, 0.0, 0.0, 0.0, 0.0, 0.0, 0.0, 0.0, 0.0, 0.0, 0.0, 0.01, 0.0, 0.0, 0.0, 0.0, 0.0, None, 0.0, 0.0, 0.0, 0.0, 0.0, 0.01, 0.0, 0.0, 0.12, 0.0, 0.22, 0.03, 0.18, 0.03, 0.08, 0.0, 0.38, 0.04, 0.51, 0.0, 0.02, 0.14, 0.04, 0.16, 0.09, 0.0, 0.43, 0.0, 0.0, 0.03, 0.0, 0.0, 0.0, 0.0, 0.01, 0.01, 0.0, 0.71, 0.0, 0.83, 0.03, 0.22, 0.05, 0.43, 0.08, 0.53, 0.0, 0.02, None, 0.04, 0.0, 0.34, 0.0, 0.1, 0.0, 0.01, 0.02, 0.07, 0.0, 0.06, 0.01, 1.0, 0.17, None, 0.42, 0.82, 0.06, 2.8, 0.03, 0.05, None, None, 0.18, 0.36, 0.02, 2.03, 0.35, 0.02, 0.01, 0.22, 0.0, 0.62, 0.02, 0.03, 0.08, 0.03, 0.0, 0.67, 0.04, 0.27, 0.13, 0.88, 0.0, 1.96, 0.12, 0.22, 0.08, 0.32, 0.53, 0.05, 1.53, 0.04, 0.0, 0.01, 0.04, 0.07, 0.02, 0.0, 0.18, 0.0, 0.0, 0.08, 0.0, 0.0, 0.01, 0.0, 0.05, 0.01, 0.02, 0.04, 0.08, 0.0, 0.04, 0.0, 0.44, 0.0, 0.01, 0.04, None, 0.0, 0.05, 0.0, 0.43, 0.0, 0.0, None, 0.0, 0.03, 0.0, 0.3, 0.0, 0.01, 0.0, 0.1, 0.0, 0.11, 0.37, 0.08, 0.03, None, 0.28, 0.16, 0.07, 2.56, 0.0, 0.02, 0.08, None, 0.0, 0.1, 0.0, 0.47, 0.0, 0.0, 0.04, None, 0.0, 0.0, 0.0, 0.28, 0.0, 0.0, 0.0, 0.0, 0.02, 0.0, 0.05, 0.0, 0.02, 0.0, 0.0, 0.0, 0.01, 0.0, 0.02, 0.0, 0.0, 0.01, 0.0, 0.0, 0.0, 0.02, 0.0, 0.0, 0.0, 0.0, 0.0, 0.0, 0.08, 0.0, 0.0, 0.01, 0.0, 0.07, 0.0, 0.0, 0.07, 0.0, 0.03, 0.0, 0.0, 0.0, 0.0, 0.0, 0.14, 0.0, 0.0, 0.0, 0.02, 0.0, 0.0, 0.0, 0.0, 0.0, 0.0, 0.0, None, 0.0, 0.0, 0.0, 0.03, 0.0, 0.02, None, None, 0.02, 0.08, 0.0, 0.49, 0.0, 0.02, 0.08, 0.17, 0.0, 0.81, 0.01, 0.05, 0.0, 0.06, 0.0, 0.71, 0.0, 0.04, 0.0, 0.0, 0.01, 0.0, 0.27, 0.03, 0.74, 1.07, 0.0, 4.07, 0.0, 0.39, 0.0, 0.21, 0.63, 0.0, 1.87, 0.0, 2.41, 0.04, 0.06, 0.09, 0.1, 0.04, 0.0, 1.73, 0.0, 0.02, None, 0.0, 0.05, 0.0, 0.06, 0.0, 0.18, 0.06, 0.03, 0.0, 0.98, 0.0, 0.12, 0.08, 0.08, 0.13, 0.0, 0.28, 0.0, 0.0, 0.0, 0.0, 0.0, 0.0, 0.0, 0.0, 0.0, 0.0, 0.0, 0.0, 0.03, 0.0, 0.0, 0.0, 0.0, 0.0, 0.0, 0.02, 0.0, 0.0, 0.0, 0.0, 0.0, 0.0, 0.0, 0.02, 0.0, 0.0, 0.0, 0.0, 0.03, 0.54, None, None, 1.96, 0.14, 0.0, 0.12, 0.04, 0.02, 0.06, 0.11, 0.06, 0.35, 0.02, 0.0, 0.13, 0.05, 0.05, 0.15, 0.0, 0.0, 0.03, 0.0, 0.0, 0.01, 0.0, 0.15, 0.0, 0.0, 0.1, 0.17, 0.0, 0.18, 0.0, 0.32, 0.0, 0.0, 0.0, None, 0.0, 0.01, 0.0, 0.02, 0.0, 0.01, 0.0, None, 0.02, 0.08, 0.0, 1.22, 0.0, 0.95, 0.06, None, 0.12, 3.88, 0.01, 3.7, 0.0, 0.22, None, 0.4, 1.33, 0.0, 0.43, 0.0, 0.09, 0.16, 1.57, 0.0, 0.21, 0.0, 0.1, 0.04, 0.0, 0.26, 0.0, 0.0, 0.0, 0.0, 0.0, 0.0, 0.0, 0.0, 0.0, 0.0, 0.0, 0.0, 0.0, 0.0, 0.0, 0.0, 0.0, 0.0, 0.0, 0.0, 0.0, 0.04, 0.02, 0.0, 0.0, 0.09, 0.09, 0.29, 0.02, 1.24, 0.36, 0.11, 0.56, 0.12, 1.05, None, 0.15, 1.95, 0.03, 0.42, 0.14, 0.0, 0.0, 0.0, 0.0, 0.02, 0.0, 0.0, 0.0, None, 0.0, 0.02, 0.0, 0.11, 0.0, 0.0, 0.01, 0.02, 0.0, 0.0, 0.0, 0.6, 0.0, 0.04, 0.0, 0.12, 0.0, 0.0, 0.0, 0.53, 0.0, 0.0, 0.0, 0.0, 0.0, 0.0, 0.0, 0.0, 0.0, None, None, 0.0, 0.0, 0.0, 0.0, 0.0, 0.0, None, 0.0, 0.0, 0.0, None, 0.0, 0.0, 0.0, 0.0, 0.0, 0.0, 0.0, 0.0, 0.0, None, 0.01, 0.0, 0.01, 0.01, 0.94, 0.01, 0.06, 0.98, 0.02, 0.7, 0.55, 0.76, 1.52, None, 2.05, 1.39, 0.32, 0.91, 0.01, 0.37, 0.32, None, 0.34, 0.08, 0.07, 0.0, 0.05, 0.44, None, None, 0.35, 0.41, 0.87, 0.06, 0.0, 0.0, 0.0, 0.01, 0.0, 0.01, 0.0, 0.11, 0.05, 0.0, 0.59, 0.01, 1.4, 0.01, 0.03, 0.22, 0.0, 0.01, 0.13, 0.0, 0.57, 0.0, 0.0, 0.0, 0.0, 0.0, 0.02, 0.0, 0.07, 0.0, 0.0, 0.0, None, 0.0, 0.0, 0.0, 0.0, 0.08, 0.19, 0.07, None, 0.01, 0.12, 0.1, 0.08, 0.8, 0.43, 0.57, None, None, 0.44, 0.79, 0.5, 0.83, 0.0, 0.0, 0.0, 0.0, 0.01, 0.1, 0.0, 0.0, 0.01, 0.0, 0.0, 0.09, 0.0, 0.02, 0.0, 0.0, 0.05, 0.0, 0.0, 0.2, 0.0, 0.01, 0.01, 0.01, 0.01, 0.0, None, 0.0, 0.02, 0.0, 0.08, 0.0, 0.03, 0.0, 0.02, 0.0, 0.04, 0.0, 0.63, 0.0, 0.02, 0.2, 0.02, 0.0, 0.0, 0.0, 0.06, 0.0, 0.0, 0.0, None, None, 0.0, 0.0, 0.0, 0.0, 0.0, 0.01, None, 0.0, 0.03, 0.0, None, 0.03, 0.0, 0.0, 0.17, 0.0, 0.0, 0.0, 0.0, 0.0, 0.0, 0.0, 0.0, 0.0, 0.0, 0.07, 0.0, 0.02, 0.02, 0.11, 0.0, 0.36, 0.0, 0.02, 0.0, 0.0, 0.05, 0.0, 0.0, 0.0, 0.0, 0.0, 0.0, 0.0, 0.0, 0.01, 0.02, 0.0, 0.0, 0.0, 0.0, None, 0.0, 0.0, 0.0, 0.0, None, 0.25, 0.02, 0.02, 0.04, 0.0, 0.01, 0.05, 0.03, 0.18, 0.0, 0.56, 0.06, 0.07, 0.04, 0.15, 0.28, 0.01, 1.58, 0.3, 0.07, 0.28, None, 0.03, 0.52, 0.2, 0.86, 0.0, 0.0, None, 0.12, 0.04, 0.04, 0.01, 0.0, 0.03, 0.0, 0.02, 0.05, 0.0, 0.32, 0.8, None, 1.03, 0.5, 0.45, 0.0, 0.43, 0.86, 0.01, 0.42, 0.02, 0.11, 0.59, 0.16, 0.0, 0.22, 0.0, 0.0, 0.0, 0.09, 0.0, 0.0, 0.0, 0.0, 0.0, 0.0, 0.0, 0.0, 0.0, 0.0, 0.0, 0.0, 0.0, 0.0, 0.0, 0.0, 0.0, 0.0, 0.19, 0.0, 0.0, 0.0, 0.0, 0.0, 0.49, 0.09, 0.0, 0.0, 0.0, 0.0, 0.0, 0.0, 0.0, 0.0, 0.0, 0.0, 0.0, 0.0, 0.0, 0.01, 0.0, 0.0, 0.0, 0.0, 0.0, 0.0, 0.0, 0.0, 0.0, 0.0, 0.0, 0.03, 0.13, 0.0, 0.0, 0.0, 0.0, 0.03, 0.0, 0.0, 0.06, 0.04, 0.0, 0.0, 0.01, 0.01, 0.0, 0.02, 0.02, 0.01, 0.0, 0.0, 0.8, 0.8, 0.27, 1.48, 1.02, 1.48, 0.93, 0.79, 1.29, 1.69, None, 1.11, 2.25, 2.25, 2.14, 0.02, 0.1, 0.13, 0.01, 0.0, 0.04, 0.0, 0.15, 0.13, None, 0.0, 0.01, 0.0, 0.0, 0.0, 0.06, 0.02, 0.0, 0.04, 0.08, 0.0, 0.06, 0.0, 0.02, 0.0, 0.0, 0.0, 0.0, 0.0, 0.04, 0.0, 0.0, 0.0, 0.0, 0.0, 0.0, 0.0, None, 0.0, 0.0, None, 0.0, 0.0, 0.0, 0.0, 0.0, 0.0, 0.0, 0.0, 0.0, 0.0, 0.0, 0.0, None, 0.03, 0.0, 0.0, 0.04, 0.0, 0.0, 0.0, 0.0, 0.0, 0.03, 0.0, 0.0, 0.0, 0.0, 0.0, 0.0, 0.0, 0.0, 0.0, 0.13, 0.03, 0.03, 0.03, None, None, 0.0, 0.01, 0.0, 0.12, 0.01, 0.08, 0.25, None, 0.03, 0.24, 0.0, 0.21, 0.0, 0.02, None, 0.0, None, 0.07, 0.01, 0.0, 0.11, 0.04, 0.09, 0.0, 0.24, 0.12, 1.0, 0.15, 0.23, 0.21, 0.05, 0.43, 0.0, 1.85, 0.31, 0.83, 1.4, 1.5, None, 0.25, 1.02, 0.15, 2.81, 0.07, 0.05, 0.22, None, 0.13, 0.14, 0.01, 0.73, 0.09, 0.11, 0.34, None, None, 0.03, 0.29, 0.03, 0.66, 0.09, 0.12, 0.0, None, 0.16, 0.06, 0.0, 0.58, 0.0, 0.0, None, 0.0, 0.0, 0.0, 0.0, 0.0, 0.0, 0.0, 0.0, 0.0, 0.0, 0.0, 0.04, 0.06, 0.03, 0.06, 0.0, 0.17, 0.0, 0.0, 0.0, None, 0.0, 0.0, 0.01, 0.0, 0.08, 0.0, 0.0, 0.0, None, None, 0.0, 0.0, 0.0, 0.01, 0.0, 0.02, 0.0, None, 0.0, 0.05, 0.0, 0.02, 0.0, 0.02, 0.01, None, 0.06, 0.06, 0.0, 1.65, 0.0, 0.07, None, None, 0.08, 0.14, 0.0, 0.39, 0.0, 0.02, 0.0, 0.0, 0.0, 0.0, 0.01, 0.0, 0.06, 0.0, 0.0, 0.0, 0.0, 0.01, 0.0, None, 0.05, 0.0, 0.07, 0.0, 1.19, 0.04, 0.16, 0.39, None, 0.0, 0.09, 0.26, 0.0, 0.86, 0.04, 0.0, 0.03, None, None, 0.0, 0.0, 0.0, 0.96, 0.0, 0.0, 0.06, None, 0.01, 0.02, 0.0, 0.16, 0.0, 0.0, 0.0, 0.0, 0.01, 0.0, 0.0, 0.0, 0.0, 0.0, None, 0.0, 0.0, 0.0, 0.0, 0.0, 0.0, None, 0.0, 0.0, 0.0, 0.0, 0.0, 0.0, 0.0, 0.0, None, 0.01, 0.02, 0.0, 0.06, 0.0, 0.0, 0.01, 0.02, 0.02, 0.0, 0.02, 0.0, 0.0, 0.02, 0.03, 0.13, 0.04, 0.0, 0.04, 0.71, 0.68, 0.61, 1.16, 0.03, 0.03, 1.13, 2.6, None, 2.48, 2.84, 1.57, 1.84, 0.0, 0.03, 0.02, 0.06, 0.2, 0.02, 0.0, 0.0, 0.0, 0.01, 0.06, 0.08, 0.04, 0.43, 0.59, 0.09, 0.9, 0.43, 0.02, 0.1, 0.71, 0.14, 0.71, 0.45, 0.3, None, 0.97, 0.03, 1.38, 0.0, 0.0, 0.0, None, 0.99, 0.0, 0.27, 0.0, 0.0, 0.0, 0.0, 0.0, 0.0, 0.0, 0.0, 0.0, None, 0.0, 0.0, 0.0, 0.0, 0.0, 0.0, 0.0, 0.0, 0.0, 0.0, 0.0, 0.03, 0.05, 0.01, 0.0, 0.0, 0.0, 0.0, 0.0, 0.01, 0.0, 0.0, 0.0, 0.0, 0.1, 0.02, 0.0, 0.04, 0.0, 0.0, 0.0, 0.0, 0.0, 0.0, 0.02, 0.0, 0.0, 0.4, 1.27, 0.77, 1.07, 0.88, 0.53, 0.86, 0.0, 0.0, None, None, 0.0, 0.02, 0.01, 0.02, 0.0, None, 0.06, 0.03, 0.0, 1.05, 0.0, 0.08, 0.13, 0.0, 0.19, None, 0.0, 0.0, 0.0, 0.01, 0.0, 0.11, None, 0.05, 0.09, 0.0, 0.01, 0.14, 0.0, 0.14, 0.09, 0.16, 0.44, 0.17, 0.58, 0.01, 3.01, 0.0, 0.04, 0.02, 0.06, 0.16, 0.0, 0.53, 0.04, 0.04, None, 0.02, 0.11, 0.01, 0.51, 0.04, 0.19, 0.11, 0.25, 0.0, 0.76, 0.03, 0.08, 0.2, 0.23, 0.19, 0.0, 1.34, 0.04, 0.06, 0.07, 0.05, 0.26, 0.01, 2.92, 0.23, 0.23, 0.28, 0.43, 0.71, 0.13, 5.96, 0.13, 0.07, None, 0.13, 0.19, 0.01, 2.13, 0.02, 0.16, 0.38, 0.36, 0.0, 0.24, 0.04, 0.17, None, 0.0, 0.42, 0.0, 0.04, 0.0, 0.21, 0.03, 0.35, 0.0, 0.1, 0.0, 0.0, 0.0, 0.01, 0.0, 0.0, 0.0, 0.0, None, None, 0.0, 0.0, 0.0, 0.0, 0.0, 0.0, None, 0.0, 0.0, 0.0, 0.02, 0.03, 0.01, None, 0.03, 0.0, 0.0, 0.21, 0.0, 0.1, 0.04, 0.0, 0.0, 0.0, 0.0, None, 0.0, 0.0, 0.0, 0.0, 0.0, 0.02, 0.0, 0.1, 0.0, 0.0, 0.0, 0.07, 0.0, 0.0, 0.01, 0.01, 0.12, 0.0, 0.06, None, 0.02, 0.05, 0.0, 0.67, 0.1, 0.08, 0.1, 0.34, 0.0, 1.8, 0.0, 0.24, 0.29, 0.04, 0.25, 0.0, 0.34, 0.12, 0.2, 0.22, 0.22, 0.46, 0.02, 2.25, 0.02, 0.02, None, 0.09, 0.14, 0.0, 0.54, 0.02, 0.04, 0.04, 0.08, 0.0, 0.48, 0.01, 0.1, 0.12, 0.21, 0.0, 0.44, 0.09, 0.08, 0.22, 0.07, 0.09, 0.25, 0.15, 0.72, 0.14, 0.1, 0.25, 0.04, 0.13, 0.13, 0.0, 0.44, 0.0, 0.07, 0.03, 0.0, 0.04, 0.02, 0.0, 0.24, 0.0, 0.0, 0.0, 0.0, 0.0, 0.0, 0.0, 0.0, 0.0, 0.03, None, 0.0, 0.0, 0.08, 0.0, 0.12, 0.0, 0.0, 0.0, 0.0, 0.0, 0.04, 0.0, 0.0, 0.0, 0.0, 0.0, 0.01, None, 0.0, 0.0, None, 0.0, 0.0, 0.0, 0.0, None, 0.0, 0.0, None, None, 0.01, 0.01, 0.01, 0.0, 0.01, 0.07, 0.08, 0.02, 1.02, 0.32, 0.08, 0.04, 0.2, 0.18, 0.0, 0.0, 0.08, 0.02, 0.0, 0.0, 0.0, 0.0, None, 0.0, None, 0.0, 0.0, 0.0, 0.0, 0.0, 0.0, 0.0, 0.0, 0.0, 0.01, 0.0, 0.0, 0.0, 0.0, 0.0, 0.0, 0.0, 0.0, 0.0, None, 0.0, 0.01, 0.0, 0.0, 0.0, 0.0, 0.0, None, 0.0, 0.0, 0.0, 0.0, 0.0, 0.0, 0.0, None, 0.0, 0.0, 0.0, 0.01, 0.0, 0.0, None, None, 0.0, 0.0, 0.0, 0.03, 0.01, 0.06, 0.03, None, None, 0.16, 0.0, 0.03, 0.53, 0.0, 0.0, 0.0, 0.01, 0.0, 0.02, 0.02, None, 0.0, 0.06, 0.25, 0.0, 0.0, 0.0, 0.0, 0.02, 0.07, 0.0, 0.0, 0.88, 0.0, 0.2, 0.0, 0.0, 0.0, 0.01, 0.0, None, 0.0, 0.0, 0.0, 0.11, 0.0, 0.0, 0.02, None, None, 0.0, 0.0, 0.0, 0.36, 0.0, 0.06, 0.03, 0.03, 0.0, 0.19, 0.0, None, 0.03, 0.06, 0.06, 0.0, 0.19, 0.15, 0.01, 0.03, 0.09, 0.1, 0.13, 0.0, 0.18, 0.03, 0.13, 0.07, 0.45, None, 0.17, 0.01, 0.74, 0.08, 0.05, 0.48, None, None, 0.0, 0.11, 0.05, 0.64, 0.0, 0.07, 0.05, None, 0.1, 0.12, 0.0, 0.2, 0.06, 0.08, 0.08, None, None, 0.03, 0.02, 0.02, 0.42, 0.0, 0.0, 0.0, 0.0, 0.0, 0.0, 0.28, 0.0, 0.0, None, 0.0, 0.0, 0.0, 0.02, 0.0, 0.02, 0.0, 0.07, 0.0, 0.15, 0.03, 0.03, 0.01, None, 0.0, 0.08, 0.0, 0.27, 0.0, 0.03, 0.0, None, None, 0.0, 0.01, 0.0, 0.51, 0.0, 0.07, 0.05, 0.01, 0.1, 0.24, 0.0, 0.09, 0.0, 0.0, 0.11, 0.0, 0.13, 0.0, 0.64, 0.0, 0.0, 0.0, 0.0, 0.0, 0.0, 0.02, 0.0, 0.0, 0.0, 0.0, 0.0, 0.0, 0.0, 0.0, 0.0, 0.0, 0.0, 0.0, 0.0, 0.0, 0.0, 0.0, 0.0, None, 0.0, 0.0, 0.0, 0.0, 0.0, 0.0, 0.0, 0.0, None, None, 0.04, 0.0, 0.0, 0.02, 0.03, 0.02, 0.05, 0.01, 0.2, 0.0, 0.01, 0.03, 0.12, 0.03, 0.01, 0.2, 0.04, 0.04, None, 0.11, 0.04, 0.02, 0.53, 0.02, 0.02, 0.05, 0.09, 0.0, 0.49, 0.0, 0.0, 0.0, 0.0, 0.0, 0.01, 0.0, 0.0, 0.0, 0.0, 0.0, 0.01, 0.0, 0.01, 0.0, 0.16, 0.72, 0.82, 0.28, 0.0, 0.0, 0.0, 0.01, 0.11, 0.0, 0.02, 0.0, 0.0, 0.0, 0.02, 0.0, 0.0, 0.0, 0.0, 0.08, 0.0, 0.0, None, None, 0.0, 0.0, 0.0, None, 0.0, 0.0, 0.0, 0.12, 0.0, 0.0, 0.0, 0.0, 0.0, 0.0, 0.0, 0.0, 0.08, 0.0, 0.03, 0.09, 0.0, None, 0.0, 0.0, 0.06, 0.02, 0.14, 0.03, 0.0, 0.0, 0.0, 0.14, 0.0, 0.0, 0.23, 0.0, 0.0, 0.07, 0.01, 0.11, 0.0, 0.03, 0.0, 0.02, 0.09, 0.06, None, 0.2, 0.23, 0.02, 0.0, 0.07, None, 0.0, 0.04, 0.02, 0.0, 0.0, 0.0, 0.0, 0.0, 0.0, 0.0, 0.0, 0.01, 0.0, 0.0, 0.0, 0.0, 0.0, 0.22, 0.0, 0.08, 0.03, 0.05, 0.0, 0.4, 0.0, 0.0, 0.0, None, 0.0, 0.0, 0.0, 0.0, 0.0, 0.0, 0.0, 0.0, 0.01, 0.0, 0.0, 0.0, 0.04, 0.04, None, 0.0, 0.12, 0.0, None, 0.0, 0.0, 0.0, 0.0, 0.0, 0.01, 0.03, 0.0, 0.0, 0.0, 0.0, 0.0, 0.0, 0.0, 0.0, 0.0, 0.0, 0.0, 0.0, 0.0, 0.0, 0.0, 0.0, 0.0, 0.0, 0.0, 0.0, 0.0, 0.0, 0.0, 0.0, None, 0.0, 0.0, 0.0, 0.0, 0.12, 0.0, 0.0, 0.01, None, 0.01, 0.12, 0.0, 0.02, 0.0, 0.04, 0.01, 0.0, 0.0, 0.01, 0.08, 0.0, 0.02, 0.0, 0.0, 0.01, 0.15, 0.0, 0.1, 0.0, 0.31, 0.02, 0.05, 0.0, 0.0, 0.0, 0.0, 0.12, 0.01, 0.0, 0.0, 0.01, 0.02, 0.0, 0.3, 0.0, 0.01, 0.0, 0.03, 0.05, 0.0, 0.56, 0.0, 0.07, 0.06, None, 0.1, 0.15, 0.0, 1.58, 0.04, 0.02, 0.04, 0.09, 0.06, 0.02, 0.99, 0.0, None, 0.03, 0.0, 0.0, 0.0, 0.17, 0.08, 0.05, None, 0.05, 0.73, 0.08, 0.39, 0.07, 0.55, 0.17, 0.21, 0.39, 0.16, 0.16, 0.0, 0.25, 0.05, 0.27, 0.53, 0.03, 0.35, 0.06, 0.0, 0.04, 0.13, 0.0, 0.0, 0.38, 0.0, 0.04, None, None, 0.0, 0.01, 0.0, 0.3, 0.0, 0.0, 0.0, 0.14, 0.0, 0.62, 0.0, 0.02, 0.0, 0.09, 0.0, 0.41, 0.04, 0.04, 0.0, None, 0.19, 0.1, 0.0, 0.52, 0.05, 0.07, 0.0, 0.0, 0.0, 0.0, 0.04, 0.02, 0.04, 0.0, 0.05, 0.03, 0.0, 0.23, 0.0, 0.18, 0.16, 0.0, 0.2, 0.0, 0.0, 0.0, 0.0, None, 0.0, 0.43, 0.03, 0.19, 0.0, 0.07, 0.02, 0.29, 0.0, 2.57, 0.06, 0.14, 0.14, 0.05, 0.1, 2.48, 0.0, 0.07, 0.14, 0.02, 0.13, 0.03, 1.24, 0.04, 0.02, 0.07, 0.07, 0.06, 0.0, 0.2, 0.01, 0.02, 0.05, 0.0, 0.06, 0.01, 0.59, 0.0, 0.0, 0.02, 0.0, 0.02, 0.0, 0.05, 0.06, 0.09, None, 0.0, 0.07, 0.0, 0.19, 0.04, 0.08, 0.0, 0.33, 0.0, 0.46, 0.01, 0.02, 0.0, 0.0, 0.02, 0.0, 0.1, 0.0, 0.04, 0.0, 0.0, 0.03, 0.0, 0.26, 0.04, 0.06, 0.13, 0.04, 0.32, 0.0, 0.44, 0.02, 0.08, 0.0, 0.05, 0.3, 0.0, 0.9, 1.0, 0.06, 0.23, 0.03, 0.76, 0.04, 1.19, 0.02, 0.0, None, 0.04, 0.03, 0.0, None, 0.0, 0.02, 0.01, 0.0, 0.0, 0.0, 0.0, 0.0, 0.0, 0.0, 0.0, 0.0, 0.0, 0.0, None, 0.0, 0.01, 0.0, 0.53, 0.0, 0.03, 0.02, 0.0, 0.06, 0.0, 0.09, 0.03, 0.02, 0.03, 0.01, 0.68, 0.0, 0.24, 0.0, 0.03, 0.01, 0.02, 0.0, 0.0, 0.41, 0.0, 0.01, None, 0.0, 0.02, 0.0, 0.38, None, None, 0.05, 0.04, 0.0, None, None, 0.03, 0.28, 0.0, 0.0, 0.0, 0.0, 0.0, 0.0, 0.0, 0.24, 0.0, 0.0, 0.02, 0.0, 0.01, 0.0, 0.0, 0.01, 0.01, 0.01, 0.0, 0.0, 0.0, 0.02, 0.0, 0.06, 0.06, 0.09, 0.03, 0.06, 0.26, 0.0, 0.06, None, 0.0, 0.01, 0.0, 0.03, 0.0, 0.08, 0.0, 0.07, 0.0, 0.23, 0.0, 0.02, 0.19, 0.11, 0.0, 0.26, 0.0, 0.0, 0.0, 0.01, 0.0, 0.02, 0.0, 0.02, 0.03, 0.04, 0.0, 0.14, 0.02, 0.04, 0.01, 0.01, 0.0, 0.44, 0.0, 0.02, 0.0, 0.04, 0.0, 0.22, 0.0, 0.1, None, 0.26, 0.02, 0.0, 0.01, 0.3, 0.0, 0.1, 0.05, 0.18, 0.0, 0.44, 0.0, 0.0, 0.0, 0.02, 0.0, 0.06, 0.0, 0.0, 0.0, 0.0, 0.0, 0.0, 0.09, 0.0, 0.0, 0.0, 0.0, 0.0, 0.0, 0.0, 0.0, 0.0, 0.0, 0.0, 0.0, 0.05, 0.0, 0.03, 0.1, None, 0.02, 0.0, 0.09, 0.0, 0.59, 0.01, 0.08, 0.0, None, None, 0.02, 0.12, 0.0, 0.36, 0.01, 0.09, 0.1, 0.0, 0.24, 0.03, 2.87, 0.0, 0.43, 0.21, 0.05, 0.42, 0.0, 0.5, 0.0, 0.0, 0.11, 0.0, 0.0, 0.0, 0.23, 0.02, 0.01, 0.01, 0.0, 0.0, 0.0, 0.0, 0.0, 0.01, 0.0, 0.2, 0.0, 0.04, 0.0, 0.18, 0.0, 0.0, 0.0, 0.0, 0.22, 0.0, 0.01, 0.0, 0.0, 0.0, 0.03, 0.01, 0.0, 0.03, 0.03, 0.18, 0.0, 0.29, 0.0, 0.0, 0.0, 0.4, 0.0, 0.03, 0.04, 0.04, 0.0, 0.04, 0.12, 0.0, 0.23, 0.15, 0.03, 0.0, 0.8, 0.05, 0.0, 0.05, 0.05, 0.08, 0.0, 0.13, 0.0, 0.12, 0.16, None, 0.07, 0.13, 0.0, 0.34, 0.0, 0.03, 0.05, None, 0.02, 0.12, 0.0, 1.0, 0.0, 0.11, 0.1, 0.0, 0.02, 0.21, 0.0, 0.71, 0.01, 0.08, 0.17, None, 0.01, 0.13, 0.03, 0.83, 0.0, 0.0, 0.13, 0.0, 0.02, 0.0, 0.06, 0.0, 0.08, 0.03, 0.02, 0.14, 0.0, 0.29, 0.0, 0.18, 0.12, 0.0, 0.0, 0.23, 0.0, 0.52, 0.0, 0.0, 0.02, 0.0, 0.0, 0.0, 0.0, 0.0, 0.0, 0.02, 0.0, 0.0, 0.0, 0.01, 0.0, 0.39, 0.0, 0.01, 0.03, 0.0, 0.01, 0.0, 0.12, None, 0.0, 0.01, 0.0, 0.0, 0.0, 0.01, 0.0, 0.01, 0.0, 0.01, 0.0, 0.0, 0.05, 0.04, 0.06, 0.1, 0.07, 0.21, 0.86, 0.0, 0.11, 0.04, 0.07, 0.14, 0.0, 1.08, 0.03, 0.04, 0.11, 0.13, 0.18, 0.01, 0.98, 0.01, 0.13, 0.19, 0.0, 0.3, 0.2, 0.85, 0.04, 0.13, 0.05, None, 0.2, 0.55, 0.0, 1.04, 0.0, 0.05, 0.0, None, None, 0.0, 0.23, 0.0, 0.05, 0.0, 0.07, 0.02, 0.0, 0.14, 0.0, None, 0.0, 0.0, 0.02, 0.0, 0.01, 0.0, 0.05, 0.06, 0.23, 0.0, None, 0.06, 0.14, 0.0, 0.79, 0.0, 0.0, 0.0, 0.0, 0.0, 0.01, 0.0, 0.37, 0.01, 0.23, 0.2, None, 0.15, 0.43, 0.01, 0.73, 0.15, 0.22, 0.03, None, None, 0.19, 0.22, 0.0, 0.92, 0.03, 0.04, 0.12, None, 0.51, 0.13, 0.01, 0.89, 0.0, 0.27, None, 0.0, 0.14, 0.0, 1.13, 0.0, 0.28, 0.1, 0.35, 0.1, 0.94, 0.0, 0.01, 0.01, 0.0, 0.0, 0.03, 0.0, 0.0, 0.02, 0.08, 0.0, None, 0.0, 0.26, 0.0, 0.34, 0.0, 0.14, 0.05, 0.25, 0.33, 0.02, 1.84, 0.0, 0.01, 0.02, 0.25, 0.02, 0.0, 0.38, 0.0, 0.0, None, 0.0, 0.0, 0.0, 0.0, 0.0, 0.02, 0.0, 0.02, 0.0, 0.1, 0.0, 0.0, 0.0, 0.0, None, 0.0, 0.0, 0.0, None, 0.0, 0.0, 0.0, 0.0, 0.08, 0.25, None, 0.0, 0.21, 0.0, 0.21, 0.0, 0.05, 0.0, 0.01, 0.07, 0.03, 0.48, 0.0, 0.02, None, 0.01, 0.16, 0.0, 0.14, 0.0, 0.04, 0.0, 0.11, 0.0, 0.08, 0.0, 0.0, 0.0, 0.0, 0.0, 0.08, None, 0.0, 0.0, 0.0, 0.0, 0.0, None, 0.0, 0.0, 0.0, 0.01, 0.0, 0.3, 0.0, 0.0, None, 0.0, 0.07, 0.0, 0.12, 0.0, 0.03, None, 0.12, 0.1, 0.01, 0.72, 0.0, 0.0, 0.0, 0.0, 0.0, 0.0, 0.0, 0.0, 0.0, None, 0.0, 0.0, 0.0, 0.02, 0.0, 0.0, 0.0, 0.0, 0.0, 0.0, 0.02, 0.03, 0.0, 0.08, 0.02, 0.22, 0.02, 0.08, 0.04, 0.03, 0.0, 0.02, 0.01, 0.26, 0.01, 0.05, 0.02, 0.15, 0.02, 0.0, 0.62, 0.0, 0.0, 0.0, 0.0, 0.01, 0.0, 0.01, 0.0, 0.0, None, 0.0, 0.0, 0.0, 0.03, 0.0, 0.01, 0.15, 0.0, 0.06, 0.0, 0.13, 0.0, 0.02, None, 0.01, 0.02, 0.0, 0.67, 0.0, 0.04, 0.01, 0.08, 0.0, 0.37, 0.0, 0.0, 0.0, 0.2, 0.0, 0.02, 0.0, 0.13, 0.0, 0.07, 0.02, None, 0.0, 0.01, 0.01, 0.07, 0.0, 0.0, 0.0, 0.0, 0.0, 0.0, 0.0, 0.0, 0.0, 0.0, None, 0.0, 0.0, 0.0, 0.0, 0.0, 0.17, None, 0.0, 0.08, 0.0, 0.2, 0.0, 0.03, 0.0, 0.0, 0.0, 0.02, 0.0, 0.0, 0.0, 0.16, 0.0, 0.0, 0.0, 0.0, 0.3, 0.0, 0.05, 0.0, 0.05, 0.0, 0.02, None, None, 0.01, 0.02, 0.0, 0.02, 0.0, 0.0, 0.0, 0.0, 0.01, 0.01, 0.03, 0.0, 0.0, 0.0, 0.0, 0.0, 0.0, 0.0, 0.0, 0.0, 0.0, 0.0, 0.0, 0.0, 0.0, 0.0, 0.0, 0.0, 0.0, 0.0, 0.0, 0.0, 0.0, 0.0, 0.0, 0.0, 0.01, 0.0, 0.04, 0.0, 0.0, 0.06, 0.0, 0.23, 0.0, 0.0, None, 0.0, 0.0, 0.0, 0.0, 0.0, 0.0, None, None, 0.0, 0.01, 0.0, 0.04, 0.0, 0.0, 0.0, 0.0, 0.02, 0.0, 0.02, 0.0, 0.05, None, 0.0, 0.06, 0.0, 0.54, 0.0, 0.0, 0.02, 0.01, 0.0, 0.14, 0.04, 0.1, 0.1, 0.18, 0.02, 0.9, 0.0, 0.06, 0.07, 0.01, 0.18, 0.0, 1.21, 0.0, 0.11, 0.06, 0.14, 0.03, 0.16, 0.0, 0.13, None, None, 0.0, 0.18, 0.01, 0.57, 0.0, 0.02, 0.0, 0.0, 0.0, 0.03, 0.0, 0.0, None, 0.0, 0.05, 0.0, 0.12, 0.0, 0.0, 0.0, 0.0, 0.0, 0.2, 0.0, 0.0, 0.0, 0.12, 0.0, 0.65, 0.0, 0.28, 0.07, None, 0.13, 0.38, 0.0, 0.02, 0.0, 0.02, 0.01, None, 0.0, 0.02, 0.0, 0.61, 0.0, 0.02, 0.07, None, 0.02, 0.02, 0.0, 0.3, 0.0, 0.02, 0.0, None, 0.0, 0.01, 0.0, 0.2, 0.03, 0.11, None, 0.26, 0.1, 0.16, 0.02, 1.62, 0.04, 0.03, 0.1, 0.19, 0.08, None, 0.01, 0.02, 0.0, 0.0, 0.0, 0.0, 0.02, 0.0, None, 0.0, 0.02, 0.0, 0.04, 0.0, 0.0, 0.0, None, 0.0, 0.0, 0.0, 0.03, 0.0, 0.0, 0.0, None, 0.0, 0.0, 0.0, 0.01, 0.0, 0.0, 0.0, 0.0, 0.0, 0.0, 0.0, 0.01, 0.01, 0.04, 0.0, None, None, 0.0, 0.05, 0.0, 0.12, 0.01, 0.05, 0.02, 0.08, 0.04, 0.0, 0.18, 0.0, 0.0, 0.0, 0.0, 0.01, 0.0, 0.01, 0.03, 0.02, 0.0, 0.0, 0.0, 0.37, 0.0, 0.01, 0.0, 0.03, 0.01, 0.0, 0.0, 0.47, 0.0, 0.15, 0.06, 0.17, 0.03, 0.07, 0.1, 0.43, 0.06, 1.47, 0.05, 0.03, 0.14, 0.14, 0.01, 0.73, 0.19, 1.32, 0.07, 0.11, None, None, None, 0.12, 0.22, 0.03, 3.27, 0.0, 0.0, 0.0, 0.02, 0.0, 0.02, 0.03, 0.15, 0.03, 0.16, 0.04, 1.75, 0.0, 0.0, 0.0, 0.0, 0.0, 0.0, 0.1, 0.19, 0.02, 0.01, 0.0, 0.3, 0.0, 0.11, 0.0, 0.89, 0.0, 0.03, 0.0, 0.0, None, 0.0, 0.06, 0.0, 0.03, 0.0, 0.0, None, 0.0, 0.0, 0.0, 0.0, 0.0, 0.0, 0.0, None, None, 0.0, 0.0, 0.0, 0.0, 0.0, 0.0, None, 0.0, 0.0, 0.0, 0.04, 0.0, 0.0, 0.0, 0.0, 0.0, 0.0, 0.0, 0.0, 0.0, None, 0.0, 0.02, 0.0, 0.0, 0.0, 0.0, 0.0, None, 0.0, 0.0, 0.0, 0.0, 0.02, 0.01, 0.0, None, 0.18, 0.0, 0.0, 0.02, 0.03, 0.12, 0.14, None, 0.02, 0.06, 0.0, 0.57, 0.11, 0.03, None, 0.03, 0.1, 0.03, 0.37, 0.0, 0.03, 0.0, 0.32, 0.0, 1.92, 0.0, 0.06, 0.0, 0.12, 0.0, 0.06, 0.01, 0.0, 0.02, 0.0, 0.01, 0.0, 0.05, 0.03, 0.13, None, None, 0.02, 0.2, 0.0, 0.48, 0.0, 0.23, None, 0.0, 0.0, 0.0, 0.43, 0.0, 0.0, None, 0.0, 0.0, 0.12, 0.0, 0.0, 0.0, 0.07, None, 0.04, 0.29, 0.02, 1.61, 0.0, 0.05, 0.08, 0.1, 0.02, 0.65, 0.0, 0.0, 0.01, 0.02, 0.0, 0.02, 0.05, 0.01, 0.0, 0.0, 0.04, 0.02, 0.08, 0.0, 0.03, 0.0, 0.05, 0.0, 0.0, 0.03, 0.0, 0.0, 0.0, 0.0, 0.02, 0.0, 0.01, 0.0, 0.0, 0.0, 0.02, 0.0, 0.0, 0.45, 0.03, 0.1, 0.09, 0.15, 0.23, 0.0, 1.6, 0.0, 0.07, 0.11, 0.05, 0.14, 0.0, 0.31, 0.06, 0.4, 0.35, 0.17, 3.47, 0.19, 0.15, 0.19, 4.6, 0.64, 0.16, 1.44, 0.0, 3.23, 0.02, 0.59, 0.26, 0.22, 0.53, 0.0, 2.09, 2.42, 2.41, 1.01, 5.32, 1.68, 0.91, 2.63, 4.0, 2.33, 1.88, 6.38, 2.59, 2.83, 2.61, 1.08, 5.71, None, 0.92, 2.71, 6.24, 0.7, 5.37, 0.01, 0.03, 2.7, 0.1, 0.07, 0.05, 2.0, 0.03, 0.05, 0.22, 0.11, 4.68, 0.0, 1.1, 0.0, 0.0, 0.0, None, 0.0, 0.0, 0.0, 0.26, 0.06, 0.0, 0.0, None, 0.0, 0.0, 0.0, 0.0, 0.64, 0.0, 0.0, 0.0, None, None, 0.0, 0.04, 0.01, 0.55, 0.0, 0.0, 0.03, 0.0, 0.0, 0.05, 0.0, 0.4, 0.06, 0.0, None, None, None, 0.0, 0.02, 0.38, 0.44, 0.05, 0.23, 0.07, 0.85, 0.01, 0.3, 0.0, 0.01, 0.1, 0.0, 0.0, 0.02, 0.0, 0.0, 0.01, 0.0, None, 0.0, 0.05, 0.0, 0.77, 0.0, 0.04, 0.06, 0.0, 0.0, 0.19, 0.05, 1.31, 0.0, 0.05, 0.04, 0.0, 0.0, 0.03, 0.0, 0.0, 0.0, 0.0, 0.02, None, 0.0, 0.0, 0.0, 0.0, 0.0, 0.01, None, 0.01, 0.0, 0.0, 0.03, 0.01, 0.07, 0.03, 0.6, 0.01, 1.29, 0.04, 0.01, 0.1, 0.09, 0.12, 0.0, 0.67, 0.0, 0.12, 0.09, None, 0.0, 0.04, 0.0, 0.3, 0.0, 0.0, 0.0, None, 0.0, 0.0, 0.0, 0.0, 0.0, 0.0, 0.0, 0.0, 0.0, 0.04, 0.01, 0.0, 0.0, 0.01, 0.0, 0.11, 0.0, None, 0.0, 0.0, 0.0, 0.02, 0.04, 0.01, 0.0, None, 0.09, 0.02, 0.0, 1.26, 0.0, 0.0, None, 0.0, 0.0, 0.0, 0.07, 0.0, 0.01, 0.0, 0.0, 0.0, 0.0, 0.0, 0.0, 0.01, 0.0, 0.0, 0.0, 0.0, 0.0, 0.0, 0.01, 0.0, 0.03, 0.0, None, 0.03, 0.01, 0.0, 0.0, 0.28, 0.5, 0.07, 0.32, 0.41, 0.49, 0.39, 0.44, 0.37, 0.28, 0.21, 0.48, 0.49, 0.62, 0.3, 0.7, 0.0, 0.04, 0.01, None, None, 0.29, 0.0, 0.15, 0.0, 0.0, 0.0, None, 0.0, 0.0, 0.0, 0.0, 0.0, 0.0, 0.0, 0.0, 0.0, 0.0, 0.0, 0.0, 0.0, 0.0, 0.0, 0.0, 0.0, 0.0, 0.0, 0.0, 0.0, 0.0, 0.0, 0.0, 0.0, 0.0, 0.0, 0.0, 0.0, 0.0, 0.0, 0.0, 0.0, 0.01, 0.0, 0.01, 0.01, 0.0, None, 0.1, 0.01, 0.0, 0.04, 0.01, 0.06, 0.08, 0.01, 0.14, 0.01, 0.35, 1.03, 0.01, 0.0, 0.05, 0.09, 0.05, 0.01, 0.67, 0.03, 0.0, 0.05, 0.0, 0.17, 0.0, 0.0, 0.04, 0.1, 0.25, 0.33, 1.03, 0.08, 0.0, 0.33, 0.05, 0.0, 0.0, 0.0, 0.0, 0.06, 0.0, 0.0, 0.0, 0.0, 0.0, 0.02, 0.23, 0.0, 0.0, 0.0, 1.67, 0.0, 0.06, 0.0, 0.0, 0.0, 0.0, 0.0, 0.0, 0.0, 0.0, 0.0, 0.0, 0.03, 0.0, None, 0.0, 0.24, 0.01, 0.01, 0.0, 0.0, None, 0.0, 0.0, 0.0, 0.03, 0.0, 0.01, 0.0, 0.0, 0.0, 0.0, 0.0, 0.0, 0.0, 0.0, 0.0, 0.0, 0.0, 0.0, 0.0, 0.02, 0.0, 0.0, 0.0, 0.0, 0.0, 0.01, 0.0, 0.0, 0.0, 0.02, 0.0, 1.26, 0.07, 0.01, 0.0, 0.0, 0.0, 0.06, 0.12, 0.0, 0.26, 0.13, 0.08, 0.0, 0.01, 0.04, 0.2, 0.45, None, 0.0, 0.46, 0.02, 0.14, 0.0, 0.0, None, 0.0, 0.0, 0.0, 0.0, 0.0, 0.0, 0.0, 0.0, 0.0, 0.0, 0.0, 0.0, 0.0, None, 0.0, 0.0, 0.0, 0.02, 0.0, 0.04, 0.0, None, 0.1, 0.0, 0.07, 0.0, 0.11, 0.0, 0.05, 0.0, None, 0.01, 0.0, 0.0, 0.0, 0.1, 0.0, 0.01, 0.0, 0.0, 0.0, 0.0, 0.0, 0.0, 0.08, 0.01, 0.0, 0.0, 0.0, 0.08, 0.03, 0.0, 0.0, 0.0, 0.0, 0.0, 0.0, 0.0, 0.0, 0.0, 0.0, 0.0, 0.0, 0.0, 0.0, 0.0, 0.0, 0.0, 0.0, 0.0, 0.0, 0.0, 0.01, 0.0, 0.0, 0.1, 0.0, 0.05, 0.0, 0.2, 0.0, 0.0, 0.0, 0.0, 0.0, 0.0, 0.0, 0.1, 0.0, 0.0, 0.0, 0.0, 0.0, 0.0, 0.0, 0.0, 0.04, 0.0, 0.15, 0.0, 0.0, 0.01, 0.0, 0.0, 0.05, 0.0, 0.01, 0.01, 0.04, 0.08, 0.0, 0.1, 0.01, 0.25, 0.0, 0.02, 0.0, 0.0, 0.01, 0.0, 0.05, 0.0, 0.01, None, 0.01, 0.0, 0.0, 0.0, 0.0, 0.03, 0.0, 0.02, 0.0, 0.06, 0.0, 0.0, 0.03, 0.04, 0.05, 0.0, 0.06, 0.0, 0.0, None, 0.05, 0.0, 0.0, 0.05, 0.03, 0.05, 0.07, 0.04, 0.0, 0.58, 0.1, 0.02, None, 0.1, 0.11, 0.01, 0.8, 0.04, 0.02, 0.01, 0.12, 0.01, 0.42, 0.03, 0.06, 0.12, 0.02, 0.11, 0.02, 0.27, 0.18, 0.24, 0.25, 0.19, 0.58, 0.03, 1.52, 0.02, 0.02, 0.05, 0.24, 0.01, 0.0, 0.16, 0.15, 0.05, 0.16, 0.1, 0.29, 0.0, 0.87, 0.02, 0.11, None, 0.08, 0.1, 0.0, 0.3, 0.07, 0.02, 0.25, 0.38, 0.0, 0.63, 0.01, 0.0, 0.07, None, 0.02, 0.03, 0.01, 1.09, 0.0, 0.02, 0.04, 0.02, 0.09, 0.3, 0.01, 1.18, 0.7, 0.05, 0.1, 0.86, 0.02, 0.07, 0.06, 1.37, 0.4, 1.55, 0.47, 2.8, 0.39, 1.02, 0.1, 6.42, 0.08, 0.58, None, None, 0.21, 0.65, 0.03, 1.71, 0.07, 0.76, 0.55, 1.16, 0.29, 1.35, 0.07, 0.11, 0.36, 0.07, 0.23, 0.03, None, 0.13, 0.07, 0.02, 0.16, 0.08, 0.1, 0.05, 0.0, 0.08, 0.0, 0.05, 0.0, 0.0, 0.0, 0.53, 0.0, 0.04, 0.04, 0.07, 0.0, 0.05, 0.0, 0.26, 0.0, 0.0, 0.0, 0.0, 0.01, 0.0, 0.0, 0.12, 0.0, 0.0, 0.0, 0.0, 0.0, 0.01, 0.0, 0.22, 0.0, 0.01, 0.0, 0.0, 0.02, 0.0, 0.03, 0.0, 0.03, 0.02, 0.02, 0.07, 0.0, 0.11, 0.08, 0.14, 0.24, 0.0, 0.42, 0.29, 0.01, 0.46, 0.03, 0.11, 0.04, 0.0, 0.12, 0.05, 0.0, 0.16, 0.02, 0.36, 0.14, 0.12, 0.22, 0.54, 0.02, 0.32, 0.0, 0.03, 0.0, 0.0, 0.0, 0.01, 0.0, 0.1, 0.0, 0.0, 0.0, None, 0.0, 0.0, 0.0, 0.01, 0.07, 0.07, None, 0.0, 0.01, 0.05, 0.16, 0.02, 0.0, 0.0, 0.0, 0.0, 0.0, 0.01, 0.05, 0.0, 0.0, 0.0, 0.0, 0.21, 0.0, 0.0, 0.0, 0.0, 0.0, 0.03, 0.01, 0.08, 0.0, None, 0.01, 0.01, 0.01, 0.04, 0.02, 0.03, 0.04, None, 0.1, 0.05, 0.0, 1.13, 0.01, 0.38, None, 0.0, 0.0, 0.22, 0.0, 1.15, 0.0, 0.02, 0.02, 0.06, 0.0, 0.4, 0.0, 0.03, 0.09, 0.01, 0.26, 0.0, 0.29, 0.0, 0.04, 0.21, 0.0, 0.0, 0.04, 0.0, 0.03, 0.0, 0.01, 0.0, 0.0, 0.05, 0.01, 0.0, 0.08, 0.0, 0.0, 0.0, None, 0.0, 0.0, 0.0, 0.0, 0.0, 0.0, 0.0, None, 0.0, 0.0, 0.0, 0.0, 0.0, 0.0, None, None, 0.0, 0.01, 0.0, 0.07, 0.0, 0.01, 0.0, 0.08, 0.0, 0.07, 0.0, 0.07, 0.0, 0.02, 0.0, 0.42, 0.05, 0.16, 0.07, 0.12, 0.0, 0.09, 1.96, 0.0, 0.04, 0.05, 0.1, 0.0, 0.0, 0.0, 0.17, 0.02, 0.03, 0.02, 0.17, 0.05, 0.06, 0.01, 0.28, 0.0, 0.05, 0.08, 0.08, 0.01, 0.08, 0.0, 0.27, 0.0, 0.0, None, None, 0.0, 0.05, 0.0, 0.11, 0.0, 0.01, 0.0, 0.12, 0.1, 0.0, 0.06, 0.06, 0.0, 0.1, 0.0, 0.17, 0.01, 0.62, 0.4, None, 0.6, 0.05, 1.27, 0.0, 1.06, 0.02, 0.19, 0.12, None, 0.02, 0.29, 0.02, 0.58, 0.28, 0.1, 0.12, 0.03, 0.03, 0.26, 0.93, 0.58, 0.8, 0.7, 0.54, 1.68, 0.08, 2.24, 0.03, 0.33, 0.39, None, 0.0, 0.55, 0.0, 0.76, 0.0, 0.03, 0.27, 0.03, 0.03, 0.0, 0.3, 0.01, 0.05, 0.0, 0.05, 0.09, 0.0, 0.01, 0.05, 0.04, 0.08, None, 0.1, 0.3, 0.0, None, 0.0, 0.04, 0.0, None, 0.0, 0.0, 0.0, 0.01, 0.0, 0.0, None, 0.0, 0.0, 0.01, 0.03, 1.6, 0.01, 0.0, None, 0.0, 0.03, 0.02, None, 0.14, 4.47, None, None, 0.29, 2.4, 0.65, 0.0, 1.56, 0.0, 1.48, 0.0, 0.0, 0.3, 0.0, 0.0, 0.34, 0.01, 0.0, 0.0, 0.0, None, 0.01, 0.0, 0.0, 0.46, 0.0, 0.0, 0.07, 0.0, 0.0, 0.0, 0.13, 0.0, 0.22, 0.0, 0.08, 0.54, 0.12, 0.01, 0.38, 0.01, 0.29, 0.01, 0.32, 0.0, 0.0, 0.12, 0.01, 0.0, 0.44, 0.02, 0.03, 0.0, 0.0, 0.2, 0.0, 0.0, 0.43, 0.0, 0.0, 0.0, 0.06, 0.0, 0.0, 0.02, 0.15, 0.08, 0.26, 0.22, 0.01, 1.72, 0.03, 0.06, 0.01, 0.08, 0.07, 0.01, 0.0, 0.57, 0.0, 0.11, 0.11, 0.0, 0.0, 0.06, 0.0, None, 0.0, 0.0, 0.01, 0.0, 0.0, 0.01, 0.0, 0.03, 0.04, 0.07, 0.0, 0.14, 0.08, 0.01, 0.02, 0.0, None, 0.0, 0.0, 0.0, 0.0, None, 0.0, 0.07, 0.14, 0.07, 0.0, 0.0, 0.03, 0.01, 0.0, 0.13, 0.0, 0.03, 0.11, 0.02, 0.0, 0.02, 0.15, 0.0, 0.44, 0.0, 0.05, 0.08, 0.0, 0.0, 0.02, 0.0, 0.65, None, 0.07, 0.03, 0.06, 0.0, 0.14, 0.01, 0.06, 0.01, 0.08, 0.05, 0.13, 0.05, 0.0, 0.57, 0.0, 0.0, 0.0, 0.0, 0.0, 0.0, 0.0, 0.0, 0.0, 0.0, 0.0, 0.0, 0.0, 0.0, 0.03, 0.0, 0.0, 0.19, 0.0, 0.01, 0.0, 0.0, 0.11, 0.02, 0.0, 0.0, 0.08, 0.0, 0.0, 0.02, 0.0, 0.0, 0.0, 0.03, 0.0, 0.09, 0.0, 0.03, 0.02, 0.0, 0.04, 0.1, 0.01, 0.1, 0.0, 0.0, 0.0, 0.0, 0.0, 0.0, 0.0, 0.0, 0.0, 0.0, 0.0, 0.0, None, 0.0, 0.0, 0.0, 0.0, 0.0, 0.0, 0.0, 0.0, 0.0, 0.0, 0.0, 0.0, 0.02, 0.0, 0.01, 0.0, 0.08, 0.03, None, 0.0, 0.0, 0.0, 0.39, 0.03, 0.1, 0.0, 0.03, 0.16, 0.0, 0.21, 0.0, 0.07, 0.06, 0.04, 0.02, 0.0, 0.19, 0.0, 0.03, 0.0, 0.01, 0.0, 0.03, 0.0, 0.1, 0.0, 0.04, None, None, 0.03, 0.14, 0.0, 0.18, 0.04, 0.05, 0.2, 0.42, 0.01, 0.88, 0.02, 0.0, 0.04, 0.0, 0.09, 0.0, 0.21, 0.0, 0.02, 0.08, 0.17, 1.25, 0.0, 0.95, 0.0, 0.02, 0.0, 0.0, 0.09, 0.0, 0.41, 0.0, 0.0, 0.0, 0.0, 0.11, 0.0, 0.19, 0.01, 0.05, 0.0, 0.09, 0.01, 0.0, 0.5, 0.0, None, None, 0.0, 0.0, 0.0, 0.38, 0.0, 0.0, 0.18, 0.0, 0.21, 0.0, 0.23, 0.0, 0.36, 0.0, 0.25, 0.0, None, 0.0, 0.0, 0.0, 0.0, 0.0, 0.09, 0.0, 0.0, 0.0, 0.08, 0.0, 0.0, 0.0, 0.0, 0.0, 0.0, 0.0, 0.0, 0.02, 0.0, 0.0, None, 0.0, 0.03, 0.08, 0.11, 0.0, 0.0, 0.03, 0.0, 0.02, 0.03, 0.03, 0.0, 0.0, 0.0, 0.18, 0.0, 0.07, 0.0, 0.0, 0.0, 0.0, 0.0, 0.08, None, 0.08, 0.03, 0.14, 0.0, 0.3, 0.13, 0.03, None, 0.01, 0.09, 0.09, 0.01, 0.25, 0.0, 0.02, 0.12, None, 0.01, 0.07, 0.0, 0.57, 0.02, 0.16, 0.11, 0.13, 0.17, 0.0, 0.56, 0.1, 0.24, None, None, 0.15, 0.07, 0.14, 1.11, 0.05, 0.09, 0.0, 0.41, 0.08, 0.41, 0.0, 0.0, 0.12, 0.0, 0.03, 0.0, 0.6, 0.0, 0.08, 0.06, 0.0, 0.04, 0.0, 0.2, 0.0, 0.03, None, 0.08, 0.01, 0.0, 0.39, 0.0, 0.06, 0.0, 0.0, 0.0, 0.03, 0.0, 0.29, 0.0, 0.21, 0.0, 0.22, 0.17, 0.0, 0.02, 0.0, 0.28, None, 0.0, 0.18, 0.0, None, 0.0, 0.03, 0.02, 0.25, 0.05, 0.07, 0.0, 0.0, 0.07, 0.36, 0.0, 0.04, 0.02, 0.04, 0.01, 0.08, 0.0, 0.02, 0.0, None, 0.05, 0.0, 0.0, 0.15, 0.02, 0.12, 0.0, 0.02, 0.0, 0.05, 0.03, 0.55, 0.0, 0.05, 0.01, 0.05, 0.01, 0.05, 0.01, 0.13, 0.0, 0.03, None, 0.0, 0.5, 0.01, 0.0, 0.1, 0.0, 0.04, 0.0, 0.08, 0.0, 0.53, 0.0, 0.0, None, 0.0, 0.11, 0.0, 0.01, 0.0, 0.0, 0.0, None, 0.0, 0.02, 0.0, 0.07, 0.0, 0.06, 0.0, 0.0, 0.0, 0.0, 0.16, 0.0, 0.0, None, 0.0, 0.01, 0.0, 0.03, 0.0, 0.16, 0.0, 0.19, 0.42, 0.0, 1.25, 0.0, 0.0, 0.0, None, 0.0, 0.0, 0.0, 0.01, 0.0, 0.01, 0.0, 0.12, 0.08, 0.0, 0.18, 0.01, 0.04, 0.0, 0.02, 0.0, 0.04, 0.03, 0.04, 0.02, None, 0.0, 0.07, 0.0, 0.51, 0.02, 0.03, 0.01, None, 0.0, 0.12, 0.0, 0.26, 0.0, 0.02, 0.02, 0.0, 0.0, 0.05, 0.0, 0.17, 0.0, 0.0, 0.03, None, 0.0, 0.08, 0.01, 0.26, 0.0, 0.01, 0.0, None, 0.0, 0.0, 0.0, 0.0, 0.0, 0.0, 0.01, 0.0, 0.0, None, 0.12, 0.61, 0.39, 0.2, 0.85, 0.14, 0.04, 0.15, 0.04, 0.02, 0.07, 0.07, 0.7, 0.09, 0.03, 0.0, 0.0, 0.04, 0.09, 0.01, 0.02, 0.04, 0.04, 0.13, 0.02, 0.06, 0.25, 0.31, 2.12, 0.0, 0.01, 0.01, 0.0, 0.0, 0.02, 0.0, 0.35, 0.0, 0.22, None, 0.12, 0.24, 0.0, 0.23, 0.0, 0.1, None, 0.0, 0.02, 0.0, 0.3, 0.0, 0.0, 0.08, 0.01, 0.0, 0.11, 0.08, 0.07, 0.09, 0.12, 0.01, 1.34, 0.03, 0.04, 0.0, 0.0, 0.28, 0.0, 0.0, 0.0, 0.1, 0.1, 0.16, 0.06, 0.0, 0.72, 0.0, 0.0, 0.01, None, 0.0, 0.0, 0.0, 0.1, 0.0, 0.04, None, None, 0.0, 0.04, 0.0, 0.18, 0.04, 0.15, 0.06, 0.17, 0.02, 0.66, 0.0, 0.0, 0.02, 0.0, 0.05, 0.0, 0.3, 0.0, 0.0, 0.13, None, 0.0, 0.22, 0.0, 0.4, 0.0, 0.06, 0.01, None, 0.0, 0.06, 0.0, 0.27, 0.15, 0.0, 0.03, None, 0.0, 0.01, 0.0, None, 0.0, 0.0, None, None, 0.0, 0.01, 0.0, 0.0, 0.01, None, 0.01, 0.08, 0.0, 0.12, 0.02, 0.02, 0.02, 0.01, 0.04, 0.02, None, 0.03, 0.05, 0.07, 0.01, 0.05, 0.0, 0.0, 0.1, 0.15, None, 0.04, 0.09, 0.0, None, 0.01, 0.07, 0.06, None, 0.74, 0.06, 0.15, 0.03, 0.01, 0.02, 0.0, None, 0.05, 0.08, 0.03, 0.0, 0.15, 0.01, 0.03, 0.14, 0.04, 0.06, 0.0, 0.24, 0.0, 0.0, 0.02, 0.06, 0.02, 0.0, 0.17, 0.0, 0.04, None, 0.12, 0.0, 0.0, 0.31, 0.02, 0.0, 0.01, 0.02, 0.02, 0.1, 0.05, 0.09, 0.01, 0.0, 0.01, 0.02, 0.0, 0.15, 0.0, 0.0, 0.0, 0.03, 0.0, 0.0, 0.0, 0.0, None, 0.0, 0.08, 0.0, 0.06, 0.01, 0.1, 0.12, None, 0.02, 0.12, 0.0, 0.25, 0.01, 0.03, None, None, 0.02, 0.09, 0.0, 0.98, 0.0, 0.04, 0.12, 0.11, 0.0, 0.29, 0.0, 0.0, 0.03, 0.0, 0.01, 0.0, 0.06, None, 0.21, 0.17, 0.1, 0.03, 0.81, 0.0, 1.16, 0.03, 0.09, 0.22, 0.05, 0.06, 0.01, 0.68, 0.22, 0.2, 0.08, 0.82, 0.17, 0.61, 0.1, 1.65, 0.07, 0.54, None, 0.25, 0.05, 0.38, 0.57, 0.03, 1.03, 0.06, 0.03, None, None, 0.14, 0.05, 0.01, 0.91, 0.05, 0.09, 0.12, 0.17, 0.14, 0.0, 1.84, 0.0, 0.02, 0.0, 0.0, 0.01, 0.0, 0.07, 0.0, 0.0, 0.0, None, 0.0, 0.03, 0.0, 0.18, 0.06, 0.13, None, 0.07, 0.09, 0.06, 0.01, 0.83, 0.0, 0.0, 0.0, None, 0.06, 0.0, 0.0, 0.0, 0.01, 0.0, 0.0, 0.02, 0.0, 0.09, 0.0, 0.16, 0.0, 0.14, 0.0, 0.16, None, 0.0, 0.08, 0.0, 0.05, 0.0, 0.41, 0.0, 0.12, None, 0.09, 0.32, 0.02, 1.5, 0.0, 0.01, 0.0, 0.03, 0.0, 0.17, 0.0, 0.02, 0.02, 0.0, 0.03, 0.0, 0.11, 0.01, 0.01, 0.0, 0.0, 0.04, 0.0, 0.05, 0.0, 0.1, 0.03, 0.04, 0.17, 0.05, None, 0.0, 0.03, 0.1, 0.23, 0.0, 0.06, 0.05, 0.0, 0.03, 0.0, 0.19, 0.0, 0.02, 0.0, 0.0, 0.03, 0.0, 0.1, 0.0, 4.02, 3.6, 0.25, 0.02, 0.76, 0.89, 4.43, 1.14, 0.51, 0.58, 2.45, 0.56, 0.63, 1.75, 1.71, 0.09, 0.33, 0.03, 2.0, 0.0, 0.08, 0.04, 0.0, 0.01, 0.42, 0.0, 0.22, 0.07, 0.03, 0.19, None, 0.15, 0.22, 0.02, 0.61, 0.05, 0.0, 0.0, 0.0, 0.08, 0.01, 0.0, 0.15, 0.0, 0.0, 0.01, 0.02, 0.0, 0.16, 0.0, 0.1, None, 0.03, 0.08, 0.0, 0.17, 0.0, 0.02, 0.01, 0.03, 0.0, 0.01, 0.0, 0.03, 0.09, 0.01, 0.1, 0.23, 0.0, 0.09, 0.0, 0.0, 0.02, 0.0, 0.0, 0.01, 0.0, 0.0, 0.0, 0.02, 0.01, 0.01, 0.0, 0.0, 0.01, 0.0, 0.09, 0.0, 0.0, 0.0, 0.0, 0.03, 0.0, 0.0, 0.0, 0.02, 0.02, 0.06, 0.0, 0.0, None, 0.0, 0.1, 0.01, 0.17, 0.06, 0.08, None, 0.02, 0.06, 0.0, 0.71, 0.0, 0.0, 0.0, 0.09, 0.0, 0.01, 0.0, 0.03, 0.0, None, 0.0, 0.0, 0.01, 0.0, 0.0, 0.01, 0.01, 0.02, None, 0.02, 0.01, 0.11, 0.03, 0.15, 0.0, 0.3, 0.56, None, 0.01, 0.0, 0.64, 0.0, 0.19, 0.0, 0.0, 0.0, None, 0.01, 0.0, 0.05, 0.0, 0.03, 0.0, 0.01, 0.0, None, 0.0, 0.0, 0.0, 0.0, 0.01, 0.0, 0.0, 0.0, 0.0, 0.0, 0.0, 0.0, 0.0, 0.0, 0.0, 0.0, 0.06, 0.0, 0.01, 0.0, 0.01, 0.02, 0.03, 0.29, 0.0, 0.02, 0.0, None, 0.03, 0.01, 0.14, 0.04, 0.1, 0.1, 0.92, 0.01, None, 0.1, 0.15, 1.33, 0.01, 0.74, 0.11, 0.24, 0.38, None, 0.35, 0.05, 0.36, 0.03, 0.04, 0.02, 0.73, None, None, None, 0.1, 1.18, 0.53, 0.31, 0.55, 1.76, 0.51, 3.14, 0.72, 2.26, 0.55, 0.86, 0.99, 0.2, 1.5, 0.6, 1.91, 0.12, 0.23, 0.4, 1.8, 0.04, 0.19, 0.94, 0.03, 2.07, 0.12, 0.15, 0.08, 0.06, 0.52, 0.0, 0.16, 0.02, 0.34, 0.02, 0.25, 0.11, 0.08, 2.1, 0.06, 0.14, 0.1, 2.1, 0.42, 0.64, None, 0.53, 1.03, 0.4, 0.76, 3.05, 0.0, 0.22, None, None, None, 0.0, 1.58, 0.0, 0.35, 0.0, 0.0, 0.0, 0.03, 0.0, 1.21, 0.04, 0.02, 0.12, 0.0, 0.41, 0.2, 0.0, 0.13, 0.34, 0.02, 0.07, 0.06, 0.0, 0.9, 0.01, 0.0, 0.0, 0.06, 0.0, 0.0, 0.0, 0.34, 0.0, 0.02, 0.03, 0.05, 0.2, 0.0, 0.05, 0.0, 0.09, 0.0, 0.12, 0.0, 0.0, 0.1, 0.0, 0.15, 0.03, 0.46, 0.0, 0.0, 0.0, 0.0, 0.0, 0.0, 0.0, 0.0, 0.23, 0.0, 0.0, 0.0, 0.02, 0.0, 0.04, 0.0, 0.0, 0.04, 0.0, 0.0, 0.0, 0.0, 0.0, 0.0, 0.0, 0.0, 0.0, 0.0, 0.0, 0.0, 0.0, 0.0, 0.0, 0.19, 0.0, 0.0, 0.0, 0.0, 0.0, 0.0, 0.0, 0.0, 0.03, 0.0, 0.0, 0.0, 0.0, 0.0, 0.0, 0.0, 0.02, 0.0, 0.0, 0.0, 0.0, 0.0, 0.0, 0.0, 0.0, None, 0.0, 0.0, 0.0, 0.28, 0.0, 0.0, None, 0.0, 0.0, 0.0, 0.0, 0.12, 0.05, 0.22, 0.12, 0.12, 0.38, 0.0, 0.04, 0.0, 0.0, 0.11, 0.0, 0.06, 0.0, 0.01, 0.02, 0.0, 0.01, 0.08, 0.2, 0.18, 0.0, 0.08, 0.0, 0.02, 0.0, 0.0, 0.01, 0.0, 0.03, 0.0, 0.0, 0.0, 0.0, 0.0, 0.0, 0.06, 0.0, 0.0, 0.0, 0.25, 0.0, 0.0, 0.0, None, None, 0.0, 0.0, 0.0, 0.35, 0.0, 0.0, None, 0.01, 0.0, 0.0, 0.09, 0.02, 0.02, 0.02, 0.32, 0.04, 0.03, 0.36, 0.39, 0.31, 0.57, 0.68, 0.5, 0.4, 0.34, 1.11, 0.68, 0.59, 1.09, 2.4, 0.5, 0.95, 0.37, 3.35, 0.09, 0.09, 0.0, 0.0, None, 0.11, 0.25, 0.0, 0.18, 0.0, 0.0, 0.0, 0.0, 0.0, 0.01, 0.0, 0.42, 0.0, 0.0, None, 0.0, None, 0.0, 0.01, 0.0, 0.05, 0.0, 0.01, 0.0, 0.01, 0.0, 0.59, 0.04, 0.01, 0.0, 0.09, 0.01, 1.15, 0.05, 0.03, 0.35, 0.0, 0.34, 0.07, 0.4, 0.0, 1.16, 0.0, 0.0, 0.0, 0.0, 0.02, 0.0, 0.0, 0.0, 0.0, 0.0, 0.08, 0.0, 0.0, 0.03, 0.0, 0.04, 0.0, 0.18, 0.05, 0.0, None, 0.0, 0.09, 0.0, 0.11, 0.04, 0.08, None, 0.0, 0.0, 0.26, 0.0, 0.04, 0.0, 0.1, 0.04, 0.38, 0.0, 0.02, None, 0.0, 0.02, 0.0, 0.62, 0.0, 0.07, 0.02, 0.02, 0.0, 0.13, 0.06, 0.12, 0.15, 0.39, 0.19, 0.21, 0.0, 1.35, 0.0, 0.04, 0.0, 0.34, 0.0, 0.17, 0.0, 0.06, 0.02, 0.18, 0.04, 0.32, 0.17, 0.1, 0.01, 0.85, 0.0, 0.0, None, None, 0.0, 0.0, 0.0, 0.0, 0.02, 0.14, 0.23, 0.17, 0.06, 1.16, 0.01, 0.04, 0.14, 0.08, 0.17, 0.0, 0.46, 0.05, 0.03, 0.1, 0.05, 0.09, 0.0, 0.15, 0.01, 0.01, 0.07, 0.07, 0.04, 0.16, 0.0, 0.01, 0.0, None, 0.0, 0.0, 0.0, 0.0, 0.0, 0.0, None, 0.0, 0.0, 0.0, 0.0, 0.0, 0.0, None, None, 0.0, 0.0, 0.0, 0.0, 0.0, 0.0, 0.0, 0.01, 0.01, 0.0, 0.0, 0.14, 0.01, 0.01, 0.0, 0.0, 0.07, 0.02, 0.2, 0.34, 0.04, 0.47, 0.15, 1.33, 1.4, None, 0.36, 0.27, 2.39, 0.1, 0.82, 0.2, 0.09, 0.16, None, 0.66, 0.9, 0.01, 0.01, 1.5, None, 0.03, 0.03, None, 0.11, 0.01, 0.39, 0.0, 1.11, 0.01, 0.0, None, None, 0.03, 0.01, 0.03, 0.29, 0.03, 1.16, 0.64, 0.27, 1.51, 0.0, 0.24, 0.4, 0.13, 0.26, 0.22, 0.26, 0.29, 0.88, 1.05, 1.45, 1.42, 1.7, 1.25, 0.6, 0.94, 0.0, 0.12, 0.2, 0.89, 0.06, 0.69, 0.03, 0.0, 0.0, 0.0, 0.0, None, 0.0, 0.01, 0.0, 0.0, 0.0, 0.1, 0.14, 0.05, None, 0.02, 0.18, 0.03, 0.0, 0.22, 0.0, 0.0, None, None, None, 0.02, 0.0, 0.0, 0.0, 0.0, 0.02, 0.0, 0.01, 0.0, 0.16, 0.0, 0.0, 0.05, 0.0, 0.18, 0.0, 0.0, 0.0, 0.0, None, 0.01, 0.0, 0.03, 0.0, 0.01, 0.2, 3.3, 3.33, None, 0.03, 1.44, 1.06, 0.05, 0.6, 0.0, 0.0, 0.0, None, 0.16, 0.01, 0.0, 0.01, 0.01, 0.82, 0.02, 0.0, None, None, 0.01, 0.03, 0.1, 0.08, 0.0, 0.0, 0.0, 0.02, 0.01, 0.0, 0.0, 1.72, 4.88, None, 0.3, 2.69, 0.0, 1.79, 0.0, 0.0, 0.0, 0.0, 0.0, 0.0, 0.1, 0.0, 0.0, 0.01, 0.01, 0.53, 0.0, 0.01, 0.05, None, 0.0, 0.09, 0.0, 0.07, 0.0, 0.0, 0.0, 0.2, 0.0, 0.01, 0.0, 0.84, 0.01, 0.2, 0.05, 0.0, 0.0, 0.0, 0.06, 0.0, 0.0, 0.02, 0.0, 0.04, 0.0, 0.0, None, None, 0.0, 0.13, 0.0, 0.0, 0.19, None, 0.71, 1.47, 0.04, 0.1, None, 1.54, 1.82, 0.98, 0.35, 0.1, 0.33, 0.34, 0.57, 1.0, 0.29, 0.98, 0.02, 0.13, 0.29, 0.03, 0.0, 0.02, 0.08, 0.04, 0.0, 0.23, None, 0.0, 0.02, 0.0, 0.0, None, 0.0, 0.0, 0.0, 1.3, 0.52, 0.3, 1.6, 0.18, 1.43, 0.15, 1.49, 1.29, 1.06, None, None, None, 0.95, 1.33, 1.14, 1.11, 0.0, 0.02, 0.0, 0.0, 0.29, 0.0, 0.0, 0.0, 0.0, 0.0, 0.0, 0.0, 0.0, 0.0, 0.0, None, 0.02, 0.0, 0.0, 0.0, 0.0, 0.0, 0.0, 0.0, None, 0.0, 0.0, 0.0, 0.0, 0.0, 0.0, 0.0, 0.0, None, 0.0, 0.0, 0.0, 0.01, 0.0, 0.0, 0.0, 0.0, None, 0.02, 0.0, 0.0, 0.23, 0.0, 0.22, 0.02, None, 0.0, None, 0.15, 0.07, 0.2, 0.2, 0.0, 0.02, 0.0, 0.0, 0.0, 0.0, 0.0, 0.01, 0.01, 0.02, 0.0, 0.18, 0.0, 0.0, 0.0, 0.0, 0.04, 0.0, 0.0, 0.0, 0.0, 0.0, 0.0, 0.0, 0.0, 0.03, 0.0, 0.0, 0.0, 0.0, 0.0, 0.0, 0.0, 0.08, 0.0, 0.0, 0.0, 0.0, 0.0, 0.0, 0.0, 0.0, 0.02, 0.0, 0.03, 0.0, 0.0, 0.0, 0.01, 0.0, 0.0, None, 0.0, 0.0, 0.0, 0.05, 0.0, 0.0, 0.0, 0.0, 0.0, 0.0, 0.19, 0.0, 0.0, 0.0, 0.0, 0.0, 0.0, 0.02, 0.0, 0.01, 0.1, 0.02, 0.0, 0.0, 0.04, 0.0, 0.43, 0.0, 0.01, 0.03, 0.03, 0.07, 0.0, 0.1, 0.0, 0.01, 0.03, 0.05, 0.07, 0.0, 0.03, 0.07, 0.07, 0.01, 0.03, 0.0, 0.0, 0.0, 0.27, None, 0.0, 0.0, 0.0, 0.0, 0.0, 0.03, 0.07, 0.19, 0.13, 0.03, 0.07, 0.0, 0.0, 0.0, 0.0, 0.0, 0.02, 0.0, 0.0, 0.0, 0.0, 0.02, 0.02, 0.03, 0.22, 0.17, 0.7, 0.1, 0.55, 0.31, 0.12, None, 5.21, 3.91, 6.3, 3.62, 8.81, 3.44, 2.27, 0.46, 0.54, 1.15, 1.34, 0.02, 0.44, 0.54, 0.09, 0.11, 0.61, 0.1, 0.73, 0.43, 0.34, 0.08, 0.09, 0.0, 0.0, 0.0, 0.0, None, 0.0, 0.0, 0.0, 0.0, 0.0, 0.0, 0.08, 0.0, 0.0, 0.0, 0.0, 0.0, 0.01, 0.0, 0.0, 0.01, 0.0, 0.0, 0.0, 0.02, 0.0, 0.02, 0.0, 0.02, 0.0, 0.0, 0.0, 0.01, 0.21, 0.13, 0.0, 0.14, 0.15, 0.16, 0.22, 0.0, 0.04, 0.0, 0.0, 0.15, 0.0, 0.08, 0.0, 0.09, 0.0, 0.0, 0.0, 0.0, None, 0.0, 0.0, 0.0, 0.05, 0.0, 0.01, 0.04, 0.0, 0.07, 0.0, 0.35, 0.0, 0.11, 0.0, 0.0, 0.01, 0.0, 0.03, 0.0, 0.42, 0.14, 0.03, 0.38, 0.0, 0.07, 0.0, 0.05, 0.0, 0.01, 0.1, 0.0, 0.01, 0.01, 0.11, 0.05, 0.27, 0.04, 0.02, 0.3, 0.06, 0.02, 0.01, 0.04, 0.06, 0.0, 0.19, 0.55, 0.63, 0.96, 0.07, 0.58, 1.67, 0.04, 0.13, 0.46, 0.15, 0.09, 0.13, 0.01, 0.02, None, 0.99, None, 0.74, 2.49, 3.0, 0.99, 2.95, 0.02, 3.14, 0.01, 0.0, 0.0, 0.0, 0.0, 0.02, 0.02, 0.05, 0.15, 0.0, 0.02, 0.02, 0.11, 0.23, 0.0, 0.0, 0.01, 0.05, 0.58, 0.02, 0.04, 0.04, 0.43, 0.49, 0.63, 0.71, 0.17, 1.44, 4.94, 2.55, 4.95, 3.06, 3.05, 5.04, 1.4, 3.18, 2.43, 2.86, 2.77, 4.0, 2.15, 0.0, 0.0, 0.0, 0.0, 0.0, 0.0, 0.0, 0.0, 0.0, 0.0, 0.0, 0.0, 0.0, 0.0, 0.0, 0.0, 0.0, 0.0, 0.0, 0.05, 0.0, 0.0, 0.0, 0.0, 0.0, 0.0, 0.0, 0.0, 0.1, 0.0, 0.0, 0.0, 0.0, 0.0, 0.0, 0.0, 0.0, 0.13, 0.04, 0.02, 0.01, 0.0, 0.0, 0.47, 0.65, 0.0, None, 0.02, 0.22, 0.0, 0.18, 0.0, 0.15, 0.01, 0.09, 0.31, 0.01, 0.45, 0.77, 0.62, 0.26, 1.5, 0.3, 0.89, 0.8, 0.58, 1.58, 1.95, 2.01, 1.75, 2.5, 2.02, 1.72, 1.8, 1.86, 0.0, 0.0, 0.12, 0.02, 1.43, 0.03, 0.07, 0.04, 0.0, 0.0, 0.0, 0.0, 0.0, 0.33, 0.15, 0.0, 0.0, 0.0, 0.0, 0.0, 0.0, 0.0, 0.02, 0.0, 0.0, 0.0, 0.0, 0.0, 0.0, 0.0, 0.0, 0.02, 0.0, 0.0, 0.0, 0.0, 0.0, 0.0, None, 0.0, 0.0, 0.0, 0.0, 0.0, 0.0, 0.0, 0.0, 0.0, 0.0, 0.19, 0.0, 0.16, 0.22, 0.78, 0.01, 0.47, 0.01, 1.59, 0.13, 0.06, 0.26, None, 0.02, 0.16, 0.0, 0.18, 0.04, 0.76, 0.03, 0.7, 0.03, 1.35, 0.13, 1.48, 0.0, 0.15, 0.01, 0.23, 0.0, 0.02, 0.0, 0.06, 0.0, 0.04, 0.22, 0.0, None, 0.03, 0.23, 0.02, 0.64, 0.0, 0.49, 0.54, 0.64, 0.43, 0.06, 1.09, 0.0, 0.03, 0.0, 0.01, 0.01, 0.0, 0.15, 0.0, None, 0.0, 0.0, 0.0, 0.1, 0.0, 0.16, 0.02, 0.13, 0.01, 0.46, 0.0, 0.0, 0.0, 0.01, 0.16, 0.0, 0.0, 0.0, 0.1, 0.0, 0.0, 0.0, 0.0, 0.07, 0.0, 0.0, 0.0, 0.0, 0.0, 0.02, None, 0.0, None, 0.0, 0.01, 0.02, 0.0, 0.0, 0.0, 0.05, 0.03, 0.0, 0.08, 0.03, 0.02, 0.01, 0.0, 0.0, 0.0, 0.0, None, 0.19, 0.16, 0.35, 0.35, 0.13, 0.19, 0.34, 0.22, 0.0, 0.0, 0.0, 0.0, 0.0, 0.0, 0.0, 0.0, 0.0, 0.0, 0.0, 0.0, 0.0, 0.0, 0.02, 0.01, 0.0, 0.01, 0.0, 0.02, 0.08, 0.0, 0.13, 0.04, 0.62, 0.35, 0.08, None, None, 0.03, 0.85, 0.01, 0.6, 0.02, 0.01, 0.0, 0.01, 0.0, 0.31, 0.0, 0.03, 0.1, 0.0, 0.18, 0.0, 0.21, 0.0, 0.0, 0.01, 0.0, None, 0.0, 0.03, 0.0, 0.1, 0.0, 0.0, 0.01, 0.0, 0.0, 0.01, 0.15, 0.23, 0.0, 0.0, 0.04, None, 0.0, 0.07, 0.0, 0.76, 0.0, 0.01, 0.01, 0.01, 0.0, 0.0, 0.0, 0.01, 0.0, 0.0, 0.0, 0.0, 0.0, 0.0, 0.0, 0.01, 0.0, 0.21, 0.14, 0.01, 0.47, 0.0, 0.54, 0.0, 0.1, 0.35, 0.16, 0.61, 0.0, 4.56, 0.0, 0.07, 0.09, 0.0, 0.08, 0.03, 0.57, 0.0, 2.64, None, 0.39, 0.18, 0.0, 0.12, 1.34, 1.21, 0.1, 3.79, 0.0, 0.13, None, 0.25, 0.42, 1.13, 0.0, 0.06, 0.01, 0.1, 0.03, 0.03, 0.0, 0.03, 0.47, 0.01, 0.42, None, None, 0.21, 0.24, 0.13, 0.01, 2.03, 0.0, 0.0, 0.0, 0.0, 0.13, 0.01, 0.28, 0.02, 0.11, 0.07, 0.26, 0.41, 0.02, 1.9, 0.03, 0.1, 0.28, 0.0, 0.1, 0.03, 0.03, 0.0, 0.24, 0.06, 0.09, 0.12, 0.0, 0.38, 0.02, 0.18, 0.01, 0.7, 0.05, 0.06, 0.11, 0.0, 0.4, 0.09, 0.09, 0.01, 1.06, 0.07, 0.16, 0.04, 0.03, 1.1, 0.11, 0.27, 0.02, 0.68, 0.0, 0.0, 0.0, 0.0, 0.0, 0.0, 0.0, 0.0, 0.0, 0.0, 0.0, 0.0, None, 0.0, 0.0, 0.0, 0.0, 0.0, 0.0, 0.0, 0.0, 0.02, 0.0, 0.0, 0.0, 0.0, 0.0, 0.0, None, 0.0, 1.16, 0.0, 0.21, 0.0, 0.04, 0.82, 0.0, 0.0, 1.91, 0.0, 0.39, 0.0, 0.0, 0.0, 0.0, None, 0.0, 0.0, 0.0, 0.0, 0.07, 0.0, 0.01, 0.0, 0.0, 0.2, 0.0, 4.01, 0.0, 0.02, 0.0, 0.0, 0.0, 0.03, 0.0, 0.07, 0.0, 0.16, None, None, 0.06, 0.0, 0.0, 0.21, 0.0, 0.0, 0.0, 0.0, 0.0, 0.08, 0.0, 0.0, 0.0, 0.0, 0.0, 0.0, 0.0, 0.01, 0.0, 0.0, 0.0, None, 0.0, 0.0, 0.0, 0.04, 0.0, 0.02, 0.01, 0.0, 0.0, 0.06, 0.0, 0.05, 0.0, 0.06, 0.03, 0.04, 0.13, 0.0, 0.0, 0.25, 0.0, 0.04, 0.04, 0.01, 0.02, 0.0, 0.41, 0.0, 0.03, 0.03, 0.01, 0.05, 0.0, 0.0, 0.0, 0.0, 0.0, 0.0, 0.0, 0.0, 0.0, 0.0, 0.0, 0.0, 0.0, 0.01, 0.0, 0.0, 0.0, 0.0, 0.0, 0.0, 0.0, 0.0, 0.03, 0.0, 0.0, 0.0, 0.0, 0.0, 0.0, 0.0, 0.0, 0.01, 0.0, 0.16, 0.0, 0.0, 0.0, 0.07, 0.02, 0.0, 0.02, 0.0, 0.22, 0.0, 0.21, 0.06, 0.06, 0.11, 0.01, 0.53, 0.0, 0.08, 0.01, 0.24, 0.0, 0.07, 0.01, 0.03, 0.01, 0.09, 0.0, 0.03, 0.03, 0.16, 0.09, 0.02, 0.05, 1.15, 0.0, 1.27, 0.31, 0.43, 0.3, 0.25, 0.43, 0.77, 0.19, 3.14, 0.57, 0.02, 0.03, None, 0.24, 0.44, 0.0, 1.18, 0.0, 0.0, 0.0, 0.0, 0.0, 0.0, 0.0, 0.0, 0.01, 0.0, 0.0, 0.0, 0.0, 0.0, 0.0, 0.0, None, 0.0, 0.0, 0.0, 0.0, 0.02, 0.0, 0.0, 0.0, 0.0, None, 0.0, 0.0, 0.0, 0.0, 0.0, 0.0, 0.0, 0.05, 0.0, 0.0, 0.57, 0.0, 0.0, 0.0, 0.0, 0.0, 0.06, 0.0, 0.0, 0.0, 0.0, 0.33, 0.57, 0.01, 0.05, 0.18, 0.89, 0.35, 0.86, 0.04, 0.5, 0.41, 0.04, 0.11, 0.22, 0.39, 0.08, 0.42, 0.0, 0.02, 0.01, 0.26, None, 0.04, 0.0, 0.0, 0.04, 0.0, 0.03, 0.03, 0.01, 0.06, 0.05, 0.02, 0.26, 0.0, 0.08, 0.06, 0.07, 0.19, 0.0, 0.58, 0.03, 0.0, 0.03, 0.01, 0.04, 0.0, 0.19, 0.0, 0.0, 0.03, 0.0, 0.0, 0.0, 0.0, 0.0, 0.0, 0.0, 0.01, 0.02, 0.02, 0.01, 0.0, 0.0, 0.0, 0.21, 0.0, 0.0, 0.01, 0.0, 0.0, 0.0, 0.02, 0.0, 0.04, 0.0, 0.01, 0.04, 0.0, 0.0, 0.0, 0.06, 0.0, 0.27, 0.0, 0.0, 0.0, 0.0, 0.02, 0.0, 0.0, 0.0, 0.0, 0.0, 0.0, 0.0, None, 0.01, 0.0, 0.0, 0.0, 0.05, 0.02, 0.0, 0.18, 0.05, 0.0, 0.24, 0.0, 0.03, 0.01, 0.0, 0.02, 0.17, 0.01, 0.0, 0.18, 0.0, 0.01, 0.04, 0.0, None, 0.02, 0.01, 0.0, 0.01, 0.0, 0.01, 0.05, 0.0, 0.07, 0.15, 0.0, 0.28, 0.06, 0.03, 0.1, 0.0, 0.04, 0.23, 0.16, 0.02, 1.51, 0.0, 0.01, 0.03, 0.0, 0.02, 0.11, 0.0, 0.38, 0.0, 0.08, 0.11, 0.02, 0.01, 0.16, 0.0, 0.07, 0.01, 0.04, 0.0, 0.04, 0.02, 0.04, 0.32, 0.04, 0.29, 0.11, 0.08, None, 0.27, 0.26, 0.0, 0.52, 0.02, 0.03, 0.06, 0.05, 0.14, 0.16, 0.0, 0.54, 0.0, 0.0, 0.01, 0.0, 0.03, 0.0, 0.01, 0.0, 0.21, 0.0, 0.0, 0.0, 0.0, 0.12, 0.02, 0.16, 0.0, 0.21, 0.0, 0.02, 0.0, 0.0, 0.25, 0.0, 0.01, 0.0, 0.18, 0.0, 0.1, 0.1, 0.38, 0.05, 0.19, 0.0, 1.0, 0.04, 0.0, 0.01, None, 0.0, 0.0, 0.0, 0.41, 0.0, 0.21, 0.15, 0.06, 0.01, 0.12, 0.0, 1.13, 0.03, 0.05, 0.08, 0.04, 0.12, 0.06, 0.05, 0.0, 0.61, 0.04, 0.25, 0.02, 0.04, None, 0.06, 0.19, 0.01, 0.45, 0.0, 0.08, 0.0, 0.0, 0.0, 0.0, 0.0, 0.41, 0.01, 0.0, 0.0, 0.0, None, 0.0, 0.0, 0.0, 0.06, 0.0, 0.02, 0.0, 0.01, 0.0, 0.0, 0.02, 0.0, 0.0, 0.0, 0.01, 0.0, 0.0, 0.06, 0.0, 0.01, 0.01, 0.0, 0.02, 0.02, 0.0, 0.24, 0.0, 0.06, 0.13, 0.0, 0.01, 0.04, 0.43, 0.0, 0.12, 0.0, 0.08, 0.05, 0.0, 0.02, 0.02, 0.05, 0.0, 0.08, 0.05, 0.24, 0.0, 0.0, None, 0.0, 0.31, 0.02, 0.88, 0.0, 0.12, 0.14, 0.0, 0.08, 0.21, 0.0, 0.42, 0.01, 0.0, 0.0, 0.02, 0.0, 0.0, 0.0, 0.0, 0.0, 0.0, 0.0, 0.0, 0.0, 0.0, 0.0, 0.19, 0.01, 0.0, None, 0.04, 0.08, 0.0, 0.14, 0.0, 0.02, 0.01, 0.05, 0.0, 0.02, 0.0, 0.03, 0.0, 0.0, 0.01, 0.0, 0.12, 0.06, 0.0, 0.1, 0.13, 0.0, 0.0, 0.0, 0.0, 0.03, 0.0, 0.0, 0.0, 0.03, 0.0, 0.04, 0.04, 0.0, None, 0.0, 0.12, 0.0, 0.09, 0.0, 0.1, 0.07, 0.0, 0.12, 0.01, 0.82, 0.0, 0.05, 0.09, 0.06, 0.01, 0.17, 0.0, 0.18, 0.03, 0.0, 0.0, 0.02, 0.03, 0.09, 0.16, 0.01, 0.35, 0.08, 0.13, 0.29, 0.09, 0.36, 0.09, 0.11, 0.04, 0.93, 0.07, 0.12, 0.05, 0.04, 0.25, 0.26, 0.28, 0.0, 1.89, 0.02, 0.04, 0.04, 0.23, 0.01, 0.08, 0.02, 0.0, 0.58, 0.01, 0.15, 0.11, 0.0, None, 0.19, 0.27, 0.0, 1.45, 0.04, 0.16, 0.25, 0.16, 0.14, 0.0, 0.52, 0.02, 0.02, 0.01, 0.09, 0.04, 0.0, 0.05, 0.0, 0.01, 0.06, 0.0, 0.0, 0.0, 0.29, 0.0, 0.02, 0.0, 0.0, 0.02, 0.0, 0.38, 0.0, 0.46, 0.03, 0.01, 0.0, 0.16, 0.0, 0.02, 0.0, 0.03, 0.43, None, 0.0, 0.01, 0.0, 0.1, 0.0, 0.0, 0.0, 0.0, 0.0, 0.0, 0.0, 0.0, 0.0, 0.0, 0.0, 0.0, 0.0, 0.0, 0.0, 0.0, 0.35, 0.0, 0.04, 0.09, 0.07, 0.0, 0.0, 0.07, 0.0, 1.0, 0.0, 0.15, 0.11, 0.0, 0.0, 0.19, 0.0, 0.07, 0.0, 0.0, 0.0, 0.0, 0.06, 0.0, 0.0, 0.05, 0.21, 0.17, 0.07, 0.0, 0.1, 0.02, 1.23, 0.04, 0.12, 0.14, 0.0, 0.0, 0.02, 0.01, 0.35, 0.0, 0.05, None, 0.07, 0.31, 0.0, 2.14, 0.02, 0.04, 0.08, 0.04, 0.02, 0.46, None, 0.02, 0.02, 0.0, 0.04, 0.03, 0.01, 0.0, 0.19, 0.04, 0.13, 0.0, None, 0.03, 0.14, 0.01, 0.24, 0.45, 0.03, 0.0, 0.04, 0.2, 0.01, 0.48, 0.0, 0.01, 0.0, None, 0.0, 0.62, 0.0, 0.0, 0.0, 0.0, 0.0, 0.0, 0.0, None, 0.25, 0.0, 0.02, 0.01, 0.0, 0.0, 0.31, 0.09, 0.09, 0.06, 0.44, 0.1, 0.19, 0.01, 0.75, 0.06, 0.04, 0.01, 0.08, None, 0.06, 0.02, 0.15, 0.75, 0.03, 0.04, 0.14, 0.05, 0.02, 0.06, 0.03, 0.9, 0.08, 0.11, 0.09, 0.03, 0.11, 0.21, 0.21, 0.02, 1.05, 0.08, 0.05, 0.15, None, 0.41, 0.08, 0.14, 0.1, 1.01, 0.06, 0.03, 0.0, 0.03, 0.01, 0.08, 0.01, 0.14, 0.05, 0.07, 0.08, 0.09, 0.05, 0.38, 0.0, 0.44, 0.09, 0.06, 0.16, 0.84, 0.09, 0.38, None, 1.81, 0.05, 0.14, 0.32, 0.02, 0.2, 0.14, 0.23, 0.7, 0.01, 0.01, 0.02, 0.0, 0.09, 0.13, 0.0, 0.44, 0.0, 0.03, 0.03, 0.0, 0.04, 0.0, 0.0, 0.03, 0.71, 0.0, 0.0, 0.06, 0.0, 0.1, 0.0, 0.05, 0.02, 0.02, 0.0, 0.11, 0.18, 0.0, None, 0.0, 0.0, 0.0, 0.16, 0.0, 0.03, None, 0.05, 0.09, 0.37, 0.02, 0.24, 0.08, 0.41, 0.0, 0.88, 0.0, 0.05, 0.12, 0.1, 0.3, 0.08, 0.09, 0.02, 0.79, 0.0, 0.01, 0.05, 0.02, 0.28, 0.0, 0.07, 0.0, 0.26, 0.0, 0.0, 0.0, 0.0, 0.11, 0.0, 0.02, 0.0, 0.04, 0.0, 0.0, 0.0, 0.02, None, 0.0, 0.0, 0.0, None, 0.0, 0.01, 0.0, 0.0, 0.0, 0.0, 0.0, 0.0, 0.02, 0.0, 0.03, 0.0, 0.0, 0.0, 0.0, 0.13, 0.04, 0.02, 0.0, 0.33, 0.05, None, 0.0, 0.06, 0.03, 0.05, 0.3, 0.14, 0.19, 0.04, 0.0, 0.02, 0.0, 0.0, 0.0, 0.0, 0.02, 0.0, 0.05, 0.0, 0.01, 0.0, 0.0, 0.0, 0.0, 0.0, None, 0.0, 0.0, 0.03, 0.0, None, 0.0, 0.11, 0.0, 0.0, 0.06, 0.06, 0.0, 0.06, 0.0, None, 0.0, 0.01, 0.0, 0.01, 0.0, 0.04, 0.0, 0.0, 0.03, 0.0, 0.0, 0.0, 0.0, 0.0, 0.0, 0.0, 0.0, 0.0, 0.0, 0.0, 0.0, 0.02, 0.0, 0.0, 0.0, 0.0, 0.0, 0.0, 0.0, 0.0, 0.0, 0.0, None, 0.0, 0.0, 0.0, 0.0, 0.0, 0.0, 0.0, 0.0, 0.01, 0.0, 0.0, 0.27, 0.0, 0.02, 0.09, 0.0, 0.0, 0.12, 0.05, 0.44, 0.0, 0.0, 0.0, 0.0, 0.0, 0.0, 0.0, 0.13, 0.0, 0.0, 0.0, 0.0, 0.0, 0.0, 0.0, 0.09, 0.0, 0.0, 0.0, 0.0, 0.0, 0.0, 0.0, 0.0, 0.01, 0.0, 0.0, 0.0, 0.14, 0.0, 0.0, 0.0, 0.0, 0.1, 0.01, 0.0, 0.0, 0.0, 0.03, 0.0, 0.03, 0.0, 0.0, 0.0, 0.03, 0.01, 0.0, None, 0.03, 0.0, 0.0, 0.08, 0.0, 0.02, 0.0, 0.0, 0.04, 0.0, None, 0.0, 0.0, 0.04, 0.0, 0.01, None, 0.0, 0.01, 0.0, 0.0, 0.8, 0.0, 0.0, 0.0, 0.0, 0.0, 0.0, 0.0, 0.0, 0.0, 0.0, 0.0, 0.0, 0.0, 0.0, 0.05, 0.02, 0.08, 0.11, 0.0, 0.02, 0.08, 0.09, 0.01, 0.27, 0.0, 0.09, 0.13, 0.0, 0.04, 0.0, 0.33, 0.0, 0.83, 0.0, 0.07, 0.12, 0.15, 0.06, 0.22, 0.0, None, 0.05, 0.04, 0.11, 0.6, 0.05, 0.28, 0.0, 0.0, 0.05, 0.01, 0.04, 0.0, 0.18, 0.0, 0.01, None, 0.05, None, 0.03, 0.45, 0.0, 0.02, 0.01, 0.38, 0.08, 0.02, 0.56, 0.01, 0.28, 0.03, 0.67, 0.0, 0.0, 0.0, 0.0, None, 0.0, 0.0, 0.0, 0.0, 0.0, 0.0, 0.0, 0.0, 0.0, 0.0, 0.0, 0.0, 0.0, 0.0, 0.0, None, 0.03, 0.03, 0.01, 0.0, 0.1, 0.03, 0.1, 0.0, 0.06, 0.13, 0.02, 0.61, 0.0, 0.06, 0.1, 0.05, 0.14, 0.0, 0.25, 0.0, 0.0, 0.0, 0.0, 0.02, 0.0, 0.0, 0.0, 0.0, 0.0, 0.01, 0.02, None, 0.04, 0.06, 0.0, 0.32, 0.01, 0.03, 0.0, 0.06, 0.08, 0.02, 0.0, None, 0.0, 0.0, 0.01, 0.0, 0.07, 0.0, 0.06, 0.0, 0.0, 0.0, 0.04, 0.0, 0.06, 0.0, 0.0, 0.0, 0.55, 0.0, 0.0, 0.0, 0.25, 0.0, 0.0, 0.0, 0.0, 0.0, 0.01, None, None, 0.05, 0.01, 0.02, 0.06, 0.05, 0.08, 0.08, 0.01, 0.16, 0.01, 0.24, 0.0, 0.0, 0.0, 0.0, 0.0, 0.01, 0.01, 0.08, 0.01, 0.0, 0.0, 0.02, 0.03, 0.0, 0.0, 0.0, 0.01, 0.08, 0.07, 0.0, 0.0, 0.04, 0.07, 0.11, 0.01, 0.21, 0.2, 0.89, 0.75, None, 0.87, 0.46, 1.06, 0.98, 0.14, 0.03, 0.03, 0.02, 0.0, 0.12, 0.11, 0.15, 0.37, 0.0, 0.02, 0.24, 0.29, 0.0, 0.39, 0.0, 0.31, 0.0, 0.02, 0.02, None, 0.0, 0.17, 0.04, 0.92, 0.01, 0.01, 0.03, 0.07, 0.08, 1.29, 0.0, 0.07, 0.09, None, 0.03, 0.04, 0.0, 0.49, 0.01, 0.02, 0.0, 0.0, 0.0, 0.0, 0.0, 0.0, 0.0, 0.0, 0.0, 0.0, 0.0, 0.0, 0.0, 0.0, 0.0, 0.01, 0.0, 0.0, 0.0, 0.08, 0.0, 0.15, 0.01, 0.01, 0.02, 0.0, 0.0, 0.17, 0.02, 0.13, 0.05, 0.1, 0.14, 0.18, 0.01, None, 0.0, 0.0, 0.07, 0.54, 0.04, 0.02, 0.0, 0.01, 0.0, 0.06, None, 0.1, 0.13, 0.0, 0.17, 0.04, 0.06, 0.18, 0.12, 0.02, 0.0, 0.68, 0.0, 0.01, 0.0, 0.0, 0.0, 0.0, 0.01, 0.0, 0.0, 0.0, 0.2, 0.0, 0.0, 0.0, 0.03, 0.0, 0.02, 0.0, 0.01, 0.02, 0.03, 0.0, 0.03, 0.01, 0.03, 0.02, None, 0.02, 0.0, 0.0, 0.06, 0.0, 0.0, 0.0, 0.0, 0.0, 0.0, 0.0, 0.07, 0.0, 0.03, 0.02, 0.14, 0.0, 0.0, 0.0, 0.06, 0.02, None, 0.13, 0.02, 0.0, 0.93, 0.01, 0.01, 0.0, 0.0, 0.0, 0.01, 0.02, 0.01, 0.03, 0.09, None, 0.01, 0.02, 0.0, 1.04, 0.0, 0.03, 0.05, 0.0, 0.14, 0.0, 0.4, 0.01, 0.24, 0.04, 0.8, 0.0, 0.01, 0.01, 0.5, 0.0, 0.0, 0.32, 0.47, 0.0, 0.1, 0.87, 0.35, 0.51, 0.05, 2.12, 0.2, 3.99, 0.01, 1.43, 0.01, 0.07, 0.15, 0.3, 0.03, 0.16, 0.0, 1.83, 0.27, 0.19, 0.1, 1.8, 0.1, 0.57, 0.01, 0.87, 0.15, 0.13, None, 0.87, 0.12, 0.11, 0.12, 2.56, 0.17, 0.03, 0.53, 0.19, 0.18, 0.0, 0.92, 0.01, 0.02, 0.05, None, 0.0, 0.11, 0.0, 0.19, 0.0, 0.01, 0.02, 0.03, 0.03, 0.0, 0.04, 0.0, 0.02, 0.04, 0.0, 0.0, 0.0, 0.08, 0.0, 0.02, 0.03, 0.04, 0.01, 0.03, 0.01, 0.49, 0.0, 0.0, 0.01, 0.13, 0.0, 0.01, 0.0, 0.02, 0.0, 0.01, 0.0, None, 0.05, 0.0, 0.0, 0.0, 0.0, 0.01, 0.0, 0.02, 0.0, 0.0, 0.0, None, 0.02, 0.03, 0.02, 0.12, 0.0, 0.91, 0.01, 0.13, 0.12, 0.06, 0.0, 0.35, 0.0, 0.03, 0.02, None, 0.01, 0.02, 0.0, 0.07, 0.0, 0.0, 0.0, 0.0, 0.0, 0.01, 0.0, 0.0, 0.0, 0.0, 0.0, 0.0, 0.0, 0.0, 0.0, 0.0, 0.0, None, 0.0, 0.05, 0.0, 1.0, 0.01, 0.0, 0.0, 0.0, 0.0, 0.18, 0.08, 0.07, None, 0.03, 0.19, 0.0, 0.01, 0.0, 0.44, 0.54, 0.74, 0.69, 0.01, 0.11, 0.0, 0.4, None, 0.05, 0.19, 0.0, 1.32, 0.16, 0.46, 0.35, 0.5, 0.06, 2.2, 0.06, 0.16, 0.03, 0.13, 0.13, 0.23, 0.01, 0.83, 0.0, 0.0, 0.0, 0.02, 0.0, 0.0, 0.0, 0.1, 0.0, 0.0, 0.03, 0.0, 0.0, 0.1, 0.0, 0.03, 0.02, 0.04, 0.0, 0.12, 0.0, 0.03, None, 0.09, 0.32, None, 0.04, 0.01, 0.0, 0.68, 0.04, 0.03, 0.12, 0.45, 0.01, 0.14, 0.06, 0.05, 0.03, 0.23, 0.0, 0.04, 0.06, 0.24, 0.43, 0.34, None, 0.64, 0.02, 0.53, 0.08, 0.7, 0.0, 0.0, 0.17, 0.0, 0.08, 0.0, 0.35, 0.03, 0.09, 0.06, 1.08, 0.02, 0.51, 0.0, 0.9, 0.08, 0.21, 0.22, None, 0.12, 0.33, 0.03, 1.33, 0.12, 0.33, 0.48, 0.15, 0.4, 0.04, 1.41, 0.0, 0.0, 0.01, 0.0, 0.0, 0.0, 0.12, 0.0, 0.0, 0.0, 0.0, 0.0, 0.0, 0.0, 0.0, 0.01, 0.04, 0.01, None, 0.01, 0.01, 0.0, 0.12, 0.0, 0.0, 0.19, 0.12, None, 0.2, 0.0, 0.01, 0.0, 0.02, 0.0, 0.0, 0.0, 0.01, 0.0, 0.01, 0.0, 0.0, 0.02, 0.0, 0.0, 0.0, 0.0, 0.0, 0.0, 0.01, 0.0, 0.0, 0.0, 0.0, 0.0, 0.0, None, 0.03, 0.0, 0.0, 0.0, 0.0, 0.87, 0.14, 0.22, 0.0, None, 0.0, 0.04, 0.01, 0.16, 0.01, 0.0, 0.03, 0.17, 0.1, 0.19, 0.57, 0.0, 0.55, None, 0.05, None, 0.2, 0.02, 0.0, 0.42, 0.0, 0.0, 0.0, 0.0, 0.0, 0.0, 0.02, 0.01, 0.01, 0.0, 0.0, 0.02, 0.0, 0.0, 0.0, 0.0, 0.0, 0.0, 0.0, 0.0, 0.0, 0.0, 0.0, 0.0, 0.0, 0.0, 0.0, 0.0, 0.01, 0.0, 0.0, 0.0, 0.02, 0.01, None, 0.06, 0.0, 0.06, 0.03, 0.62, 0.02, None, 0.07, 0.08, 0.0, 0.65, 0.0, 0.0, 0.0, 0.0, 0.0, 0.0, 0.0, 0.0, 0.0, 0.0, 0.0, 0.0, 0.0, 0.0, 0.0, 0.0, 0.0, 0.0, 0.0, 0.0, 0.0, 0.0, 0.0, 0.0, 0.0, 0.0, 0.01, 0.0, 0.0, 0.0, 0.06, 0.02, 0.0, 0.0, 0.0, 0.04, 0.0, 0.0, 0.01, 0.04, 0.02, 0.0, 0.09, 0.01, 0.0, 0.01, 0.0, 0.0, 0.0, 0.0, None, 0.31, 0.87, 0.44, 0.37, 0.55, 0.67, 0.0, None, 0.0, 0.0, 0.0, 0.05, 0.01, 0.01, 0.0, 0.02, 0.0, 0.01, 0.03, 0.28, 0.05, 0.69, 0.01, 1.1, None, 1.7, 2.75, 2.17, 0.4, 0.33, 0.19, 1.15, 0.75, 0.0, 0.1, 0.0, 0.19, 0.01, 0.09, 0.37, 0.07, 0.12, 0.12, 0.21, 0.28, 0.31, 0.25, 0.31, 0.04, 0.0, 0.13, 0.01, 0.01, 0.03, 0.03, 0.0, 0.0, None, 0.0, 0.0, 0.0, 0.0, 0.01, 0.0, 0.0, 0.0, 0.0, 0.01, 0.0, 0.0, 0.0, 0.0, 0.0, 0.0, 0.0, 0.0, 0.0, 0.0, 0.0, 0.0, 0.0, 0.04, 0.13, 0.16, 0.0, 0.32, 0.0, 0.01, 0.0, 0.0, 0.0, 0.0, 0.0, 0.0, 0.0, 0.0, 0.0, 0.0, 0.0, 0.0, 0.0, 0.0, None, 0.0, 0.0, 0.0, 0.0, 0.0, 0.0, 0.0, 0.0, 0.0, 0.0, 0.0, 0.0, 0.0, 0.0, 0.0, 0.0, 0.0, 0.0, 0.0, 0.0, 0.0, 0.0, 0.0, 0.0, 0.0, 0.0, 0.0, 0.0, 0.0, 0.02, 0.0, 0.0, 0.0, 0.0, 0.0, 0.0, 0.02, 0.0, 0.0, 0.0, 0.0, 0.01, 0.03, 0.14, 0.48, 0.03, 0.05, 0.14, 0.0, 0.0, 0.01, 0.0, 0.0, 0.0, 0.01, 0.0, 0.0, 0.01, 0.01, 0.0, 0.0, 0.0, 0.0, 0.01, 0.03, 0.02, 0.0, 0.0, 0.0, 0.06, 0.38, None, 0.7, 0.17, 0.04, 0.3, None, 0.02, 0.11, 0.01, 0.08, 0.36, 0.0, 0.02, 0.01, 0.0, 0.0, 0.0, 0.0, 0.0, 0.01, 0.0, 0.0, 0.0, 0.0, 0.0, 0.0, 0.0, 0.0, 0.0, 0.0, 0.0, 0.0, 0.0, 0.02, 0.0, 0.0, 0.0, 0.0, 0.08, 0.28, 0.21, 0.15, 0.15, 0.05, 0.14]\n"
     ]
    }
   ],
   "source": [
    "print(precip)"
   ]
  },
  {
   "cell_type": "code",
   "execution_count": null,
   "metadata": {},
   "outputs": [],
   "source": []
  }
 ],
 "metadata": {
  "kernel_info": {
   "name": "python3"
  },
  "kernelspec": {
   "display_name": "Python 3",
   "language": "python",
   "name": "python3"
  },
  "language_info": {
   "codemirror_mode": {
    "name": "ipython",
    "version": 3
   },
   "file_extension": ".py",
   "mimetype": "text/x-python",
   "name": "python",
   "nbconvert_exporter": "python",
   "pygments_lexer": "ipython3",
   "version": "3.7.6"
  },
  "nteract": {
   "version": "0.12.3"
  },
  "varInspector": {
   "cols": {
    "lenName": 16,
    "lenType": 16,
    "lenVar": 40
   },
   "kernels_config": {
    "python": {
     "delete_cmd_postfix": "",
     "delete_cmd_prefix": "del ",
     "library": "var_list.py",
     "varRefreshCmd": "print(var_dic_list())"
    },
    "r": {
     "delete_cmd_postfix": ") ",
     "delete_cmd_prefix": "rm(",
     "library": "var_list.r",
     "varRefreshCmd": "cat(var_dic_list()) "
    }
   },
   "types_to_exclude": [
    "module",
    "function",
    "builtin_function_or_method",
    "instance",
    "_Feature"
   ],
   "window_display": false
  }
 },
 "nbformat": 4,
 "nbformat_minor": 4
}
